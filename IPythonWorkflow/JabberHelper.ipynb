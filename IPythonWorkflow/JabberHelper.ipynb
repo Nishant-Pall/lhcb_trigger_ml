{
 "metadata": {
  "name": ""
 },
 "nbformat": 3,
 "nbformat_minor": 0,
 "worksheets": [
  {
   "cells": [
    {
     "cell_type": "code",
     "collapsed": false,
     "input": [
      "import sys, os, time\n",
      "# if you don't have xmpp python module you can either install it\n",
      "# from egg: http://sourceforge.net/projects/xmpppy/files/\n",
      "# or just don't use JabberHelper.ipynb - it isn't mandatory component\n",
      "import xmpp\n",
      "\n",
      "def SendJabber(toJid, text):\n",
      "    \"\"\"To use this function xmpppy is needed, \n",
      "    http://xmpppy.sourceforge.net/\n",
      "    Can be installed on ubuntu with\n",
      "    apt-get install python-xmpp\n",
      "    \n",
      "    The credentials are kept in the ~/.xsend file \n",
      "    (will be created automatically after first call)\n",
      "    \n",
      "    Example:\n",
      "    SendJabber(\"my@jabber.com\", \"Analysis is complete, IPython\")\n",
      "    Tested with yandex jabber, seems not to work with google accounts\n",
      "    (google doesn't support jabber anymore)\n",
      "    \"\"\"\n",
      "\n",
      "    jidparams={}\n",
      "    if os.access(os.environ['HOME']+'/.xsend',os.R_OK):\n",
      "        for ln in open(os.environ['HOME']+'/.xsend').readlines():\n",
      "            if not ln[0] in ('#',';'):\n",
      "                key,val=ln.strip().split('=',1)\n",
      "                jidparams[key.lower()]=val\n",
      "    for mandatory in ['jid','password']:\n",
      "        if mandatory not in jidparams.keys():\n",
      "            open(os.environ['HOME']+'/.xsend','w').write(\n",
      "                    '#Uncomment fields before use and type in correct credentials.\\n'\n",
      "                    + '#JID=romeo@montague.net/resource (/resource is optional)\\n#PASSWORD=juliet\\n')\n",
      "            print 'Please fill ~/.xsend config file to valid JID for sending messages.'\n",
      "            print 'The file is placed: ', os.environ['HOME']+'/.xsend'\n",
      "            sys.exit(0)\n",
      "            \n",
      "    SendJabberMessageWithPass(jidparams['jid'], jidparams['password'], toJid, text)\n"
     ],
     "language": "python",
     "metadata": {},
     "outputs": [],
     "prompt_number": 1
    },
    {
     "cell_type": "code",
     "collapsed": false,
     "input": [
      "def SendJabberMessageWithPass(fromJid, password, toJid, text):\n",
      "    \"\"\"A much worth way: each time needs a password, \n",
      "    use SendJabber function instead\n",
      "    ATTENTION\n",
      "    Make sure not publish code anywhere if you use this function,\n",
      "    because your password will be published too.\n",
      "    \"\"\"\n",
      "    \n",
      "    jid = xmpp.protocol.JID(fromJid)\n",
      "    cl  = xmpp.Client(jid.getDomain(),debug=[])\n",
      "\n",
      "    con = cl.connect()\n",
      "    if not con:\n",
      "        print 'could not connect!'\n",
      "        sys.exit()\n",
      "    print 'connected with', con\n",
      "    auth=cl.auth(jid.getNode(), password, resource=jid.getResource())\n",
      "    if not auth:\n",
      "        print 'could not authenticate!'\n",
      "        sys.exit()\n",
      "    print 'authenticated using', auth\n",
      "\n",
      "    #cl.SendInitPresence(requestRoster=0)   # you may need to uncomment this for old server\n",
      "    id = cl.send(xmpp.protocol.Message(toJid, text))\n",
      "    #print tojid, text\n",
      "    print 'sent message with id', id\n",
      "\n",
      "    #time.sleep(1)   # some older servers will not send the message \n",
      "                     # if you disconnect immediately after sending\n",
      "\n",
      "    #cl.disconnect()\n",
      "    \n"
     ],
     "language": "python",
     "metadata": {},
     "outputs": [],
     "prompt_number": 14
    },
    {
     "cell_type": "code",
     "collapsed": false,
     "input": [
      "# Try this with your jabber account\n",
      "# SendJabber(\"youraccount@yandex.ru\", \"Notification! Works with russian text too: \u041f\u0440\u0438\u0432\u0435\u0442\")"
     ],
     "language": "python",
     "metadata": {},
     "outputs": [
      {
       "output_type": "stream",
       "stream": "stdout",
       "text": [
        "connected with tls\n",
        "authenticated using"
       ]
      },
      {
       "output_type": "stream",
       "stream": "stdout",
       "text": [
        " sasl\n",
        "sent message with id 11\n"
       ]
      }
     ],
     "prompt_number": 17
    }
   ],
   "metadata": {}
  }
 ]
}