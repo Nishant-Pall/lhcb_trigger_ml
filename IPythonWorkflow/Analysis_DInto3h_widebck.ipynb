{
 "metadata": {
  "name": "",
  "signature": "sha256:0267900dba85705552698489472152abc0271d113d3a6bc12410a48863a3c9f6"
 },
 "nbformat": 3,
 "nbformat_minor": 0,
 "worksheets": [
  {
   "cells": [
    {
     "cell_type": "markdown",
     "metadata": {},
     "source": [
      "## About\n",
      "This notebook is devoted to analysis of decay $D \\to hhh$\n",
      "\n",
      "We're looking at efficiency of background."
     ]
    },
    {
     "cell_type": "code",
     "collapsed": false,
     "input": [
      "import pandas, numpy, reports, commonutils, uboost\n",
      "import uniformgradientboosting as ugb\n",
      "from supplementaryclassifiers import HidingClassifier\n",
      "from sklearn.tree import DecisionTreeClassifier\n",
      "from sklearn.ensemble import AdaBoostClassifier\n",
      "from IPython.display import display_html\n",
      "import root_numpy\n",
      "from config import ipc_profile"
     ],
     "language": "python",
     "metadata": {},
     "outputs": [
      {
       "output_type": "stream",
       "stream": "stdout",
       "text": [
        "\n"
       ]
      }
     ],
     "prompt_number": 1
    },
    {
     "cell_type": "code",
     "collapsed": false,
     "input": [
      "def print_heading(x, level=3):\n",
      "    display_html(\"<h%i>%s</h%i>\" % (level, str(x), level), raw=True)"
     ],
     "language": "python",
     "metadata": {},
     "outputs": [],
     "prompt_number": 2
    },
    {
     "cell_type": "code",
     "collapsed": false,
     "input": [
      "# x = root_numpy.root2array('/mnt/w76/notebook/datasets/D23P/hacked.sample.v2.root')\n",
      "# x = pandas.DataFrame(x)\n",
      "# x['D_DIRA_OWNPV'] = x['D_DIRA']\n",
      "# root_numpy.array2root(x.to_records(), '/mnt/w76/notebook/datasets/D23P/hacked.sample.v2-processed.root', \n",
      "#                       treename='DecayTree', mode='recreate')"
     ],
     "language": "python",
     "metadata": {},
     "outputs": [],
     "prompt_number": 3
    },
    {
     "cell_type": "code",
     "collapsed": false,
     "input": [
      "uniform_variables = ['D_MM']\n",
      "helping_variables = ['D_BKGCAT']\n",
      "\n",
      "train_variables = ['D_P', 'D_BKGCAT', 'D_FD_OWNPV',\n",
      "                   'D_TAU', 'D_BPVIPCHI2', \n",
      "                   'D_DIRA_OWNPV',\n",
      "                   'D_DOCA', 'D_DOCA12', 'D_DOCA13', 'D_DOCA23',\n",
      "                   'D_vchi2', 'D_MINIP', 'D_PT', 'D_MMERR',\n",
      "                   'p1_PT', 'p2_PT', 'p3_PT',\n",
      "#                    'p1_IP', 'p2_IP', 'p3_IP'\n",
      "                   ]\n",
      "\n",
      "all_branches = uniform_variables + helping_variables + train_variables\n",
      "all_branches = list(set(all_branches) - set(['D_TAU']))"
     ],
     "language": "python",
     "metadata": {},
     "outputs": [],
     "prompt_number": 4
    },
    {
     "cell_type": "markdown",
     "metadata": {},
     "source": [
      "## Loading data from ROOT"
     ]
    },
    {
     "cell_type": "markdown",
     "metadata": {},
     "source": [
      "__About fake bck__\n",
      "\n",
      "It only has the relevant variables stored in it.  If I'm missing some, let me know.  You have a few duplicates I think, e.g., D_FD_OWNPV and D_BPVVD are the same thing.   Also, D_BPVIPCHI2 and D_MINIPCHI2 are almost always the same thing (so I've omitted one).  \n",
      "\n",
      "I couldn't remember how to calculate TRGPOINTING so gave you DIRA instead (they are similar).   I can fix this later if it actually matters (i.e., if DIRA isn't good enough).\n",
      "\n",
      "I made this from bb sample by randomly swapping pions around.   Here's how the variables work:\n",
      "\n",
      "* each pion keeps its properties (pt and ip);\n",
      "* the D mass, p, pt, are from the sum of the 3 pions chosen;\n",
      "* the BKGCAT is just kept from the D I start from;\n",
      "* the FD_OWNPV, D_MME are original but smeared by Gaus w/ sigma = 0.1;\n",
      "* the DIRA is the dot product of current D momentum with original PV to SV direction of the D;\n",
      "* all DOCA are from the original D but smeared by Gaussian with sigma = 0.01;\n",
      "* D_vchi2 is original one smeared by Gaus w/ sigma = 0.1;\n",
      "* D_MINIP and D_BPVIPCHI2 are obtained by scaling the original IP(Chi2) by the ratio of sin(theta) [pointing angle] from \"current\" vs \"original\" D;\n",
      "* <pre>D_TAU = D_FD_OWNPV * D_MM/(300 * D_P). </pre>\n",
      "\n",
      "There are D's with masses over a large range.  You can choose to keep whatever range you want.  Maybe 1700-2500 or something.\n"
     ]
    },
    {
     "cell_type": "code",
     "collapsed": false,
     "input": [
      "def load_file(name, branches=[]):\n",
      "    result = root_numpy.root2array('/mnt/w76/notebook/datasets/D23P/' + name, treename='DecayTree', \n",
      "                                   branches=list(set(all_branches + branches))) \n",
      "    return pandas.DataFrame(result)"
     ],
     "language": "python",
     "metadata": {},
     "outputs": [],
     "prompt_number": 5
    },
    {
     "cell_type": "code",
     "collapsed": false,
     "input": [
      "signal1 = load_file('D2PPP_Signal_Stripped_MD.root')\n",
      "signal2 = load_file('D2PPP_Signal_Stripped_MU.root')\n",
      "\n",
      "# bg_wbb = load_file('bbbar_bkg_ppp_wide.root')\n",
      "# bg_wcc = load_file('ccbar_bkg_ppp_wide.root')\n",
      "\n",
      "bg_fake = load_file('hacked.sample.v2-processed.root')"
     ],
     "language": "python",
     "metadata": {},
     "outputs": [],
     "prompt_number": 6
    },
    {
     "cell_type": "markdown",
     "metadata": {},
     "source": [
      "# Applying selection rule to BCK"
     ]
    },
    {
     "cell_type": "code",
     "collapsed": false,
     "input": [
      "# bg_wbb = bg_wbb.query('D_BKGCAT > 20')\n",
      "# bg_wcc = bg_wcc.query('D_BKGCAT > 20')\n",
      "\n",
      "bg_fake = bg_fake.query('D_BKGCAT > 20')"
     ],
     "language": "python",
     "metadata": {},
     "outputs": [],
     "prompt_number": 7
    },
    {
     "cell_type": "code",
     "collapsed": false,
     "input": [
      "# data = pandas.concat([bg_wbb, bg_wcc, signal1, signal2], ignore_index=True)\n",
      "# labels = numpy.concatenate([numpy.zeros(len(bg_wbb) + len(bg_wcc)), numpy.ones(len(signal1) + len(signal2))]).astype(int)\n",
      "\n",
      "data = pandas.concat([bg_fake, signal1, signal2], ignore_index=True)\n",
      "labels = numpy.concatenate([numpy.zeros(len(bg_fake)), numpy.ones(len(signal1) + len(signal2))]).astype(int)"
     ],
     "language": "python",
     "metadata": {},
     "outputs": [],
     "prompt_number": 8
    },
    {
     "cell_type": "code",
     "collapsed": false,
     "input": [
      "hist(numpy.array(data.D_MM[labels > 0.5]), bins=40, label='signal')\n",
      "hist(numpy.array(data.D_MM[labels < 0.5]), bins=40, label='bg', range=[1600, 2300])\n",
      "legend()"
     ],
     "language": "python",
     "metadata": {},
     "outputs": [
      {
       "metadata": {},
       "output_type": "pyout",
       "prompt_number": 9,
       "text": [
        "<matplotlib.legend.Legend at 0x4bc3bd0>"
       ]
      },
      {
       "metadata": {},
       "output_type": "display_data",
       "png": "[encoded data removed]",
       "text": [
        "<matplotlib.figure.Figure at 0x433ff50>"
       ]
      }
     ],
     "prompt_number": 9
    },
    {
     "cell_type": "markdown",
     "metadata": {},
     "source": [
      "# Adding TAU\n",
      "$\\dfrac{\\beta}{\\sqrt{1-\\beta^2}} = \\dfrac{p}{m}$ \n",
      "\n",
      "$\\tau = t  \\sqrt{1 - \\beta^2} = \\dfrac{FD \\sqrt{1 - \\beta^2}}{ c \\beta }  \n",
      "= \\dfrac{FD \\times m}{c \\times p}$"
     ]
    },
    {
     "cell_type": "code",
     "collapsed": false,
     "input": [
      "# 300 is light speed\n",
      "data['D_TAU'] = data.eval('D_FD_OWNPV * D_MM / D_P / 300')"
     ],
     "language": "python",
     "metadata": {},
     "outputs": [],
     "prompt_number": 10
    },
    {
     "cell_type": "markdown",
     "metadata": {},
     "source": [
      "# Throwing out everything with mass too far from mass region"
     ]
    },
    {
     "cell_type": "code",
     "collapsed": false,
     "input": [
      "mask = numpy.array(data.eval('(D_MM > 1500) & (D_MM < 2500)'))\n",
      "data = data[mask]\n",
      "labels = labels[mask]"
     ],
     "language": "python",
     "metadata": {},
     "outputs": [],
     "prompt_number": 11
    },
    {
     "cell_type": "markdown",
     "metadata": {},
     "source": [
      "# Splitting data into train and test"
     ]
    },
    {
     "cell_type": "code",
     "collapsed": false,
     "input": [
      "trainX, testX, trainY, testY = commonutils.train_test_split(data, labels, train_size=0.5)"
     ],
     "language": "python",
     "metadata": {},
     "outputs": [],
     "prompt_number": 12
    },
    {
     "cell_type": "code",
     "collapsed": false,
     "input": [
      "# # test mode\n",
      "# trainX, testX, trainY, testY = commonutils.train_test_split(data, labels, train_size=0.01, test_size=0.05)\n",
      "# print len(trainX), len(testX)\n",
      "# print sum(labels) * 1. / len(labels)"
     ],
     "language": "python",
     "metadata": {},
     "outputs": [],
     "prompt_number": 13
    },
    {
     "cell_type": "markdown",
     "metadata": {},
     "source": [
      "# Selecting the train bck with M far from mass region\n",
      "we first randomly split the data, the we reject bck events in train dataset, what have mass close to mass region"
     ]
    },
    {
     "cell_type": "code",
     "collapsed": false,
     "input": [
      "mask = (trainY == 1) | (trainX.D_MM > 2300) #| (trainX.D_MM < 1700) \n",
      "trainX = trainX.ix[mask, :]\n",
      "trainY = trainY[numpy.array(mask)]"
     ],
     "language": "python",
     "metadata": {},
     "outputs": [],
     "prompt_number": 14
    },
    {
     "cell_type": "code",
     "collapsed": false,
     "input": [
      "print len(trainX), len(testX)\n",
      "figure(figsize=[16, 6])\n",
      "subplot(121), title('train, bck'), hist(numpy.array(trainX.D_MM[trainY == 0]))\n",
      "subplot(122), title('test,  bck'), hist(numpy.array(testX.D_MM[testY == 0])  )\n",
      "pass"
     ],
     "language": "python",
     "metadata": {},
     "outputs": [
      {
       "output_type": "stream",
       "stream": "stdout",
       "text": [
        "37643 41972\n"
       ]
      },
      {
       "metadata": {},
       "output_type": "display_data",
       "png": "[encoded data removed]",
       "text": [
        "<matplotlib.figure.Figure at 0x4ce0c50>"
       ]
      }
     ],
     "prompt_number": 15
    },
    {
     "cell_type": "markdown",
     "metadata": {},
     "source": [
      "# Exchanging the labels\n",
      "now all the classifiers are targeting to get flatness in bck, for the exception __uGB+FL_both__, this will try to obtain flatness in both signal and background"
     ]
    },
    {
     "cell_type": "code",
     "collapsed": false,
     "input": [
      "trainY = 1 - trainY\n",
      "testY = 1 - testY"
     ],
     "language": "python",
     "metadata": {},
     "outputs": [],
     "prompt_number": 16
    },
    {
     "cell_type": "markdown",
     "metadata": {},
     "source": [
      "# Uniformity in mass of D\n",
      "## Setting up classifiers"
     ]
    },
    {
     "cell_type": "code",
     "collapsed": false,
     "input": [
      "tree_params = {'max_depth': 3, 'min_samples_leaf': 30}\n",
      "base_tree = DecisionTreeClassifier(**tree_params)\n",
      "n_estimators = 200"
     ],
     "language": "python",
     "metadata": {},
     "outputs": [],
     "prompt_number": 17
    },
    {
     "cell_type": "code",
     "collapsed": false,
     "input": [
      "classifiers = reports.ClassifiersDict()\n",
      "\n",
      "classifiers['Ada'] = HidingClassifier(train_variables=train_variables, \n",
      "                base_estimator=AdaBoostClassifier(base_estimator=base_tree, n_estimators=n_estimators))\n",
      "\n",
      "knnloss = ugb.SimpleKnnLossFunction(uniform_variables, knn=20, uniform_label=1)\n",
      "classifiers['uGB']    = ugb.MyGradientBoostingClassifier(loss=knnloss, n_estimators=n_estimators,\n",
      "                                                         learning_rate=0.5, train_variables=train_variables, **tree_params)\n",
      "\n",
      "flatnessloss_both = ugb.FlatnessLossFunction(uniform_variables, ada_coefficient=0.05, uniform_label=[0,1], power=2.5)\n",
      "classifiers['uGB+FL_both'] = ugb.MyGradientBoostingClassifier(loss=flatnessloss_both, n_estimators=n_estimators, \n",
      "                                                         learning_rate=0.2, train_variables=train_variables, **tree_params)\n",
      "\n",
      "flatnessloss_bck = ugb.FlatnessLossFunction(uniform_variables, ada_coefficient=0.05, uniform_label=1, power=2.5)\n",
      "classifiers['uGB+FL_bck'] = ugb.MyGradientBoostingClassifier(loss=flatnessloss_bck, n_estimators=n_estimators, \n",
      "                                                         learning_rate=0.2, train_variables=train_variables, **tree_params)\n",
      "\n",
      "classifiers.fit(trainX, trainY, ipc_profile=ipc_profile)\n",
      "pass"
     ],
     "language": "python",
     "metadata": {},
     "outputs": [
      {
       "output_type": "stream",
       "stream": "stdout",
       "text": [
        "We spent 173.90 seconds on parallel training\n"
       ]
      }
     ],
     "prompt_number": 18
    },
    {
     "cell_type": "code",
     "collapsed": false,
     "input": [
      "%%time\n",
      "classifiers['uBoost'] = uboost.uBoostClassifier(uniform_variables=uniform_variables, train_variables=train_variables,\n",
      "            n_estimators=n_estimators, base_estimator=base_tree, \n",
      "            efficiency_steps=10, ipc_profile=ipc_profile).fit(trainX, trainY)"
     ],
     "language": "python",
     "metadata": {},
     "outputs": [
      {
       "output_type": "stream",
       "stream": "stdout",
       "text": [
        "CPU times: user 19.9 s, sys: 1.52 s, total: 21.4 s\n",
        "Wall time: 2min 48s\n"
       ]
      }
     ]
    },
    {
     "cell_type": "markdown",
     "metadata": {},
     "source": [
      "## Results"
     ]
    },
    {
     "cell_type": "code",
     "collapsed": false,
     "input": [
      "preds = classifiers.test_on(testX, testY, low_memory=False)"
     ],
     "language": "python",
     "metadata": {},
     "outputs": []
    },
    {
     "cell_type": "markdown",
     "metadata": {},
     "source": [
      "### Uniformity on signal"
     ]
    },
    {
     "cell_type": "code",
     "collapsed": false,
     "input": [
      "preds.efficiency(uniform_variables=uniform_variables, label=1-1)"
     ],
     "language": "python",
     "metadata": {},
     "outputs": []
    },
    {
     "cell_type": "markdown",
     "metadata": {},
     "source": [
      "###Uniformity on background"
     ]
    },
    {
     "cell_type": "code",
     "collapsed": false,
     "input": [
      "preds.efficiency(uniform_variables=uniform_variables, label=1-0)"
     ],
     "language": "python",
     "metadata": {},
     "outputs": []
    },
    {
     "cell_type": "code",
     "collapsed": false,
     "input": [
      "preds.roc()"
     ],
     "language": "python",
     "metadata": {},
     "outputs": []
    },
    {
     "cell_type": "code",
     "collapsed": false,
     "input": [
      "figure(figsize=(18, 7))\n",
      "subplot(131), title('Learning curves'), preds.learning_curves()\n",
      "subplot(132), title('MSE curves:sig') , preds.mse_curves(uniform_variables=uniform_variables, step=3, label=1-1)\n",
      "subplot(133), title('MSE curves:bg')  , preds.mse_curves(uniform_variables=uniform_variables, step=3, label=1-0)\n",
      "show()"
     ],
     "language": "python",
     "metadata": {},
     "outputs": []
    },
    {
     "cell_type": "code",
     "collapsed": false,
     "input": [
      "# the center is mass of strange D-meson\n",
      "Ds_mass = 1968.47\n",
      "figure(figsize=(16, 7))\n",
      "subplot(121), preds.correlation_curves(var_name=uniform_variables[0], center=Ds_mass, label=1-1)\n",
      "subplot(122), preds.correlation_curves(var_name=uniform_variables[0], center=Ds_mass, label=1-0)\n",
      "show()"
     ],
     "language": "python",
     "metadata": {},
     "outputs": []
    },
    {
     "cell_type": "code",
     "collapsed": false,
     "input": [
      "# TODO\n",
      "# preds.learning_curves(commonutils.optimal_sensitivity)\n",
      "# ylabel('sensitivity $ = s / \\sqrt{s+b}$')"
     ],
     "language": "python",
     "metadata": {},
     "outputs": []
    }
   ],
   "metadata": {}
  }
 ]
}