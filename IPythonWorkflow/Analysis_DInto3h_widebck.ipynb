{
 "metadata": {
  "name": "",
  "signature": "sha256:ef38e75450bc89c59f156c85d22d765c623732878d33c7ae20827028483120aa"
 },
 "nbformat": 3,
 "nbformat_minor": 0,
 "worksheets": [
  {
   "cells": [
    {
     "cell_type": "markdown",
     "metadata": {},
     "source": [
      "## About\n",
      "This notebook is devoted to analysis of decay $D \\to hhh$\n",
      "\n",
      "We're looking at efficiency of background."
     ]
    },
    {
     "cell_type": "code",
     "collapsed": false,
     "input": [
      "import pandas, numpy, reports, commonutils, uboost\n",
      "import uniformgradientboosting as ugb\n",
      "from supplementaryclassifiers import HidingClassifier\n",
      "from sklearn.tree import DecisionTreeClassifier\n",
      "from sklearn.ensemble import AdaBoostClassifier\n",
      "import root_numpy\n",
      "\n",
      "from config import ipc_profile"
     ],
     "language": "python",
     "metadata": {},
     "outputs": [
      {
       "output_type": "stream",
       "stream": "stdout",
       "text": [
        "binner is ok\n",
        "normalizer is ok\n",
        "computeSignalKnnIndices is ok"
       ]
      },
      {
       "output_type": "stream",
       "stream": "stdout",
       "text": [
        "\n",
        "MSE variation is ok\n",
        "Compute efficiency is ok\n",
        "uniform gradient boosting is ok"
       ]
      },
      {
       "output_type": "stream",
       "stream": "stdout",
       "text": [
        "\n"
       ]
      }
     ],
     "prompt_number": 1
    },
    {
     "cell_type": "code",
     "collapsed": false,
     "input": [
      "uniform_variables = ['D_M']\n",
      "helping_variables = ['D_BKGCAT'] + ['p' + str(i) + '_P' + letter for i in [1,2,3] for letter in \"EXYZ\"] + ['D_FD_TOPPV']\n",
      "train_variables = ['D_BPVIPCHI2', 'D_BPVTRGPOINTING', 'D_BPVVD', 'D_DOCA', \n",
      " 'D_DOCA12', 'D_DOCA13', 'D_DOCA23', 'D_vchi2', 'D_MINIP', 'D_MINIPCHI2', \n",
      " 'D_P', 'D_PT', \n",
      " 'D_MMERR', 'D_BKGCAT', \n",
      " 'p1_PT', 'p2_PT', 'p3_PT', \n",
      " 'p1_IPCHI2_OWNPV', 'p2_IPCHI2_OWNPV', 'p3_IPCHI2_OWNPV ']\n",
      "\n",
      "\n",
      "train_variables = ['D_TRUETAU', 'D_P', 'D_FD_OWNPV']\n",
      "\n",
      "all_branches = uniform_variables + train_variables + helping_variables\n",
      "all_branches = list(set(all_branches))"
     ],
     "language": "python",
     "metadata": {},
     "outputs": [],
     "prompt_number": 2
    },
    {
     "cell_type": "markdown",
     "metadata": {},
     "source": [
      "## Loading data from ROOT"
     ]
    },
    {
     "cell_type": "code",
     "collapsed": false,
     "input": [
      "def load_file(name):\n",
      "    result = root_numpy.root2array('/mnt/w76/notebook/datasets/D23P/' + name, treename='DecayTree', branches=all_branches)\n",
      "    return pandas.DataFrame(result)"
     ],
     "language": "python",
     "metadata": {},
     "outputs": [],
     "prompt_number": 3
    },
    {
     "cell_type": "code",
     "collapsed": false,
     "input": [
      "signal1 = load_file('D2PPP_Signal_Stripped_MD.root')\n",
      "signal2 = load_file('D2PPP_Signal_Stripped_MU.root')\n",
      "\n",
      "# bg_bb = load_file('bbbar_bkg_ppp.root')\n",
      "# bg_cc = load_file('ccbar_bkg_ppp.root')\n",
      "\n",
      "bg_wbb = load_file('bbbar_bkg_ppp_wide.root')\n",
      "bg_wcc = load_file('ccbar_bkg_ppp_wide.root')"
     ],
     "language": "python",
     "metadata": {},
     "outputs": [],
     "prompt_number": 4
    },
    {
     "cell_type": "markdown",
     "metadata": {},
     "source": [
      "# Different plots to ensure the quality of variables"
     ]
    },
    {
     "cell_type": "code",
     "collapsed": false,
     "input": [
      "def plot_on_df(df):\n",
      "    df = df.copy()\n",
      "    df['v'] = df.eval('D_FD_TOPPV / D_TRUETAU')\n",
      "    p_new = df.eval('D_M * v / (1 - v * v) ** 0.5')\n",
      "\n",
      "    figure(figsize=[18, 6])\n",
      "    subplot(141)\n",
      "    title('D_M'), hist(df['D_M'])\n",
      "    subplot(142)\n",
      "    title('D_P'), hist(df['D_P'], range=[0, 200000])\n",
      "    subplot(143)\n",
      "    v = df['v']\n",
      "    title('v'),     hist(v[isfinite(v)], range=[0, 100000])\n",
      "    subplot(144)\n",
      "#     print p_new[isfinite(p_new)]\n",
      "#     title('new P'), hist() \n",
      "    show()\n",
      "# hist(signal1.eval('D_P * D_TRUETAU / D_FD_OWNPV'))\n",
      "\n",
      "plot_on_df(signal1)"
     ],
     "language": "python",
     "metadata": {},
     "outputs": [
      {
       "metadata": {},
       "output_type": "display_data",
       "png": "[encoded data removed]",
       "text": [
        "<matplotlib.figure.Figure at 0x453fe50>"
       ]
      }
     ],
     "prompt_number": 5
    },
    {
     "cell_type": "markdown",
     "metadata": {},
     "source": [
      "## Applying selection rule to BCK"
     ]
    },
    {
     "cell_type": "code",
     "collapsed": false,
     "input": [
      "# bg_bb = bg_bb.query('D_BKGCAT > 20')\n",
      "# bg_cc = bg_cc.query('D_BKGCAT > 20')\n",
      "\n",
      "bg_wbb = bg_wbb.query('D_BKGCAT > 20')\n",
      "bg_wcc = bg_wcc.query('D_BKGCAT > 20')"
     ],
     "language": "python",
     "metadata": {},
     "outputs": []
    },
    {
     "cell_type": "code",
     "collapsed": false,
     "input": [
      "data = pandas.concat([bg_wbb, bg_wcc, signal1, signal2], ignore_index=True)\n",
      "labels = numpy.concatenate([numpy.zeros(len(bg_wbb) + len(bg_wcc)), numpy.ones(len(signal1) + len(signal2))]).astype(int)"
     ],
     "language": "python",
     "metadata": {},
     "outputs": []
    },
    {
     "cell_type": "code",
     "collapsed": false,
     "input": [
      "hist(numpy.array(data.D_M[labels > 0.5]), bins=40, label='signal')\n",
      "hist(numpy.array(data.D_M[labels < 0.5]), bins=40, label='bg')\n",
      "legend()"
     ],
     "language": "python",
     "metadata": {},
     "outputs": []
    },
    {
     "cell_type": "markdown",
     "metadata": {},
     "source": [
      "# Adding Dalitz variables\n",
      "pay attention that log of pdf is plotted, not pdf itself"
     ]
    },
    {
     "cell_type": "code",
     "collapsed": false,
     "input": [
      "def compute_inv_mass(df, name1, name2):\n",
      "    # adding 4-vectors\n",
      "    pe = df[name1 + 'E'] + df[name2 + 'E']\n",
      "    px = df[name1 + 'X'] + df[name2 + 'X']\n",
      "    py = df[name1 + 'Y'] + df[name2 + 'Y']\n",
      "    pz = df[name1 + 'Z'] + df[name2 + 'Z']\n",
      "    # computing its mass\n",
      "    return pe*pe - px*px - py*py - pz*pz"
     ],
     "language": "python",
     "metadata": {},
     "outputs": []
    },
    {
     "cell_type": "code",
     "collapsed": false,
     "input": [
      "data['m12'] = compute_inv_mass(data, 'p1_P', 'p2_P')\n",
      "data['m13'] = compute_inv_mass(data, 'p1_P', 'p3_P')\n",
      "data['m23'] = compute_inv_mass(data, 'p2_P', 'p3_P')"
     ],
     "language": "python",
     "metadata": {},
     "outputs": []
    },
    {
     "cell_type": "code",
     "collapsed": false,
     "input": [
      "def plotDistribution2D(var_name1, var_name2, data_frame, bins=30):\n",
      "    \"\"\"The function to plot 2D distribution histograms\"\"\"\n",
      "    H, x, y = pylab.histogram2d(numpy.array(data_frame[var_name1]), \n",
      "                                numpy.array(data_frame[var_name2]), bins=bins)\n",
      "    pylab.xlabel(var_name1), pylab.ylabel(var_name2)\n",
      "    pylab.pcolor(x, y, log(1 + H), cmap=cm.Blues)\n",
      "    pylab.colorbar()\n",
      "\n",
      "pylab.figure(figsize=(16, 6))\n",
      "subplot(1, 2, 1), pylab.title(\"signal (log of pdf)\"),       plotDistribution2D(\"m12\", \"m23\", data[labels > 0.5])\n",
      "subplot(1, 2, 2), pylab.title(\"background (log of pdf)\"),   plotDistribution2D(\"m12\", \"m23\", data[labels < 0.5])\n",
      "pass"
     ],
     "language": "python",
     "metadata": {},
     "outputs": []
    },
    {
     "cell_type": "markdown",
     "metadata": {},
     "source": [
      "## Splitting data"
     ]
    },
    {
     "cell_type": "code",
     "collapsed": false,
     "input": [
      "trainX, testX, trainY, testY = commonutils.train_test_split(data, labels, train_size=0.5)"
     ],
     "language": "python",
     "metadata": {},
     "outputs": []
    },
    {
     "cell_type": "code",
     "collapsed": false,
     "input": [
      "# # test mode\n",
      "# trainX, testX, trainY, testY = commonutils.train_test_split(data, labels, train_size=0.01, test_size=0.05)\n",
      "# print len(trainX), len(testX)\n",
      "# print sum(labels) * 1. / len(labels)"
     ],
     "language": "python",
     "metadata": {},
     "outputs": []
    },
    {
     "cell_type": "markdown",
     "metadata": {},
     "source": [
      "# Uniformity in mass of D\n",
      "## Setting up classifiers"
     ]
    },
    {
     "cell_type": "code",
     "collapsed": false,
     "input": [
      "tree_params = {'max_depth': 8, 'min_samples_leaf': 30}\n",
      "base_tree = DecisionTreeClassifier(**tree_params)\n",
      "n_estimators = 200"
     ],
     "language": "python",
     "metadata": {},
     "outputs": []
    },
    {
     "cell_type": "code",
     "collapsed": false,
     "input": [
      "classifiers = reports.ClassifiersDict()\n",
      "classifiers['ada'] = HidingClassifier(train_variables=train_variables, \n",
      "                                      base_estimator=AdaBoostClassifier(base_estimator=base_tree, n_estimators=n_estimators))\n",
      "\n",
      "knnloss = ugb.SimpleKnnLossFunction(uniform_variables, knn=20)\n",
      "classifiers['uGB']    = ugb.MyGradientBoostingClassifier(loss=knnloss, n_estimators=n_estimators,\n",
      "                                                         learning_rate=0.5, train_variables=train_variables, **tree_params)\n",
      "\n",
      "flatnessloss = ugb.FlatnessLossFunction(uniform_variables, ada_coefficient=0.05, uniform_label=[0,1], power=2.5)\n",
      "classifiers['uGB+FL'] = ugb.MyGradientBoostingClassifier(loss=flatnessloss, n_estimators=n_estimators, \n",
      "                                                 learning_rate=0.2, train_variables=train_variables, **tree_params)\n",
      "\n",
      "classifiers.fit(trainX, trainY, ipc_profile=ipc_profile)\n",
      "pass"
     ],
     "language": "python",
     "metadata": {},
     "outputs": []
    },
    {
     "cell_type": "code",
     "collapsed": false,
     "input": [
      "%%time\n",
      "classifiers['uBoost'] = uboost.uBoostClassifier(uniform_variables=uniform_variables, train_variables=train_variables,\n",
      "            n_estimators=n_estimators, base_estimator=base_tree, \n",
      "            efficiency_steps=11).fit(trainX, trainY)"
     ],
     "language": "python",
     "metadata": {},
     "outputs": []
    },
    {
     "cell_type": "markdown",
     "metadata": {},
     "source": [
      "## Results"
     ]
    },
    {
     "cell_type": "code",
     "collapsed": false,
     "input": [
      "preds = classifiers.test_on(testX, testY, low_memory=False)"
     ],
     "language": "python",
     "metadata": {},
     "outputs": []
    },
    {
     "cell_type": "markdown",
     "metadata": {},
     "source": [
      "### Uniformity on signal"
     ]
    },
    {
     "cell_type": "code",
     "collapsed": false,
     "input": [
      "preds.efficiency(uniform_variables=uniform_variables, label=1)"
     ],
     "language": "python",
     "metadata": {},
     "outputs": []
    },
    {
     "cell_type": "markdown",
     "metadata": {},
     "source": [
      "###Uniformity on background"
     ]
    },
    {
     "cell_type": "code",
     "collapsed": false,
     "input": [
      "preds.efficiency(uniform_variables=uniform_variables, label=0)"
     ],
     "language": "python",
     "metadata": {},
     "outputs": []
    },
    {
     "cell_type": "code",
     "collapsed": false,
     "input": [
      "preds.roc()"
     ],
     "language": "python",
     "metadata": {},
     "outputs": []
    },
    {
     "cell_type": "code",
     "collapsed": false,
     "input": [
      "figure(figsize=(18, 7))\n",
      "subplot(131), title('Learning curves'), preds.learning_curves()\n",
      "subplot(132), title('MSE curves:sig') , preds.mse_curves(uniform_variables=uniform_variables, step=3, label=1)\n",
      "subplot(133), title('MSE curves:bg')  , preds.mse_curves(uniform_variables=uniform_variables, step=3, label=0)\n",
      "\n",
      "show()"
     ],
     "language": "python",
     "metadata": {},
     "outputs": []
    },
    {
     "cell_type": "code",
     "collapsed": false,
     "input": [
      "# the center is mass of strange D-meson\n",
      "Ds_mass = 1968.47\n",
      "figure(figsize=(16, 7))\n",
      "subplot(121), preds.correlation_curves(var_name=uniform_variables[0], center=Ds_mass, label=1)\n",
      "subplot(122), preds.correlation_curves(var_name=uniform_variables[0], center=Ds_mass, label=0)\n",
      "show()"
     ],
     "language": "python",
     "metadata": {},
     "outputs": []
    },
    {
     "cell_type": "code",
     "collapsed": false,
     "input": [
      "preds.learning_curves(commonutils.optimal_sensitivity)\n",
      "ylabel('sensitivity $ = s / \\sqrt{s+b}$')"
     ],
     "language": "python",
     "metadata": {},
     "outputs": []
    },
    {
     "cell_type": "markdown",
     "metadata": {},
     "source": [
      "# The list of branches"
     ]
    },
    {
     "cell_type": "code",
     "collapsed": false,
     "input": [
      "sorted(set(root_numpy.list_branches('/mnt/w76/notebook/datasets/D23P/bbbar_bkg_ppp.root')) \\\n",
      "# .intersection(root_numpy.list_branches('/mnt/w76/notebook/datasets/D23P/ccbar_bkg_ppp.root')) \\\n",
      "# .intersection(root_numpy.list_branches('/mnt/w76/notebook/datasets/D23P/D2PPP_Signal_Stripped_MD.root'))\n",
      ")\n"
     ],
     "language": "python",
     "metadata": {},
     "outputs": []
    },
    {
     "cell_type": "markdown",
     "metadata": {},
     "source": [
      "<!--\n",
      "test_vars = dalitz_variables\n",
      "\n",
      "test_classifiers = reports.ClassifiersDict()\n",
      "for learning_rate in [0.2, 0.4, 0.8]:\n",
      "    for ada_coeff in [0.02, 0.05, 0.1]:\n",
      "        for power_ in [1.5, 2., 2.5]:\n",
      "            fl_loss = ugb.FlatnessLossFunction(test_vars, power=power_, ada_coefficient=ada_coeff, uniform_label=1)\n",
      "            test_classifiers['%f %f %f' % (learning_rate, ada_coeff, power_)] = \\\n",
      "                ugb.MyGradientBoostingClassifier(loss=fl_loss, n_estimators=n_estimators, \n",
      "                                                 learning_rate=learning_rate, train_variables=train_variables, **tree_params)\n",
      "            \n",
      "test_classifiers.fit(trainX, trainY, ipc_profile=ipc_profile)\n",
      "pass\n",
      "\n",
      "\n",
      "import pandas\n",
      "test_pred = test_classifiers.test_on(testX, testY)\n",
      "df1 = test_pred.compute_metrics()\n",
      "df2 = pandas.DataFrame(test_pred._compute_mse(test_vars, label=1, n_bins=13))\n",
      "df3 = pandas.DataFrame(test_pred._compute_mse(test_vars, label=0, n_bins=13))\n",
      "\n",
      "xx = pandas.concat([df1, df2, df3]).T\n",
      "xx[(xx.iloc[:, 1] < .8) & (xx.iloc[:, 0] > .85)-->"
     ]
    }
   ],
   "metadata": {}
  }
 ]
}