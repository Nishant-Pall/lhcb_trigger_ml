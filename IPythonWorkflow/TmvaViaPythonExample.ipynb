{
 "metadata": {
  "name": "",
  "signature": "sha256:c5a397b97f3e902734cf87cdafcada698d88334824ae93b22ae7cf962a5d140f"
 },
 "nbformat": 3,
 "nbformat_minor": 0,
 "worksheets": [
  {
   "cells": [
    {
     "cell_type": "markdown",
     "metadata": {},
     "source": [
      "#TMVA factory via IPython\n",
      "\n",
      "This example is not supported anymore, we decided not to use ROOT classifiers by now\n",
      "\n",
      "This file is just a modification of common example\n",
      "http://aholzner.wordpress.com/2011/08/27/a-tmva-example-in-pyroot/\n",
      "\n",
      "One more copy is here: <br />\n",
      "http://nbviewer.ipython.org/github/demattia/usercode/blob/master/Tutorials/InteractiveAnalysis/Notebooks/HATS_2013/TMVA.ipynb"
     ]
    },
    {
     "cell_type": "code",
     "collapsed": false,
     "input": [
      "import commonutils\n",
      "import rootutilities\n",
      "# import jabberhelper"
     ],
     "language": "python",
     "metadata": {},
     "outputs": [],
     "prompt_number": 2
    },
    {
     "cell_type": "code",
     "collapsed": false,
     "input": [
      "# rootutilities.readDataToSingleDataframe([\"./datasets/testOutput.root\"])"
     ],
     "language": "python",
     "metadata": {},
     "outputs": [],
     "prompt_number": 3
    },
    {
     "cell_type": "code",
     "collapsed": false,
     "input": [
      "import ROOT\n",
      " \n",
      "# create a TNtuple\n",
      "ntuple = ROOT.TNtuple(\"ntuple\",\"ntuple\",\"x:y:signal\")\n",
      " \n",
      "# generate 'signal' and 'background' distributions\n",
      "for i in range(10000):\n",
      "    # throw a signal event centered at (1,1)\n",
      "    ntuple.Fill(ROOT.gRandom.Gaus(1,1), # x\n",
      "                ROOT.gRandom.Gaus(1,1), # y\n",
      "                1)                      # signal\n",
      "     \n",
      "    # throw a background event centered at (-1,-1)\n",
      "    ntuple.Fill(ROOT.gRandom.Gaus(-1,1), # x\n",
      "                ROOT.gRandom.Gaus(-1,1), # y\n",
      "                0)                       # background"
     ],
     "language": "python",
     "metadata": {},
     "outputs": [],
     "prompt_number": 4
    },
    {
     "cell_type": "code",
     "collapsed": false,
     "input": [
      "# keeps objects otherwise removed by garbage collected in a list\n",
      "gcSaver = []\n",
      "# create a new TCanvas\n",
      "canvas = ROOT.TCanvas()\n",
      "gcSaver.append(canvas)\n",
      "\n",
      "# draw an empty 2D histogram for the axes\n",
      "histo = ROOT.TH2F(\"histo\",\"\",10,-5,5,10,-5,5)\n",
      "histo.Draw()\n",
      "\n",
      "# draw the signal events in red\n",
      "ntuple.SetMarkerColor(ROOT.kRed)\n",
      "ntuple.Draw(\"y:x\",\"signal > 0.5\",\"same\")\n",
      "# draw the background events in blue\n",
      "ntuple.SetMarkerColor(ROOT.kBlue)\n",
      "ntuple.Draw(\"y:x\",\"signal <= 0.5\",\"same\")\n",
      "# In initial example this was forgotten\n",
      "canvas.Update()"
     ],
     "language": "python",
     "metadata": {},
     "outputs": [
      {
       "output_type": "stream",
       "stream": "stderr",
       "text": [
        "INFO:rootpy.logger] | No default log handler configured. See `logging` module |\n"
       ]
      },
      {
       "output_type": "stream",
       "stream": "stderr",
       "text": [
        "INFO:rootpy.logger] \\    To suppress: 'rootpy.log.basic_config_colorized()'   /\n"
       ]
      },
      {
       "output_type": "stream",
       "stream": "stderr",
       "text": [
        "ERROR:ROOT.TTF.SetTextFont] font file FreeSansBold.otf not found in path\n"
       ]
      },
      {
       "output_type": "stream",
       "stream": "stderr",
       "text": [
        "ERROR:ROOT.TTF.SetTextFont] font file FreeSans.otf not found in path\n"
       ]
      },
      {
       "output_type": "stream",
       "stream": "stderr",
       "text": [
        "ERROR:ROOT.TTF.SetTextSize] current font index out of bounds\n"
       ]
      },
      {
       "output_type": "stream",
       "stream": "stderr",
       "text": [
        "ERROR:ROOT.TTF.SetTextFont] font file FreeSans.otf not found in path\n"
       ]
      },
      {
       "output_type": "stream",
       "stream": "stderr",
       "text": [
        "ERROR:ROOT.TTF.SetTextSize] current font index out of bounds\n"
       ]
      },
      {
       "output_type": "stream",
       "stream": "stderr",
       "text": [
        "ERROR:ROOT.TTF.SetTextFont] font file FreeSans.otf not found in path\n"
       ]
      },
      {
       "output_type": "stream",
       "stream": "stderr",
       "text": [
        "ERROR:ROOT.TTF.SetTextSize] current font index out of bounds\n"
       ]
      },
      {
       "output_type": "stream",
       "stream": "stderr",
       "text": [
        "ERROR:ROOT.TTF.SetTextFont] font file FreeSans.otf not found in path\n"
       ]
      },
      {
       "output_type": "stream",
       "stream": "stderr",
       "text": [
        "ERROR:ROOT.TTF.SetTextSize] current font index out of bounds\n"
       ]
      },
      {
       "output_type": "stream",
       "stream": "stderr",
       "text": [
        "ERROR:ROOT.TTF.SetTextFont] font file FreeSans.otf not found in path\n"
       ]
      },
      {
       "output_type": "stream",
       "stream": "stderr",
       "text": [
        "ERROR:ROOT.TTF.SetTextSize] current font index out of bounds\n"
       ]
      },
      {
       "output_type": "stream",
       "stream": "stderr",
       "text": [
        "ERROR:ROOT.TTF.SetTextFont] font file FreeSans.otf not found in path\n"
       ]
      },
      {
       "output_type": "stream",
       "stream": "stderr",
       "text": [
        "ERROR:ROOT.TTF.SetTextSize] current font index out of bounds\n"
       ]
      },
      {
       "output_type": "stream",
       "stream": "stderr",
       "text": [
        "ERROR:ROOT.TTF.SetTextFont] font file FreeSans.otf not found in path\n"
       ]
      },
      {
       "output_type": "stream",
       "stream": "stderr",
       "text": [
        "ERROR:ROOT.TTF.SetTextSize] current font index out of bounds\n"
       ]
      },
      {
       "output_type": "stream",
       "stream": "stderr",
       "text": [
        "ERROR:ROOT.TTF.SetTextFont] font file FreeSans.otf not found in path\n"
       ]
      },
      {
       "output_type": "stream",
       "stream": "stderr",
       "text": [
        "ERROR:ROOT.TTF.SetTextSize] current font index out of bounds\n"
       ]
      },
      {
       "output_type": "stream",
       "stream": "stderr",
       "text": [
        "ERROR:ROOT.TTF.SetTextFont] font file FreeSans.otf not found in path\n"
       ]
      },
      {
       "output_type": "stream",
       "stream": "stderr",
       "text": [
        "ERROR:ROOT.TTF.SetTextSize] current font index out of bounds\n"
       ]
      },
      {
       "output_type": "stream",
       "stream": "stderr",
       "text": [
        "ERROR:ROOT.TTF.SetTextFont] font file FreeSans.otf not found in path\n"
       ]
      },
      {
       "output_type": "stream",
       "stream": "stderr",
       "text": [
        "ERROR:ROOT.TTF.SetTextSize] current font index out of bounds\n"
       ]
      },
      {
       "output_type": "stream",
       "stream": "stderr",
       "text": [
        "ERROR:ROOT.TTF.SetTextFont] font file FreeSans.otf not found in path\n"
       ]
      },
      {
       "output_type": "stream",
       "stream": "stderr",
       "text": [
        "ERROR:ROOT.TTF.SetTextSize] current font index out of bounds\n"
       ]
      },
      {
       "output_type": "stream",
       "stream": "stderr",
       "text": [
        "ERROR:ROOT.TTF.SetTextFont] font file FreeSans.otf not found in path\n"
       ]
      },
      {
       "output_type": "stream",
       "stream": "stderr",
       "text": [
        "ERROR:ROOT.TTF.SetTextSize] current font index out of bounds\n"
       ]
      },
      {
       "output_type": "stream",
       "stream": "stderr",
       "text": [
        "ERROR:ROOT.TTF.SetTextFont] font file FreeSans.otf not found in path\n"
       ]
      },
      {
       "output_type": "stream",
       "stream": "stderr",
       "text": [
        "ERROR:ROOT.TTF.SetTextSize] current font index out of bounds\n"
       ]
      },
      {
       "output_type": "stream",
       "stream": "stderr",
       "text": [
        "ERROR:ROOT.TTF.SetTextFont] font file FreeSans.otf not found in path\n"
       ]
      },
      {
       "output_type": "stream",
       "stream": "stderr",
       "text": [
        "ERROR:ROOT.TTF.SetTextSize] current font index out of bounds\n"
       ]
      },
      {
       "output_type": "stream",
       "stream": "stderr",
       "text": [
        "ERROR:ROOT.TTF.SetTextFont] font file FreeSans.otf not found in path\n"
       ]
      },
      {
       "output_type": "stream",
       "stream": "stderr",
       "text": [
        "ERROR:ROOT.TTF.SetTextSize] current font index out of bounds\n"
       ]
      },
      {
       "output_type": "stream",
       "stream": "stderr",
       "text": [
        "ERROR:ROOT.TTF.SetTextFont] font file FreeSans.otf not found in path\n"
       ]
      },
      {
       "output_type": "stream",
       "stream": "stderr",
       "text": [
        "ERROR:ROOT.TTF.SetTextSize] current font index out of bounds\n"
       ]
      },
      {
       "output_type": "stream",
       "stream": "stderr",
       "text": [
        "ERROR:ROOT.TTF.SetTextFont] font file FreeSans.otf not found in path\n"
       ]
      },
      {
       "output_type": "stream",
       "stream": "stderr",
       "text": [
        "ERROR:ROOT.TTF.SetTextSize] current font index out of bounds\n"
       ]
      },
      {
       "output_type": "stream",
       "stream": "stderr",
       "text": [
        "ERROR:ROOT.TTF.SetTextFont] font file FreeSans.otf not found in path\n"
       ]
      },
      {
       "output_type": "stream",
       "stream": "stderr",
       "text": [
        "ERROR:ROOT.TTF.SetTextSize] current font index out of bounds\n"
       ]
      },
      {
       "output_type": "stream",
       "stream": "stderr",
       "text": [
        "ERROR:ROOT.TTF.SetTextFont] font file FreeSans.otf not found in path\n"
       ]
      },
      {
       "output_type": "stream",
       "stream": "stderr",
       "text": [
        "ERROR:ROOT.TTF.SetTextSize] current font index out of bounds\n"
       ]
      },
      {
       "output_type": "stream",
       "stream": "stderr",
       "text": [
        "ERROR:ROOT.TTF.SetTextFont] font file FreeSans.otf not found in path\n"
       ]
      },
      {
       "output_type": "stream",
       "stream": "stderr",
       "text": [
        "ERROR:ROOT.TTF.SetTextSize] current font index out of bounds\n"
       ]
      },
      {
       "output_type": "stream",
       "stream": "stderr",
       "text": [
        "ERROR:ROOT.TTF.SetTextFont] font file FreeSans.otf not found in path\n"
       ]
      },
      {
       "output_type": "stream",
       "stream": "stderr",
       "text": [
        "ERROR:ROOT.TTF.SetTextSize] current font index out of bounds\n"
       ]
      },
      {
       "output_type": "stream",
       "stream": "stderr",
       "text": [
        "ERROR:ROOT.TTF.SetTextFont] font file FreeSans.otf not found in path\n"
       ]
      },
      {
       "output_type": "stream",
       "stream": "stderr",
       "text": [
        "ERROR:ROOT.TTF.SetTextSize] current font index out of bounds\n"
       ]
      },
      {
       "output_type": "stream",
       "stream": "stderr",
       "text": [
        "ERROR:ROOT.TTF.SetTextFont] font file FreeSans.otf not found in path\n"
       ]
      },
      {
       "output_type": "stream",
       "stream": "stderr",
       "text": [
        "ERROR:ROOT.TTF.SetTextSize] current font index out of bounds\n"
       ]
      },
      {
       "output_type": "stream",
       "stream": "stderr",
       "text": [
        "ERROR:ROOT.TTF.SetTextFont] font file FreeSans.otf not found in path\n"
       ]
      },
      {
       "output_type": "stream",
       "stream": "stderr",
       "text": [
        "ERROR:ROOT.TTF.SetTextSize] current font index out of bounds\n"
       ]
      },
      {
       "output_type": "stream",
       "stream": "stderr",
       "text": [
        "ERROR:ROOT.TTF.SetTextFont] font file FreeSans.otf not found in path\n"
       ]
      },
      {
       "output_type": "stream",
       "stream": "stderr",
       "text": [
        "ERROR:ROOT.TTF.SetTextSize] current font index out of bounds\n"
       ]
      },
      {
       "output_type": "stream",
       "stream": "stderr",
       "text": [
        "ERROR:ROOT.TTF.SetTextFont] font file FreeSans.otf not found in path\n"
       ]
      },
      {
       "output_type": "stream",
       "stream": "stderr",
       "text": [
        "ERROR:ROOT.TTF.SetTextSize] current font index out of bounds\n"
       ]
      },
      {
       "output_type": "stream",
       "stream": "stderr",
       "text": [
        "ERROR:ROOT.TTF.SetTextFont] font file FreeSans.otf not found in path\n"
       ]
      },
      {
       "output_type": "stream",
       "stream": "stderr",
       "text": [
        "ERROR:ROOT.TTF.SetTextSize] current font index out of bounds\n"
       ]
      },
      {
       "output_type": "stream",
       "stream": "stderr",
       "text": [
        "ERROR:ROOT.TTF.SetTextFont] font file FreeSans.otf not found in path\n"
       ]
      },
      {
       "output_type": "stream",
       "stream": "stderr",
       "text": [
        "ERROR:ROOT.TTF.SetTextSize] current font index out of bounds\n"
       ]
      },
      {
       "output_type": "stream",
       "stream": "stderr",
       "text": [
        "ERROR:ROOT.TTF.SetTextFont] font file FreeSans.otf not found in path\n"
       ]
      },
      {
       "output_type": "stream",
       "stream": "stderr",
       "text": [
        "ERROR:ROOT.TTF.SetTextSize] current font index out of bounds\n"
       ]
      },
      {
       "output_type": "stream",
       "stream": "stderr",
       "text": [
        "ERROR:ROOT.TTF.SetTextFont] font file FreeSans.otf not found in path\n"
       ]
      },
      {
       "output_type": "stream",
       "stream": "stderr",
       "text": [
        "ERROR:ROOT.TTF.SetTextSize] current font index out of bounds\n"
       ]
      },
      {
       "output_type": "stream",
       "stream": "stderr",
       "text": [
        "ERROR:ROOT.TTF.SetTextFont] font file FreeSans.otf not found in path\n"
       ]
      },
      {
       "output_type": "stream",
       "stream": "stderr",
       "text": [
        "ERROR:ROOT.TTF.SetTextSize] current font index out of bounds\n"
       ]
      },
      {
       "output_type": "stream",
       "stream": "stderr",
       "text": [
        "ERROR:ROOT.TTF.SetTextFont] font file FreeSans.otf not found in path\n"
       ]
      },
      {
       "output_type": "stream",
       "stream": "stderr",
       "text": [
        "ERROR:ROOT.TTF.SetTextSize] current font index out of bounds\n"
       ]
      },
      {
       "output_type": "stream",
       "stream": "stderr",
       "text": [
        "ERROR:ROOT.TTF.SetTextFont] font file FreeSans.otf not found in path\n"
       ]
      },
      {
       "output_type": "stream",
       "stream": "stderr",
       "text": [
        "ERROR:ROOT.TTF.SetTextSize] current font index out of bounds\n"
       ]
      },
      {
       "output_type": "stream",
       "stream": "stderr",
       "text": [
        "ERROR:ROOT.TTF.SetTextFont] font file FreeSans.otf not found in path\n"
       ]
      },
      {
       "output_type": "stream",
       "stream": "stderr",
       "text": [
        "ERROR:ROOT.TTF.SetTextSize] current font index out of bounds\n"
       ]
      },
      {
       "output_type": "stream",
       "stream": "stderr",
       "text": [
        "ERROR:ROOT.TTF.SetTextFont] font file FreeSans.otf not found in path\n"
       ]
      },
      {
       "output_type": "stream",
       "stream": "stderr",
       "text": [
        "ERROR:ROOT.TTF.SetTextSize] current font index out of bounds\n"
       ]
      },
      {
       "output_type": "stream",
       "stream": "stderr",
       "text": [
        "ERROR:ROOT.TTF.SetTextFont] font file FreeSans.otf not found in path\n"
       ]
      },
      {
       "output_type": "stream",
       "stream": "stderr",
       "text": [
        "ERROR:ROOT.TTF.SetTextSize] current font index out of bounds\n"
       ]
      },
      {
       "output_type": "stream",
       "stream": "stderr",
       "text": [
        "ERROR:ROOT.TTF.SetTextFont] font file FreeSans.otf not found in path\n"
       ]
      },
      {
       "output_type": "stream",
       "stream": "stderr",
       "text": [
        "ERROR:ROOT.TTF.SetTextSize] current font index out of bounds\n"
       ]
      },
      {
       "output_type": "stream",
       "stream": "stderr",
       "text": [
        "ERROR:ROOT.TTF.SetTextFont] font file FreeSans.otf not found in path\n"
       ]
      },
      {
       "output_type": "stream",
       "stream": "stderr",
       "text": [
        "ERROR:ROOT.TTF.SetTextSize] current font index out of bounds\n"
       ]
      },
      {
       "output_type": "stream",
       "stream": "stderr",
       "text": [
        "ERROR:ROOT.TTF.SetTextFont] font file FreeSans.otf not found in path\n"
       ]
      },
      {
       "output_type": "stream",
       "stream": "stderr",
       "text": [
        "ERROR:ROOT.TTF.SetTextSize] current font index out of bounds\n"
       ]
      },
      {
       "output_type": "stream",
       "stream": "stderr",
       "text": [
        "ERROR:ROOT.TTF.SetTextFont] font file FreeSans.otf not found in path\n"
       ]
      },
      {
       "output_type": "stream",
       "stream": "stderr",
       "text": [
        "ERROR:ROOT.TTF.SetTextSize] current font index out of bounds\n"
       ]
      },
      {
       "output_type": "stream",
       "stream": "stderr",
       "text": [
        "ERROR:ROOT.TTF.SetTextFont] font file FreeSans.otf not found in path\n"
       ]
      },
      {
       "output_type": "stream",
       "stream": "stderr",
       "text": [
        "ERROR:ROOT.TTF.SetTextSize] current font index out of bounds\n"
       ]
      },
      {
       "output_type": "stream",
       "stream": "stderr",
       "text": [
        "ERROR:ROOT.TTF.SetTextFont] font file FreeSans.otf not found in path\n"
       ]
      },
      {
       "output_type": "stream",
       "stream": "stderr",
       "text": [
        "ERROR:ROOT.TTF.SetTextSize] current font index out of bounds\n"
       ]
      },
      {
       "output_type": "stream",
       "stream": "stderr",
       "text": [
        "ERROR:ROOT.TTF.SetTextFont] font file FreeSans.otf not found in path\n"
       ]
      },
      {
       "output_type": "stream",
       "stream": "stderr",
       "text": [
        "ERROR:ROOT.TTF.SetTextSize] current font index out of bounds\n"
       ]
      },
      {
       "output_type": "stream",
       "stream": "stderr",
       "text": [
        "ERROR:ROOT.TTF.SetTextFont] font file FreeSans.otf not found in path\n"
       ]
      },
      {
       "output_type": "stream",
       "stream": "stderr",
       "text": [
        "ERROR:ROOT.TTF.SetTextSize] current font index out of bounds\n"
       ]
      },
      {
       "output_type": "stream",
       "stream": "stderr",
       "text": [
        "ERROR:ROOT.TTF.SetTextFont] font file FreeSans.otf not found in path\n"
       ]
      },
      {
       "output_type": "stream",
       "stream": "stderr",
       "text": [
        "ERROR:ROOT.TTF.SetTextSize] current font index out of bounds\n"
       ]
      },
      {
       "output_type": "stream",
       "stream": "stderr",
       "text": [
        "ERROR:ROOT.TTF.SetTextFont] font file FreeSans.otf not found in path\n"
       ]
      },
      {
       "output_type": "stream",
       "stream": "stderr",
       "text": [
        "ERROR:ROOT.TTF.SetTextSize] current font index out of bounds\n"
       ]
      },
      {
       "output_type": "stream",
       "stream": "stderr",
       "text": [
        "ERROR:ROOT.TTF.SetTextFont] font file FreeSans.otf not found in path\n"
       ]
      },
      {
       "output_type": "stream",
       "stream": "stderr",
       "text": [
        "ERROR:ROOT.TTF.SetTextSize] current font index out of bounds\n"
       ]
      },
      {
       "output_type": "stream",
       "stream": "stderr",
       "text": [
        "ERROR:ROOT.TTF.SetTextFont] font file FreeSans.otf not found in path\n"
       ]
      },
      {
       "output_type": "stream",
       "stream": "stderr",
       "text": [
        "ERROR:ROOT.TTF.SetTextSize] current font index out of bounds\n"
       ]
      },
      {
       "output_type": "stream",
       "stream": "stderr",
       "text": [
        "ERROR:ROOT.TTF.SetTextFont] font file FreeSans.otf not found in path\n"
       ]
      },
      {
       "output_type": "stream",
       "stream": "stderr",
       "text": [
        "ERROR:ROOT.TTF.SetTextSize] current font index out of bounds\n"
       ]
      },
      {
       "output_type": "stream",
       "stream": "stderr",
       "text": [
        "ERROR:ROOT.TTF.SetTextFont] font file FreeSans.otf not found in path\n"
       ]
      },
      {
       "output_type": "stream",
       "stream": "stderr",
       "text": [
        "ERROR:ROOT.TTF.SetTextSize] current font index out of bounds\n"
       ]
      },
      {
       "output_type": "stream",
       "stream": "stderr",
       "text": [
        "ERROR:ROOT.TTF.SetTextFont] font file FreeSans.otf not found in path\n"
       ]
      },
      {
       "output_type": "stream",
       "stream": "stderr",
       "text": [
        "ERROR:ROOT.TTF.SetTextSize] current font index out of bounds\n"
       ]
      },
      {
       "output_type": "stream",
       "stream": "stderr",
       "text": [
        "ERROR:ROOT.TTF.SetTextFont] font file FreeSans.otf not found in path\n"
       ]
      },
      {
       "output_type": "stream",
       "stream": "stderr",
       "text": [
        "ERROR:ROOT.TTF.SetTextSize] current font index out of bounds\n"
       ]
      },
      {
       "output_type": "stream",
       "stream": "stderr",
       "text": [
        "ERROR:ROOT.TTF.SetTextFont] font file FreeSans.otf not found in path\n"
       ]
      },
      {
       "output_type": "stream",
       "stream": "stderr",
       "text": [
        "ERROR:ROOT.TTF.SetTextSize] current font index out of bounds\n"
       ]
      },
      {
       "output_type": "stream",
       "stream": "stderr",
       "text": [
        "ERROR:ROOT.TTF.SetTextFont] font file FreeSans.otf not found in path\n"
       ]
      },
      {
       "output_type": "stream",
       "stream": "stderr",
       "text": [
        "ERROR:ROOT.TTF.SetTextSize] current font index out of bounds\n"
       ]
      },
      {
       "output_type": "stream",
       "stream": "stderr",
       "text": [
        "ERROR:ROOT.TTF.SetTextFont] font file FreeSans.otf not found in path\n"
       ]
      },
      {
       "output_type": "stream",
       "stream": "stderr",
       "text": [
        "ERROR:ROOT.TTF.SetTextSize] current font index out of bounds\n"
       ]
      },
      {
       "output_type": "stream",
       "stream": "stderr",
       "text": [
        "ERROR:ROOT.TTF.SetTextFont] font file FreeSans.otf not found in path\n"
       ]
      },
      {
       "output_type": "stream",
       "stream": "stderr",
       "text": [
        "ERROR:ROOT.TTF.SetTextSize] current font index out of bounds\n"
       ]
      },
      {
       "output_type": "stream",
       "stream": "stderr",
       "text": [
        "ERROR:ROOT.TTF.SetTextFont] font file FreeSans.otf not found in path\n"
       ]
      },
      {
       "output_type": "stream",
       "stream": "stderr",
       "text": [
        "ERROR:ROOT.TTF.SetTextSize] current font index out of bounds\n"
       ]
      },
      {
       "output_type": "stream",
       "stream": "stderr",
       "text": [
        "ERROR:ROOT.TTF.SetTextFont] font file FreeSans.otf not found in path\n"
       ]
      },
      {
       "output_type": "stream",
       "stream": "stderr",
       "text": [
        "ERROR:ROOT.TTF.SetTextSize] current font index out of bounds\n"
       ]
      },
      {
       "output_type": "stream",
       "stream": "stderr",
       "text": [
        "ERROR:ROOT.TTF.SetTextFont] font file FreeSans.otf not found in path\n"
       ]
      },
      {
       "output_type": "stream",
       "stream": "stderr",
       "text": [
        "ERROR:ROOT.TTF.SetTextSize] current font index out of bounds\n"
       ]
      },
      {
       "output_type": "stream",
       "stream": "stderr",
       "text": [
        "ERROR:ROOT.TTF.SetTextFont] font file FreeSans.otf not found in path\n"
       ]
      },
      {
       "output_type": "stream",
       "stream": "stderr",
       "text": [
        "ERROR:ROOT.TTF.SetTextSize] current font index out of bounds\n"
       ]
      },
      {
       "output_type": "stream",
       "stream": "stderr",
       "text": [
        "ERROR:ROOT.TTF.SetTextFont] font file FreeSans.otf not found in path\n"
       ]
      },
      {
       "output_type": "stream",
       "stream": "stderr",
       "text": [
        "ERROR:ROOT.TTF.SetTextSize] current font index out of bounds\n"
       ]
      },
      {
       "output_type": "stream",
       "stream": "stderr",
       "text": [
        "ERROR:ROOT.TTF.SetTextFont] font file FreeSans.otf not found in path\n"
       ]
      },
      {
       "output_type": "stream",
       "stream": "stderr",
       "text": [
        "ERROR:ROOT.TTF.SetTextSize] current font index out of bounds\n"
       ]
      },
      {
       "output_type": "stream",
       "stream": "stderr",
       "text": [
        "ERROR:ROOT.TTF.SetTextFont] font file FreeSans.otf not found in path\n"
       ]
      },
      {
       "output_type": "stream",
       "stream": "stderr",
       "text": [
        "ERROR:ROOT.TTF.SetTextSize] current font index out of bounds\n"
       ]
      },
      {
       "output_type": "stream",
       "stream": "stderr",
       "text": [
        "ERROR:ROOT.TTF.SetTextFont] font file FreeSans.otf not found in path\n"
       ]
      },
      {
       "output_type": "stream",
       "stream": "stderr",
       "text": [
        "ERROR:ROOT.TTF.SetTextSize] current font index out of bounds\n"
       ]
      },
      {
       "output_type": "stream",
       "stream": "stderr",
       "text": [
        "ERROR:ROOT.TTF.SetTextFont] font file FreeSans.otf not found in path\n"
       ]
      },
      {
       "output_type": "stream",
       "stream": "stderr",
       "text": [
        "ERROR:ROOT.TTF.SetTextSize] current font index out of bounds\n"
       ]
      },
      {
       "output_type": "stream",
       "stream": "stderr",
       "text": [
        "ERROR:ROOT.TTF.SetTextFont] font file FreeSans.otf not found in path\n"
       ]
      },
      {
       "output_type": "stream",
       "stream": "stderr",
       "text": [
        "ERROR:ROOT.TTF.SetTextSize] current font index out of bounds\n"
       ]
      },
      {
       "output_type": "stream",
       "stream": "stderr",
       "text": [
        "ERROR:ROOT.TTF.SetTextFont] font file FreeSans.otf not found in path\n"
       ]
      },
      {
       "output_type": "stream",
       "stream": "stderr",
       "text": [
        "ERROR:ROOT.TTF.SetTextSize] current font index out of bounds\n"
       ]
      },
      {
       "output_type": "stream",
       "stream": "stderr",
       "text": [
        "ERROR:ROOT.TTF.SetTextFont] font file FreeSans.otf not found in path\n"
       ]
      },
      {
       "output_type": "stream",
       "stream": "stderr",
       "text": [
        "ERROR:ROOT.TTF.SetTextSize] current font index out of bounds\n"
       ]
      },
      {
       "output_type": "stream",
       "stream": "stderr",
       "text": [
        "ERROR:ROOT.TTF.SetTextFont] font file FreeSans.otf not found in path\n"
       ]
      },
      {
       "output_type": "stream",
       "stream": "stderr",
       "text": [
        "ERROR:ROOT.TTF.SetTextSize] current font index out of bounds\n"
       ]
      },
      {
       "output_type": "stream",
       "stream": "stderr",
       "text": [
        "ERROR:ROOT.TTF.SetTextFont] font file FreeSans.otf not found in path\n"
       ]
      },
      {
       "output_type": "stream",
       "stream": "stderr",
       "text": [
        "ERROR:ROOT.TTF.SetTextSize] current font index out of bounds\n"
       ]
      },
      {
       "output_type": "stream",
       "stream": "stderr",
       "text": [
        "ERROR:ROOT.TTF.SetTextFont] font file FreeSans.otf not found in path\n"
       ]
      },
      {
       "output_type": "stream",
       "stream": "stderr",
       "text": [
        "ERROR:ROOT.TTF.SetTextSize] current font index out of bounds\n"
       ]
      },
      {
       "output_type": "stream",
       "stream": "stderr",
       "text": [
        "ERROR:ROOT.TTF.SetTextFont] font file FreeSans.otf not found in path\n"
       ]
      },
      {
       "output_type": "stream",
       "stream": "stderr",
       "text": [
        "ERROR:ROOT.TTF.SetTextSize] current font index out of bounds\n"
       ]
      },
      {
       "output_type": "stream",
       "stream": "stderr",
       "text": [
        "ERROR:ROOT.TTF.SetTextFont] font file FreeSans.otf not found in path\n"
       ]
      },
      {
       "output_type": "stream",
       "stream": "stderr",
       "text": [
        "ERROR:ROOT.TTF.SetTextSize] current font index out of bounds\n"
       ]
      },
      {
       "output_type": "stream",
       "stream": "stderr",
       "text": [
        "ERROR:ROOT.TTF.SetTextFont] font file FreeSans.otf not found in path\n"
       ]
      },
      {
       "output_type": "stream",
       "stream": "stderr",
       "text": [
        "ERROR:ROOT.TTF.SetTextSize] current font index out of bounds\n"
       ]
      },
      {
       "output_type": "stream",
       "stream": "stderr",
       "text": [
        "ERROR:ROOT.TTF.SetTextFont] font file FreeSans.otf not found in path\n"
       ]
      },
      {
       "output_type": "stream",
       "stream": "stderr",
       "text": [
        "ERROR:ROOT.TTF.SetTextSize] current font index out of bounds\n"
       ]
      },
      {
       "output_type": "stream",
       "stream": "stderr",
       "text": [
        "ERROR:ROOT.TTF.SetTextFont] font file FreeSans.otf not found in path\n"
       ]
      },
      {
       "output_type": "stream",
       "stream": "stderr",
       "text": [
        "ERROR:ROOT.TTF.SetTextSize] current font index out of bounds\n"
       ]
      },
      {
       "output_type": "stream",
       "stream": "stderr",
       "text": [
        "ERROR:ROOT.TTF.SetTextFont] font file FreeSans.otf not found in path\n"
       ]
      },
      {
       "output_type": "stream",
       "stream": "stderr",
       "text": [
        "ERROR:ROOT.TTF.SetTextSize] current font index out of bounds\n"
       ]
      },
      {
       "output_type": "stream",
       "stream": "stderr",
       "text": [
        "ERROR:ROOT.TTF.SetTextFont] font file FreeSans.otf not found in path\n"
       ]
      },
      {
       "output_type": "stream",
       "stream": "stderr",
       "text": [
        "ERROR:ROOT.TTF.SetTextSize] current font index out of bounds\n"
       ]
      },
      {
       "output_type": "stream",
       "stream": "stderr",
       "text": [
        "ERROR:ROOT.TTF.SetTextFont] font file FreeSans.otf not found in path\n"
       ]
      },
      {
       "output_type": "stream",
       "stream": "stderr",
       "text": [
        "ERROR:ROOT.TTF.SetTextSize] current font index out of bounds\n"
       ]
      },
      {
       "output_type": "stream",
       "stream": "stderr",
       "text": [
        "ERROR:ROOT.TTF.SetTextFont] font file FreeSans.otf not found in path\n"
       ]
      },
      {
       "output_type": "stream",
       "stream": "stderr",
       "text": [
        "ERROR:ROOT.TTF.SetTextSize] current font index out of bounds\n"
       ]
      },
      {
       "output_type": "stream",
       "stream": "stderr",
       "text": [
        "ERROR:ROOT.TTF.SetTextFont] font file FreeSans.otf not found in path\n"
       ]
      },
      {
       "output_type": "stream",
       "stream": "stderr",
       "text": [
        "ERROR:ROOT.TTF.SetTextSize] current font index out of bounds\n"
       ]
      },
      {
       "output_type": "stream",
       "stream": "stderr",
       "text": [
        "ERROR:ROOT.TTF.SetTextFont] font file FreeSans.otf not found in path\n"
       ]
      },
      {
       "output_type": "stream",
       "stream": "stderr",
       "text": [
        "ERROR:ROOT.TTF.SetTextSize] current font index out of bounds\n"
       ]
      },
      {
       "output_type": "stream",
       "stream": "stderr",
       "text": [
        "ERROR:ROOT.TTF.SetTextFont] font file FreeSans.otf not found in path\n"
       ]
      },
      {
       "output_type": "stream",
       "stream": "stderr",
       "text": [
        "ERROR:ROOT.TTF.SetTextSize] current font index out of bounds\n"
       ]
      },
      {
       "output_type": "stream",
       "stream": "stderr",
       "text": [
        "ERROR:ROOT.TTF.SetTextFont] font file FreeSans.otf not found in path\n"
       ]
      },
      {
       "output_type": "stream",
       "stream": "stderr",
       "text": [
        "ERROR:ROOT.TTF.SetTextSize] current font index out of bounds\n"
       ]
      },
      {
       "output_type": "stream",
       "stream": "stderr",
       "text": [
        "ERROR:ROOT.TTF.SetTextFont] font file FreeSans.otf not found in path\n"
       ]
      },
      {
       "output_type": "stream",
       "stream": "stderr",
       "text": [
        "ERROR:ROOT.TTF.SetTextSize] current font index out of bounds\n"
       ]
      },
      {
       "output_type": "stream",
       "stream": "stderr",
       "text": [
        "ERROR:ROOT.TTF.SetTextFont] font file FreeSans.otf not found in path\n"
       ]
      },
      {
       "output_type": "stream",
       "stream": "stderr",
       "text": [
        "ERROR:ROOT.TTF.SetTextSize] current font index out of bounds\n"
       ]
      },
      {
       "output_type": "stream",
       "stream": "stderr",
       "text": [
        "ERROR:ROOT.TTF.SetTextFont] font file FreeSans.otf not found in path\n"
       ]
      },
      {
       "output_type": "stream",
       "stream": "stderr",
       "text": [
        "ERROR:ROOT.TTF.SetTextSize] current font index out of bounds\n"
       ]
      },
      {
       "output_type": "stream",
       "stream": "stderr",
       "text": [
        "ERROR:ROOT.TTF.SetTextFont] font file FreeSans.otf not found in path\n"
       ]
      },
      {
       "output_type": "stream",
       "stream": "stderr",
       "text": [
        "ERROR:ROOT.TTF.SetTextSize] current font index out of bounds\n"
       ]
      },
      {
       "ename": "ROOTError",
       "evalue": "level=3000, loc='TTF::SetTextFont', msg='font file FreeSansBold.otf not found in path'",
       "output_type": "pyerr",
       "traceback": [
        "\u001b[1;31m---------------------------------------------------------------------------\u001b[0m\n\u001b[1;31mROOTError\u001b[0m                                 Traceback (most recent call last)",
        "\u001b[1;32m<ipython-input-5-03b387234e64>\u001b[0m in \u001b[0;36m<module>\u001b[1;34m()\u001b[0m\n\u001b[0;32m     16\u001b[0m \u001b[0mntuple\u001b[0m\u001b[1;33m.\u001b[0m\u001b[0mDraw\u001b[0m\u001b[1;33m(\u001b[0m\u001b[1;34m\"y:x\"\u001b[0m\u001b[1;33m,\u001b[0m\u001b[1;34m\"signal <= 0.5\"\u001b[0m\u001b[1;33m,\u001b[0m\u001b[1;34m\"same\"\u001b[0m\u001b[1;33m)\u001b[0m\u001b[1;33m\u001b[0m\u001b[0m\n\u001b[0;32m     17\u001b[0m \u001b[1;31m# \u041c\u0443\u0436\u0438\u043a \u0432\u043e\u0442 \u044d\u0442\u043e \u0437\u0430\u0431\u044b\u043b\u001b[0m\u001b[1;33m\u001b[0m\u001b[1;33m\u001b[0m\u001b[0m\n\u001b[1;32m---> 18\u001b[1;33m \u001b[0mcanvas\u001b[0m\u001b[1;33m.\u001b[0m\u001b[0mUpdate\u001b[0m\u001b[1;33m(\u001b[0m\u001b[1;33m)\u001b[0m\u001b[1;33m\u001b[0m\u001b[0m\n\u001b[0m",
        "\u001b[1;32m<ipython-input-5-03b387234e64>\u001b[0m in \u001b[0;36m<module>\u001b[1;34m()\u001b[0m\n\u001b[0;32m     16\u001b[0m \u001b[0mntuple\u001b[0m\u001b[1;33m.\u001b[0m\u001b[0mDraw\u001b[0m\u001b[1;33m(\u001b[0m\u001b[1;34m\"y:x\"\u001b[0m\u001b[1;33m,\u001b[0m\u001b[1;34m\"signal <= 0.5\"\u001b[0m\u001b[1;33m,\u001b[0m\u001b[1;34m\"same\"\u001b[0m\u001b[1;33m)\u001b[0m\u001b[1;33m\u001b[0m\u001b[0m\n\u001b[0;32m     17\u001b[0m \u001b[1;31m# \u041c\u0443\u0436\u0438\u043a \u0432\u043e\u0442 \u044d\u0442\u043e \u0437\u0430\u0431\u044b\u043b\u001b[0m\u001b[1;33m\u001b[0m\u001b[1;33m\u001b[0m\u001b[0m\n\u001b[1;32m---> 18\u001b[1;33m \u001b[0mcanvas\u001b[0m\u001b[1;33m.\u001b[0m\u001b[0mUpdate\u001b[0m\u001b[1;33m(\u001b[0m\u001b[1;33m)\u001b[0m\u001b[1;33m\u001b[0m\u001b[0m\n\u001b[0m",
        "\u001b[1;32m/mnt/w76/venv/py27/local/lib/python2.7/site-packages/rootpy/logger/roothandler.pyc\u001b[0m in \u001b[0;36mpython_logging_error_handler\u001b[1;34m(level, root_says_abort, location, msg)\u001b[0m\n\u001b[0;32m     89\u001b[0m             \u001b[1;31m# Hence the need for dark magic, we re-raise it within a trace.\u001b[0m\u001b[1;33m\u001b[0m\u001b[1;33m\u001b[0m\u001b[0m\n\u001b[0;32m     90\u001b[0m             \u001b[1;32mfrom\u001b[0m \u001b[0mrootpy\u001b[0m \u001b[1;32mimport\u001b[0m \u001b[0mROOTError\u001b[0m\u001b[1;33m\u001b[0m\u001b[0m\n\u001b[1;32m---> 91\u001b[1;33m             \u001b[1;32mraise\u001b[0m \u001b[0mROOTError\u001b[0m\u001b[1;33m(\u001b[0m\u001b[0mlevel\u001b[0m\u001b[1;33m,\u001b[0m \u001b[0mlocation\u001b[0m\u001b[1;33m,\u001b[0m \u001b[0mmsg\u001b[0m\u001b[1;33m)\u001b[0m\u001b[1;33m\u001b[0m\u001b[0m\n\u001b[0m\u001b[0;32m     92\u001b[0m         \u001b[1;32mexcept\u001b[0m \u001b[0mRuntimeError\u001b[0m\u001b[1;33m:\u001b[0m\u001b[1;33m\u001b[0m\u001b[0m\n\u001b[0;32m     93\u001b[0m             \u001b[0m_\u001b[0m\u001b[1;33m,\u001b[0m \u001b[0mexc\u001b[0m\u001b[1;33m,\u001b[0m \u001b[0mtraceback\u001b[0m \u001b[1;33m=\u001b[0m \u001b[0msys\u001b[0m\u001b[1;33m.\u001b[0m\u001b[0mexc_info\u001b[0m\u001b[1;33m(\u001b[0m\u001b[1;33m)\u001b[0m\u001b[1;33m\u001b[0m\u001b[0m\n",
        "\u001b[1;31mROOTError\u001b[0m: level=3000, loc='TTF::SetTextFont', msg='font file FreeSansBold.otf not found in path'"
       ]
      }
     ],
     "prompt_number": 5
    },
    {
     "cell_type": "markdown",
     "metadata": {},
     "source": [
      "The following code is inspired by the standard TMVA classification example ($ROOTSYS/tmva/test/TMVAClassification.C). \n",
      "\n",
      "First, we\u2019ll initialize TMVA and create a factory object:\n"
     ]
    },
    {
     "cell_type": "code",
     "collapsed": false,
     "input": [
      "ROOT.TMVA.Tools.Instance()\n",
      " \n",
      "# note that it seems to be mandatory to have an\n",
      "# output file, just passing None to TMVA::Factory(..)\n",
      "# does not work. Make sure you don't overwrite an\n",
      "# existing file.\n",
      "fout = ROOT.TFile(\"test.root\",\"RECREATE\")\n",
      "factory = ROOT.TMVA.Factory(\"TMVAClassification\", fout,\n",
      "                            \":\".join([\n",
      "                                \"!V\",\n",
      "                                \"!Silent\",\n",
      "                                \"Color\",\n",
      "#                                 \"DrawProgressBar\",\n",
      "                                \"Transformations=I;D;P;G,D\",\n",
      "                                \"AnalysisType=Classification\"]\n",
      "                                     ))"
     ],
     "language": "python",
     "metadata": {},
     "outputs": [],
     "prompt_number": 6
    },
    {
     "cell_type": "markdown",
     "metadata": {},
     "source": [
      "The parameters given to the constructor of ROOT.TMVA.Factory are described in section 3.1 of the current TMVA user\u2019s guide. Verbosity is disabled with the !V (\u2018not verbose\u2019) option while !Silent (\u2018not silent\u2019) still allows for some level of reporting. Color enables the use of color and DrawProgressBar enables displaying the progress of training. Currently, some of these options actually correspond to the default setting so need not necessarily be specified. <br /> The values given to the Transformations parameter only affect testing and visualization, not the training (according to the manual).\n",
      "\n",
      "Now we declare which variables should be used for classification (the \u2018independent\u2019 variables) and add the tree for signal and background events (which are stored in the same tree in this example, a cut on the variable signal is used to distinguish between signal and background events):"
     ]
    },
    {
     "cell_type": "code",
     "collapsed": false,
     "input": [
      "factory.AddVariable(\"x\",\"F\")\n",
      "factory.AddVariable(\"y\",\"F\") \n",
      "\n",
      "factory.AddSignalTree(ntuple)\n",
      "factory.AddBackgroundTree(ntuple)\n",
      "\n",
      "# cuts defining the signal and background sample\n",
      "sigCut = ROOT.TCut(\"signal > 0.5\")\n",
      "bgCut  = ROOT.TCut(\"signal <= 0.5\")\n",
      " \n",
      "factory.PrepareTrainingAndTestTree(sigCut,   # signal events\n",
      "                                   bgCut,    # background events\n",
      "                                   \":\".join([\n",
      "                                        \"nTrain_Signal=0\",\n",
      "                                        \"nTrain_Background=0\",\n",
      "                                        \"SplitMode=Random\",\n",
      "                                        \"NormMode=NumEvents\",\n",
      "                                        \"!V\"\n",
      "                                       ]))"
     ],
     "language": "python",
     "metadata": {},
     "outputs": [],
     "prompt_number": 7
    },
    {
     "cell_type": "code",
     "collapsed": false,
     "input": [
      "method = factory.BookMethod(ROOT.TMVA.Types.kBDT, \"BDT\",\n",
      "                   \":\".join([\n",
      "                       \"!H\",\n",
      "                       \"!V\",\n",
      "                       \"NTrees=850\",\n",
      "                       \"nEventsMin=150\",\n",
      "                       \"MaxDepth=3\",\n",
      "                       \"BoostType=AdaBoost\",\n",
      "                       \"AdaBoostBeta=0.5\",\n",
      "                       \"SeparationType=GiniIndex\",\n",
      "                       \"nCuts=20\",\n",
      "                       \"PruneMethod=NoPruning\",\n",
      "                       ]))\n",
      "method2 = factory.BookMethod(ROOT.TMVA.Types.kBDT, \"BDT2\",\n",
      "                   \":\".join([\n",
      "                       \"!H\",\n",
      "                       \"!V\",\n",
      "                       \"NTrees=850\",\n",
      "                       \"nEventsMin=150\",\n",
      "                       \"MaxDepth=3\",\n",
      "                       \"BoostType=AdaBoost\",\n",
      "                       \"AdaBoostBeta=0.5\",\n",
      "                       \"SeparationType=GiniIndex\",\n",
      "                       \"nCuts=20\",\n",
      "                       \"PruneMethod=NoPruning\",\n",
      "                       ])) \n",
      "factory.TrainAllMethods()\n",
      "factory.TestAllMethods()\n",
      "factory.EvaluateAllMethods()"
     ],
     "language": "python",
     "metadata": {},
     "outputs": []
    },
    {
     "cell_type": "markdown",
     "metadata": {},
     "source": [
      "The options (described in section 8.12.2 of the current TMVA user\u2019s guide) can be summarized as follows:\n",
      "\n",
      "* the help text should not be printed\n",
      "* verbosity is disabled\n",
      "* 850 trees should be used\n",
      "* leaf nodes must contain at least 150 events\n",
      "* the depth of the trees is limited to 3\n",
      "* adaptive boosting should be used\n",
      "* the Gini index should be used to select the best variable to be used in each tree node\n",
      "* 20 steps should be used when scanning cuts on a variable and\n",
      "* no pruning of trees after they have been constructed should be applied."
     ]
    },
    {
     "cell_type": "markdown",
     "metadata": {},
     "source": [
      "After running this, TMVA should have created a file weights/TMVAClassification_BDT.weights.xml \n",
      "which contains the structure of trained classifier. \n",
      "In order to evaluate the classification function at arbitrary coordinates, we create an instance of ROOT.TMVA.Reader:\n"
     ]
    },
    {
     "cell_type": "code",
     "collapsed": false,
     "input": [
      "reader = ROOT.TMVA.Reader()\n",
      "import array\n",
      "varx = array.array('f',[0]) ; reader.AddVariable(\"x\",varx)\n",
      "vary = array.array('f',[0]) ; reader.AddVariable(\"y\",vary)\n",
      "# Now that we have given the reader the variables x and y, we can read the weights file:\n",
      "reader.BookMVA(\"BDT\",\"weights/TMVAClassification_BDT.weights.xml\")\n",
      "# In order to plot the BDT output as function of x and y, we can use the following code snippet:\n",
      "# create a new 2D histogram with fine binning\n",
      "histo2 = ROOT.TH2F(\"histo2\",\"\",200,-5,5,200,-5,5)\n",
      "\n",
      "# loop over the bins of a 2D histogram\n",
      "for i in range(1, histo2.GetNbinsX() + 1):\n",
      "    for j in range(1, histo2.GetNbinsY() + 1):\n",
      "        # find the bin center coordinates\n",
      "        varx[0] = histo2.GetXaxis().GetBinCenter(i)\n",
      "        vary[0] = histo2.GetYaxis().GetBinCenter(j)\n",
      "        # calculate the value of the classifier\n",
      "        # function at the given coordinate\n",
      "        bdtOutput = reader.EvaluateMVA(\"BDT\")\n",
      "        # set the bin content equal to the classifier output\n",
      "        histo2.SetBinContent(i,j,bdtOutput)\n",
      "gcSaver.append(ROOT.TCanvas())\n",
      "histo2.Draw(\"colz\")\n",
      "\n",
      "## draw sigma contours around means\n",
      "# for mean, color in [((1,1), ROOT.kRed), ((-1,-1), ROOT.kBlue)]:\n",
      "    ## draw contours at 1 and 2 sigmas\n",
      "#     for numSigmas in [1,2]:\n",
      "#         circle = ROOT.TEllipse(mean[0], mean[1], numSigmas)\n",
      "#         circle.SetFillStyle(0)\n",
      "#         circle.SetLineColor(color)\n",
      "#         circle.SetLineWidth(2)\n",
      "#         circle.Draw()\n",
      "#         gcSaver.append(circle)\n",
      "# \u041d\u0435 \u043f\u043e\u043d\u044f\u043b, \u0437\u0430\u0447\u0435\u043c \u043e\u043d\u043e \u043d\u0430\u0434\u043e\n",
      "# ROOT.gPad.Modified()"
     ],
     "language": "python",
     "metadata": {},
     "outputs": []
    },
    {
     "cell_type": "code",
     "collapsed": false,
     "input": [
      "# varx[0] = 0.0\n",
      "# vary[0] = 0.0\n",
      "# calculate the value of the classifier\n",
      "# function at the given coordinate\n",
      "# bdtOutput = reader.EvaluateMVA(\"BDT\")\n",
      "# print bdtOutput"
     ],
     "language": "python",
     "metadata": {},
     "outputs": []
    },
    {
     "cell_type": "markdown",
     "metadata": {},
     "source": [
      "The overlaid ellipses are the one and two sigma contours around the mean signal and background. Note that these are ellipses because the x and y axes have a different scale. One can nicely see how the classifier approximates the Gaussian distributions with a set of trees representing rectangular regions.\n",
      "\n",
      "Typically, one also wants to look at the distribution of the classifier output for signal and background, e.g. to get an idea how well the two samples can be separated (although the ROC curve is more suitable for comparing the performance of different classifiers). TMVA fills a tree for the events in the test sample which we can use for this purpose:"
     ]
    },
    {
     "cell_type": "code",
     "collapsed": false,
     "input": [
      "# fill histograms for signal and background from the test sample tree\n",
      "ROOT.TestTree.Draw(\"BDT>>hSig(22,-1.1,1.1)\",\"classID == 0\",\"goff\")  # signal\n",
      "ROOT.TestTree.Draw(\"BDT>>hBg(22,-1.1,1.1)\",\"classID == 1\", \"goff\")  # background\n",
      " \n",
      "ROOT.hSig.SetLineColor(ROOT.kRed); ROOT.hSig.SetLineWidth(2)  # signal histogram\n",
      "ROOT.hBg.SetLineColor(ROOT.kBlue); ROOT.hBg.SetLineWidth(2)   # background histogram\n",
      " \n",
      "# use a THStack to show both histograms\n",
      "hs = ROOT.THStack(\"hs\",\"\")\n",
      "hs.Add(ROOT.hSig)\n",
      "hs.Add(ROOT.hBg)\n",
      " \n",
      "# show the histograms\n",
      "gcSaver.append(ROOT.TCanvas())\n",
      "hs.Draw()"
     ],
     "language": "python",
     "metadata": {},
     "outputs": []
    },
    {
     "cell_type": "code",
     "collapsed": false,
     "input": [
      "import ROOT\n",
      "\n",
      "# create a TNtuple\n",
      "ntuple = ROOT.TNtuple(\"testTree\",\"testTree title\",\"x:y:signal\")\n",
      " \n",
      "# generate 'signal' and 'background' distributions\n",
      "for i in range(10000):\n",
      "    # throw a signal event centered at (1,1)\n",
      "    ntuple.Fill(ROOT.gRandom.Gaus(1,1), # x\n",
      "                ROOT.gRandom.Gaus(1,1), # y\n",
      "                1)                      # signal\n",
      "     \n",
      "    # throw a background event centered at (-1,-1)\n",
      "    ntuple.Fill(ROOT.gRandom.Gaus(-1,1), # x\n",
      "                ROOT.gRandom.Gaus(-1,1), # y\n",
      "                0)                       # background\n",
      "ntuple.SaveAs(\"testInput.root\")\n"
     ],
     "language": "python",
     "metadata": {},
     "outputs": [],
     "prompt_number": 10
    },
    {
     "cell_type": "code",
     "collapsed": false,
     "input": [
      "import ROOT\n",
      "# \u041e\u0442\u043a\u0440\u044b\u0432\u0430\u0435\u043c \u043d\u0435\u043a\u0438\u0439 \u0444\u0430\u0439\u043b\n",
      "rootFile = ROOT.TFile.Open(\"testInput.root\")\n",
      "# \u0414\u0435\u043b\u0438\u043c \u043d\u0430 test \u0438 train\n",
      "\n",
      "# wtf? What is this for?\n",
      "ROOT.TMVA.Tools.Instance()\n",
      "\n",
      "outFile = ROOT.TFile(\"testOutput.root\",\"RECREATE\")\n",
      "factory = ROOT.TMVA.Factory(\"TMVAClassification\", outFile,\n",
      "                            \":\".join([\n",
      "                                \"!V\",\n",
      "                                \"!Silent\",\n",
      "                                \"Color\",\n",
      "#                                 \"DrawProgressBar\",\n",
      "                                \"Transformations=I;D;P;G,D\",\n",
      "                                \"AnalysisType=Classification\"]\n",
      "                                     ))\n",
      "\n",
      "factory.AddVariable(\"x\",\"F\")\n",
      "factory.AddVariable(\"y\",\"F\") "
     ],
     "language": "python",
     "metadata": {},
     "outputs": [],
     "prompt_number": 4
    },
    {
     "cell_type": "code",
     "collapsed": false,
     "input": [
      "rootFile."
     ],
     "language": "python",
     "metadata": {},
     "outputs": []
    },
    {
     "cell_type": "code",
     "collapsed": false,
     "input": [
      "# factory.AddSignalTree(ntuple)\n",
      "factory.AddSignalTree(rootFile.testTree)\n",
      "# factory.AddBackgroundTree(ntuple)\n",
      "factory.AddBackgroundTree(rootFile.testTree)\n",
      "\n",
      "# cuts defining the signal and background sample\n",
      "sigCut = ROOT.TCut(\"signal >  0.5\")\n",
      "bgCut  = ROOT.TCut(\"signal <= 0.5\")\n",
      "\n",
      "\n",
      "factory.PrepareTrainingAndTestTree(sigCut,   # signal events\n",
      "                                   bgCut,    # background events\n",
      "                                   \":\".join([\n",
      "                                        \"nTrain_Signal=0\",\n",
      "                                        \"nTrain_Background=0\",\n",
      "                                        \"SplitMode=Random\",\n",
      "                                        \"NormMode=NumEvents\",\n",
      "                                        \"!V\"\n",
      "                                       ]))"
     ],
     "language": "python",
     "metadata": {},
     "outputs": [],
     "prompt_number": 5
    },
    {
     "cell_type": "code",
     "collapsed": false,
     "input": [
      "# \u0417\u0430\u043f\u0443\u0441\u043a\u0430\u0435\u043c BDT \u043d\u0430 \u043f\u0430\u0440\u0435 \u043f\u0440\u0438\u0437\u043d\u0430\u043a\u043e\u0432\n",
      "method2 = factory.BookMethod(ROOT.TMVA.Types.kBDT, \"BDT3\",\n",
      "                   \":\".join([\n",
      "                       \"!H\",\n",
      "                       \"!V\",\n",
      "                       \"NTrees=150\", # 850 was before\n",
      "                       \"nEventsMin=150\",\n",
      "                       \"MaxDepth=3\",\n",
      "                       \"BoostType=AdaBoost\",\n",
      "                       \"AdaBoostBeta=0.5\",\n",
      "                       \"SeparationType=GiniIndex\",\n",
      "                       \"nCuts=20\",\n",
      "                       \"PruneMethod=NoPruning\",\n",
      "                       ])) "
     ],
     "language": "python",
     "metadata": {},
     "outputs": [],
     "prompt_number": 6
    },
    {
     "cell_type": "code",
     "collapsed": false,
     "input": [
      "factory.TrainAllMethods()\n",
      "factory.TestAllMethods()\n",
      "factory.EvaluateAllMethods()\n",
      "factory.CheckForUnusedOptions()"
     ],
     "language": "python",
     "metadata": {},
     "outputs": [],
     "prompt_number": 7
    }
   ],
   "metadata": {}
  }
 ]
}