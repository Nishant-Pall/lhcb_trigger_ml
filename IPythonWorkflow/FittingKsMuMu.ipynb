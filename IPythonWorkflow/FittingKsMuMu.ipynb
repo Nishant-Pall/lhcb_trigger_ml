{
 "metadata": {
  "name": "",
  "signature": "sha256:725550bfa0422add39ac93de5a33ef2da17789c64473077912f76d39acd6a7f9"
 },
 "nbformat": 3,
 "nbformat_minor": 0,
 "worksheets": [
  {
   "cells": [
    {
     "cell_type": "markdown",
     "metadata": {},
     "source": [
      "# This notebook is devoted to fitting the background data of $K^0_s \\to \\mu\\mu$"
     ]
    },
    {
     "cell_type": "code",
     "collapsed": false,
     "input": [
      "import pandas, numpy, reports, commonutils, uboost\n",
      "import uniformgradientboosting as ugb\n",
      "from supplementaryclassifiers import HidingClassifier\n",
      "from sklearn.tree import DecisionTreeClassifier\n",
      "from sklearn.ensemble import AdaBoostClassifier\n",
      "from collections import OrderedDict\n",
      "from config import ipc_profile\n",
      "import root_numpy\n",
      "import toymc\n",
      "import probfit, iminuit"
     ],
     "language": "python",
     "metadata": {},
     "outputs": [
      {
       "output_type": "stream",
       "stream": "stdout",
       "text": [
        "binner is ok\n",
        "normalizer is ok\n",
        "computeSignalKnnIndices is ok"
       ]
      },
      {
       "output_type": "stream",
       "stream": "stdout",
       "text": [
        "\n",
        "MSE variation is ok\n",
        "Compute efficiency is ok"
       ]
      },
      {
       "output_type": "stream",
       "stream": "stdout",
       "text": [
        "\n",
        "uniform gradient boosting is ok"
       ]
      },
      {
       "output_type": "stream",
       "stream": "stdout",
       "text": [
        "\n",
        "toymc is ok"
       ]
      },
      {
       "output_type": "stream",
       "stream": "stdout",
       "text": [
        "\n"
       ]
      }
     ],
     "prompt_number": 4
    },
    {
     "cell_type": "code",
     "collapsed": false,
     "input": [
      "uniform_variables = ['Bmass']\n",
      "# variables used in cuts\n",
      "cut_variables = ['DOCA', 'Blife_ps_r', 'Bmass']\n",
      "\n",
      "train_variables = [\"Bips_r\", \"Vchi2\", \"lessIPSmu\", \"Bptot\", \"Bdis\", \"Blife_ps_r\", \"C_angle\"]"
     ],
     "language": "python",
     "metadata": {},
     "outputs": [],
     "prompt_number": 2
    },
    {
     "cell_type": "code",
     "collapsed": false,
     "input": [
      "# TOS cut was provided by Xabier\n",
      "tos_cut = \"\"\"\n",
      "(mu1pt>250 && mu2pt>250 && mu1_track_Chi2DoF<5 \n",
      "    && mu2_track_Chi2DoF<5 && DOCA<0.3 && (SV3-PV3)>0 && Blife_ps_r>8.95 && Bip_r <0.4 \n",
      "    && lessIPSmu>10 && mu1ip>0.5 && mu2ip>0.5 && Blife_ps_r<130  && mu1ptot<1e05 \n",
      "    && mu2ptot<1e05 && Vchi2 < 25 \n",
      "    && (\n",
      "            ((4*AP_pt^2/1115.683^2 + (AP_alpha-0.69169)^2) > 4.7*100.7^2/(1115.683^2) \n",
      "            || (4*AP_pt^2/1115.683^2 + (AP_alpha-0.69169)^2) < 3.5*100.7^2/(1115.683^2)) \n",
      "        && \n",
      "            ((4*AP_pt^2/1115.683^2 + (AP_alpha+0.69169)^2) > 4.7*100.7^2/(1115.683^2) \n",
      "            || (4*AP_pt^2/1115.683^2 + (AP_alpha+0.69169)^2) < 3.5*100.7^2/(1115.683^2))\n",
      "        )\n",
      ")\n",
      "&& (max(mu1pt,mu2pt)>1300) \n",
      "&& (nSPD<600 && nVelo<10000 && nIT<3000 && nOT<15000)\n",
      "&& (L0MuonTos && Hlt1TrackMuonTos && Hlt2SingleMuonTos)\"\"\".replace('\\n', '')"
     ],
     "language": "python",
     "metadata": {},
     "outputs": [],
     "prompt_number": 3
    },
    {
     "cell_type": "markdown",
     "metadata": {},
     "source": [
      "# Loading data from ROOT"
     ]
    },
    {
     "cell_type": "code",
     "collapsed": false,
     "input": [
      "all_branches = uniform_variables + train_variables + cut_variables\n",
      "all_branches = list(set(all_branches))\n",
      "folder = '/mnt/w76/notebook/datasets/KsMuMu/'\n",
      "bgA = root_numpy.root2array(folder + 'MM_A_unblind.root', treename='T', branches=all_branches, selection=tos_cut)\n",
      "bgB = root_numpy.root2array(folder + 'MM_B_unblind.root', treename='T', branches=all_branches, selection=tos_cut)\n",
      "signal = root_numpy.root2array(folder + 'KsMuMu_MC11_ntuples.root', treename='Ksmumu', branches=all_branches)"
     ],
     "language": "python",
     "metadata": {},
     "outputs": [],
     "prompt_number": 4
    },
    {
     "cell_type": "code",
     "collapsed": false,
     "input": [
      "bgA, bgB, signal = pandas.DataFrame(bgA), pandas.DataFrame(bgB), pandas.DataFrame(signal)\n",
      "len(signal), len(bgA), len(bgB)"
     ],
     "language": "python",
     "metadata": {},
     "outputs": [
      {
       "metadata": {},
       "output_type": "pyout",
       "prompt_number": 5,
       "text": [
        "(208131, 222492, 258999)"
       ]
      }
     ],
     "prompt_number": 5
    },
    {
     "cell_type": "code",
     "collapsed": false,
     "input": [
      "figure(figsize=(14, 6))\n",
      "subplot(121) \n",
      "hist(bgA.Bmass,    range=[450, 550], bins=60)\n",
      "hist(signal.Bmass, range=[450, 550], bins=60)\n",
      "subplot(122) \n",
      "hist(bgB.Bmass,    range=[450, 550], bins=60)\n",
      "hist(signal.Bmass, range=[450, 550], bins=60)\n",
      "pass"
     ],
     "language": "python",
     "metadata": {},
     "outputs": [
      {
       "metadata": {},
       "output_type": "display_data",
       "png": "[encoded data removed]",
       "text": [
        "<matplotlib.figure.Figure at 0x4e5d890>"
       ]
      }
     ],
     "prompt_number": 6
    },
    {
     "cell_type": "markdown",
     "metadata": {},
     "source": [
      "# PDF fitted\n",
      "We assume, that (up to global constant)\n",
      "$$ pdf(x) = e^{score} \\times \\exp(-a * x) + \\dfrac{1}{(x - m_0)^p} $$\n",
      "\n",
      "First summand is due to combinatorial bck, the second one is misID, the multiplier $e^{score}$ balances them,\n",
      "to make it more stable I use the form (`mass` is $m_0$)\n",
      "\n",
      "$$ pdf(x) = e^{score} \\times \\exp(-a * (x - m_0)) + \\dfrac{1}{(x - m_0)^p} $$\n"
     ]
    },
    {
     "cell_type": "code",
     "collapsed": false,
     "input": [
      "def full_pdf(x, score, mass, p, a):\n",
      "    return exp(score) * exp(-a * (x - mass)) + abs(x - mass) ** (-p)\n",
      "\n",
      "def plot_distribution(x, score, mass, p, a):\n",
      "    multiplier = (x > mass_min) & (x < mass_max) & ((x < gap_min) | (x > gap_max) )\n",
      "    first = exp(score) * exp(-a * (x - mass)) * multiplier\n",
      "    second = abs(x - mass) ** (-p) * multiplier\n",
      "    plot(x, first , label='exp')\n",
      "    plot(x, second, label='power law')\n",
      "    plot(x, first + second, label='sum')\n",
      "    legend()"
     ],
     "language": "python",
     "metadata": {},
     "outputs": [],
     "prompt_number": 7
    },
    {
     "cell_type": "markdown",
     "metadata": {},
     "source": [
      "## Helpful functions"
     ]
    },
    {
     "cell_type": "code",
     "collapsed": false,
     "input": [
      "# setting the limits from article\n",
      "mass_min = 470\n",
      "mass_max = 520\n",
      "\n",
      "gap_min = 492\n",
      "gap_max = 504\n",
      "\n",
      "class Cutted:\n",
      "    \"\"\" Helpful modififer of distrbition to cut off the data out of fit\"\"\"\n",
      "    def __init__(self, f, passed_cut):\n",
      "        from probfit.funcutil import FakeFuncCode\n",
      "        self.f = f\n",
      "        self.func_code = FakeFuncCode(f)\n",
      "        self.func_defaults=None\n",
      "        self.passed_cut = passed_cut\n",
      "\n",
      "    def __call__(self, *arg):\n",
      "        fval = self.f(*arg)\n",
      "        return fval * self.passed_cut(arg[0])"
     ],
     "language": "python",
     "metadata": {},
     "outputs": [],
     "prompt_number": 8
    },
    {
     "cell_type": "code",
     "collapsed": false,
     "input": [
      "def fit_with_gap(pdf, values, mass_min=mass_min, mass_max=mass_max, gap_min=gap_min, gap_max=gap_max, has_gap=True,\n",
      "                 **fit_params):\n",
      "    from copy import copy\n",
      "    def passes_cut(x):\n",
      "        result = (x > mass_min) & (x < mass_max)\n",
      "        if has_gap:\n",
      "            result &= (x < gap_min) | (x > gap_max)\n",
      "        return result\n",
      "            \n",
      "    values = values[passes_cut(values)]   \n",
      "    new_pdf = Cutted(pdf, passes_cut)\n",
      "    \n",
      "    \n",
      "    unbinned_likelihood = probfit.UnbinnedLH(probfit.Normalized(new_pdf, bound=[mass_min, mass_max]), values)\n",
      "    minuit = iminuit.Minuit(unbinned_likelihood, pedantic=False, print_level=0, **fit_params)\n",
      "    minuit.migrad(ncall=500)\n",
      "    unbinned_likelihood.show(minuit)\n",
      "    minuit.print_fmin()\n",
      "    \n",
      "    # returns dictionary with optimal parameters\n",
      "    return dict(zip(minuit.parameters, minuit.args))"
     ],
     "language": "python",
     "metadata": {},
     "outputs": [],
     "prompt_number": 9
    },
    {
     "cell_type": "markdown",
     "metadata": {},
     "source": [
      "# Fitting 1. Straight fitting\n",
      "\n",
      "parameters are absolutely unstable"
     ]
    },
    {
     "cell_type": "code",
     "collapsed": false,
     "input": [
      "fit1_params = fit_with_gap(full_pdf, values=bgA.Bmass.values, mass_max=530,\n",
      "                      score=0, a=0.02, \n",
      "                      limit_score=[-10, 10], limit_a=[0., 0.08], limit_mass=[0, 470], limit_p=[1.1, 8.], \n",
      "                      )\n",
      "plot_distribution(numpy.linspace(mass_min, mass_max, 200), **fit1_params)"
     ],
     "language": "python",
     "metadata": {},
     "outputs": [
      {
       "metadata": {},
       "output_type": "display_data",
       "png": "[encoded data removed]",
       "text": [
        "<matplotlib.figure.Figure at 0x4b62950>"
       ]
      },
      {
       "html": [
        "<hr>"
       ],
       "metadata": {},
       "output_type": "display_data"
      },
      {
       "html": [
        "\n",
        "        <table>\n",
        "            <tr>\n",
        "                <td title=\"Minimum value of function\">FCN = 13626.7322118</td>\n",
        "                <td title=\"Total number of call to FCN so far\">TOTAL NCALL = 405</td>\n",
        "                <td title=\"Number of call in last migrad\">NCALLS = 394</td>\n",
        "            </tr>\n",
        "            <tr>\n",
        "                <td title=\"Estimated distance to minimum\">EDM = 0.00358625736964</td>\n",
        "                <td title=\"Maximum EDM definition of convergence\">GOAL EDM = 5e-06</td>\n",
        "                <td title=\"Error def. Amount of increase in FCN to be defined as 1 standard deviation\">\n",
        "                UP = 0.5</td>\n",
        "            </tr>\n",
        "        </table>\n",
        "        \n",
        "        <table>\n",
        "            <tr>\n",
        "                <td align=\"center\" title=\"Validity of the migrad call\">Valid</td>\n",
        "                <td align=\"center\" title=\"Validity of parameters\">Valid Param</td>\n",
        "                <td align=\"center\" title=\"Is Covariance matrix accurate?\">Accurate Covar</td>\n",
        "                <td align=\"center\" title=\"Positive definiteness of covariance matrix\">PosDef</td>\n",
        "                <td align=\"center\" title=\"Was covariance matrix made posdef by adding diagonal element\">Made PosDef</td>\n",
        "            </tr>\n",
        "            <tr>\n",
        "                <td align=\"center\" style=\"background-color:#FF7878\">False</td>\n",
        "                <td align=\"center\" style=\"background-color:#92CCA6\">True</td>\n",
        "                <td align=\"center\" style=\"background-color:#FF7878\">False</td>\n",
        "                <td align=\"center\" style=\"background-color:#92CCA6\">True</td>\n",
        "                <td align=\"center\" style=\"background-color:#92CCA6\">False</td>\n",
        "            </tr>\n",
        "            <tr>\n",
        "                <td align=\"center\" title=\"Was last hesse call fail?\">Hesse Fail</td>\n",
        "                <td align=\"center\" title=\"Validity of covariance\">HasCov</td>\n",
        "                <td align=\"center\" title=\"Is EDM above goal EDM?\">Above EDM</td>\n",
        "                <td align=\"center\"></td>\n",
        "                <td align=\"center\" title=\"Did last migrad call reach max call limit?\">Reach calllim</td>\n",
        "            </tr>\n",
        "            <tr>\n",
        "                <td align=\"center\" style=\"background-color:#92CCA6\">False</td>\n",
        "                <td align=\"center\" style=\"background-color:#92CCA6\">True</td>\n",
        "                <td align=\"center\" style=\"background-color:#FF7878\">True</td>\n",
        "                <td align=\"center\"></td>\n",
        "                <td align=\"center\" style=\"background-color:#92CCA6\">False</td>\n",
        "            </tr>\n",
        "        </table>\n",
        "        "
       ],
       "metadata": {},
       "output_type": "display_data"
      },
      {
       "html": [
        "\n",
        "        <table>\n",
        "            <tr>\n",
        "                <td><a href=\"#\" onclick=\"$('#vbPuJOaEkI').toggle()\">+</a></td>\n",
        "                <td title=\"Variable name\">Name</td>\n",
        "                <td title=\"Value of parameter\">Value</td>\n",
        "                <td title=\"Parabolic error\">Parab Error</td>\n",
        "                <td title=\"Minos lower error\">Minos Error-</td>\n",
        "                <td title=\"Minos upper error\">Minos Error+</td>\n",
        "                <td title=\"Lower limit of the parameter\">Limit-</td>\n",
        "                <td title=\"Upper limit of the parameter\">Limit+</td>\n",
        "                <td title=\"Is the parameter fixed in the fit\">FIXED</td>\n",
        "            </tr>\n",
        "        \n",
        "            <tr>\n",
        "                <td>1</td>\n",
        "                <td>score</td>\n",
        "                <td>-9.998244e+00</td>\n",
        "                <td>2.392146e+00</td>\n",
        "                <td>0.000000e+00</td>\n",
        "                <td>0.000000e+00</td>\n",
        "                <td>-10.0</td>\n",
        "                <td>10.0</td>\n",
        "                <td></td>\n",
        "            </tr>\n",
        "            \n",
        "            <tr>\n",
        "                <td>2</td>\n",
        "                <td>mass</td>\n",
        "                <td>4.625654e+02</td>\n",
        "                <td>7.641165e-01</td>\n",
        "                <td>0.000000e+00</td>\n",
        "                <td>0.000000e+00</td>\n",
        "                <td>0.0</td>\n",
        "                <td>470.0</td>\n",
        "                <td></td>\n",
        "            </tr>\n",
        "            \n",
        "            <tr>\n",
        "                <td>3</td>\n",
        "                <td>p</td>\n",
        "                <td>3.287130e+00</td>\n",
        "                <td>5.587016e-01</td>\n",
        "                <td>0.000000e+00</td>\n",
        "                <td>0.000000e+00</td>\n",
        "                <td>1.1</td>\n",
        "                <td>8.0</td>\n",
        "                <td></td>\n",
        "            </tr>\n",
        "            \n",
        "            <tr>\n",
        "                <td>4</td>\n",
        "                <td>a</td>\n",
        "                <td>7.002375e-03</td>\n",
        "                <td>1.818359e-02</td>\n",
        "                <td>0.000000e+00</td>\n",
        "                <td>0.000000e+00</td>\n",
        "                <td>0.0</td>\n",
        "                <td>0.08</td>\n",
        "                <td></td>\n",
        "            </tr>\n",
        "            \n",
        "            </table>\n",
        "        \n",
        "            <pre id=\"vbPuJOaEkI\" style=\"display:none;\">\n",
        "            <textarea rows=\"14\" cols=\"50\" onclick=\"this.select()\" readonly>\\begin{tabular}{|c|r|r|r|r|r|r|r|c|}\n",
        "\\hline\n",
        " & Name & Value & Para Error & Error+ & Error- & Limit+ & Limit- & FIXED\\\\\n",
        "\\hline\n",
        "1 & score & -9.998e+00 & 2.392e+00 &  &  & -1.000e+01 & 1.000e+01 & \\\\\n",
        "\\hline\n",
        "2 & mass & 4.626e+02 & 7.641e-01 &  &  & 0.000e+00 & 4.700e+02 & \\\\\n",
        "\\hline\n",
        "3 & p & 3.287e+00 & 5.587e-01 &  &  & 1.100e+00 & 8.000e+00 & \\\\\n",
        "\\hline\n",
        "4 & a & 7.002e-03 & 1.818e-02 &  &  & 0.000e+00 & 8.000e-02 & \\\\\n",
        "\\hline\n",
        "\\end{tabular}</textarea>\n",
        "            </pre>\n",
        "            "
       ],
       "metadata": {},
       "output_type": "display_data"
      },
      {
       "html": [
        "<hr>"
       ],
       "metadata": {},
       "output_type": "display_data"
      },
      {
       "metadata": {},
       "output_type": "display_data",
       "png": "[encoded data removed]",
       "text": [
        "<matplotlib.figure.Figure at 0x4e3b090>"
       ]
      }
     ],
     "prompt_number": 10
    },
    {
     "cell_type": "code",
     "collapsed": false,
     "input": [
      "fit1_params_new = fit_with_gap(full_pdf, values=bgA.Bmass.values, mass_max=520,\n",
      "                      score=0, a=0.02, \n",
      "                      limit_score=[-20, 20], limit_a=[0., 0.08], limit_mass=[0, 470], limit_p=[1.1, 8.], \n",
      "                      )\n",
      "plot_distribution(numpy.linspace(mass_min, mass_max, 200), **fit1_params_new)"
     ],
     "language": "python",
     "metadata": {},
     "outputs": [
      {
       "metadata": {},
       "output_type": "display_data",
       "png": "[encoded data removed]",
       "text": [
        "<matplotlib.figure.Figure at 0x4e56c50>"
       ]
      },
      {
       "html": [
        "<hr>"
       ],
       "metadata": {},
       "output_type": "display_data"
      },
      {
       "html": [
        "\n",
        "        <table>\n",
        "            <tr>\n",
        "                <td title=\"Minimum value of function\">FCN = 12121.8306926</td>\n",
        "                <td title=\"Total number of call to FCN so far\">TOTAL NCALL = 661</td>\n",
        "                <td title=\"Number of call in last migrad\">NCALLS = 661</td>\n",
        "            </tr>\n",
        "            <tr>\n",
        "                <td title=\"Estimated distance to minimum\">EDM = 0.000603470368174</td>\n",
        "                <td title=\"Maximum EDM definition of convergence\">GOAL EDM = 5e-06</td>\n",
        "                <td title=\"Error def. Amount of increase in FCN to be defined as 1 standard deviation\">\n",
        "                UP = 0.5</td>\n",
        "            </tr>\n",
        "        </table>\n",
        "        \n",
        "        <table>\n",
        "            <tr>\n",
        "                <td align=\"center\" title=\"Validity of the migrad call\">Valid</td>\n",
        "                <td align=\"center\" title=\"Validity of parameters\">Valid Param</td>\n",
        "                <td align=\"center\" title=\"Is Covariance matrix accurate?\">Accurate Covar</td>\n",
        "                <td align=\"center\" title=\"Positive definiteness of covariance matrix\">PosDef</td>\n",
        "                <td align=\"center\" title=\"Was covariance matrix made posdef by adding diagonal element\">Made PosDef</td>\n",
        "            </tr>\n",
        "            <tr>\n",
        "                <td align=\"center\" style=\"background-color:#FF7878\">False</td>\n",
        "                <td align=\"center\" style=\"background-color:#92CCA6\">True</td>\n",
        "                <td align=\"center\" style=\"background-color:#FF7878\">False</td>\n",
        "                <td align=\"center\" style=\"background-color:#92CCA6\">True</td>\n",
        "                <td align=\"center\" style=\"background-color:#92CCA6\">False</td>\n",
        "            </tr>\n",
        "            <tr>\n",
        "                <td align=\"center\" title=\"Was last hesse call fail?\">Hesse Fail</td>\n",
        "                <td align=\"center\" title=\"Validity of covariance\">HasCov</td>\n",
        "                <td align=\"center\" title=\"Is EDM above goal EDM?\">Above EDM</td>\n",
        "                <td align=\"center\"></td>\n",
        "                <td align=\"center\" title=\"Did last migrad call reach max call limit?\">Reach calllim</td>\n",
        "            </tr>\n",
        "            <tr>\n",
        "                <td align=\"center\" style=\"background-color:#92CCA6\">False</td>\n",
        "                <td align=\"center\" style=\"background-color:#92CCA6\">True</td>\n",
        "                <td align=\"center\" style=\"background-color:#92CCA6\">False</td>\n",
        "                <td align=\"center\"></td>\n",
        "                <td align=\"center\" style=\"background-color:#FFF79A\">True</td>\n",
        "            </tr>\n",
        "        </table>\n",
        "        "
       ],
       "metadata": {},
       "output_type": "display_data"
      },
      {
       "html": [
        "\n",
        "        <table>\n",
        "            <tr>\n",
        "                <td><a href=\"#\" onclick=\"$('#eXXToCPMHu').toggle()\">+</a></td>\n",
        "                <td title=\"Variable name\">Name</td>\n",
        "                <td title=\"Value of parameter\">Value</td>\n",
        "                <td title=\"Parabolic error\">Parab Error</td>\n",
        "                <td title=\"Minos lower error\">Minos Error-</td>\n",
        "                <td title=\"Minos upper error\">Minos Error+</td>\n",
        "                <td title=\"Lower limit of the parameter\">Limit-</td>\n",
        "                <td title=\"Upper limit of the parameter\">Limit+</td>\n",
        "                <td title=\"Is the parameter fixed in the fit\">FIXED</td>\n",
        "            </tr>\n",
        "        \n",
        "            <tr>\n",
        "                <td>1</td>\n",
        "                <td>score</td>\n",
        "                <td>-1.394412e+01</td>\n",
        "                <td>4.005485e+00</td>\n",
        "                <td>0.000000e+00</td>\n",
        "                <td>0.000000e+00</td>\n",
        "                <td>-20.0</td>\n",
        "                <td>20.0</td>\n",
        "                <td></td>\n",
        "            </tr>\n",
        "            \n",
        "            <tr>\n",
        "                <td>2</td>\n",
        "                <td>mass</td>\n",
        "                <td>4.590262e+02</td>\n",
        "                <td>3.416390e+00</td>\n",
        "                <td>0.000000e+00</td>\n",
        "                <td>0.000000e+00</td>\n",
        "                <td>0.0</td>\n",
        "                <td>470.0</td>\n",
        "                <td></td>\n",
        "            </tr>\n",
        "            \n",
        "            <tr>\n",
        "                <td>3</td>\n",
        "                <td>p</td>\n",
        "                <td>4.695967e+00</td>\n",
        "                <td>1.207167e+00</td>\n",
        "                <td>0.000000e+00</td>\n",
        "                <td>0.000000e+00</td>\n",
        "                <td>1.1</td>\n",
        "                <td>8.0</td>\n",
        "                <td></td>\n",
        "            </tr>\n",
        "            \n",
        "            <tr>\n",
        "                <td>4</td>\n",
        "                <td>a</td>\n",
        "                <td>1.952000e-02</td>\n",
        "                <td>5.380990e-03</td>\n",
        "                <td>0.000000e+00</td>\n",
        "                <td>0.000000e+00</td>\n",
        "                <td>0.0</td>\n",
        "                <td>0.08</td>\n",
        "                <td></td>\n",
        "            </tr>\n",
        "            \n",
        "            </table>\n",
        "        \n",
        "            <pre id=\"eXXToCPMHu\" style=\"display:none;\">\n",
        "            <textarea rows=\"14\" cols=\"50\" onclick=\"this.select()\" readonly>\\begin{tabular}{|c|r|r|r|r|r|r|r|c|}\n",
        "\\hline\n",
        " & Name & Value & Para Error & Error+ & Error- & Limit+ & Limit- & FIXED\\\\\n",
        "\\hline\n",
        "1 & score & -1.394e+01 & 4.005e+00 &  &  & -2.000e+01 & 2.000e+01 & \\\\\n",
        "\\hline\n",
        "2 & mass & 4.590e+02 & 3.416e+00 &  &  & 0.000e+00 & 4.700e+02 & \\\\\n",
        "\\hline\n",
        "3 & p & 4.696e+00 & 1.207e+00 &  &  & 1.100e+00 & 8.000e+00 & \\\\\n",
        "\\hline\n",
        "4 & a & 1.952e-02 & 5.381e-03 &  &  & 0.000e+00 & 8.000e-02 & \\\\\n",
        "\\hline\n",
        "\\end{tabular}</textarea>\n",
        "            </pre>\n",
        "            "
       ],
       "metadata": {},
       "output_type": "display_data"
      },
      {
       "html": [
        "<hr>"
       ],
       "metadata": {},
       "output_type": "display_data"
      },
      {
       "metadata": {},
       "output_type": "display_data",
       "png": "[encoded data removed]",
       "text": [
        "<matplotlib.figure.Figure at 0x4e5d450>"
       ]
      }
     ],
     "prompt_number": 11
    },
    {
     "cell_type": "markdown",
     "metadata": {},
     "source": [
      "# Fitting 2. Combinatorial-ahead\n",
      "There were attempts to fix `a` from fitting the right tail of bck distribution, but the right tail doesn't look like exponent at all:"
     ]
    },
    {
     "cell_type": "code",
     "collapsed": false,
     "input": [
      "hist(bgA.Bmass, range=(510, 600), bins=40)\n",
      "pass"
     ],
     "language": "python",
     "metadata": {},
     "outputs": [
      {
       "metadata": {},
       "output_type": "display_data",
       "png": "[encoded data removed]",
       "text": [
        "<matplotlib.figure.Figure at 0x4e94890>"
       ]
      }
     ],
     "prompt_number": 12
    },
    {
     "cell_type": "code",
     "collapsed": false,
     "input": [
      "def exp_pdf(x, a):\n",
      "    return numpy.exp(-a * x)\n",
      "params = fit_with_gap(exp_pdf, values=bgA.Bmass.values, mass_min=510, mass_max=600, has_gap=False,\n",
      "                      a=0.02, \n",
      "                      limit_a=[0., 0.08]\n",
      "                      )"
     ],
     "language": "python",
     "metadata": {},
     "outputs": [
      {
       "metadata": {},
       "output_type": "display_data",
       "png": "[encoded data removed]",
       "text": [
        "<matplotlib.figure.Figure at 0x5809bd0>"
       ]
      },
      {
       "html": [
        "<hr>"
       ],
       "metadata": {},
       "output_type": "display_data"
      },
      {
       "html": [
        "\n",
        "        <table>\n",
        "            <tr>\n",
        "                <td title=\"Minimum value of function\">FCN = 8885.12773483</td>\n",
        "                <td title=\"Total number of call to FCN so far\">TOTAL NCALL = 36</td>\n",
        "                <td title=\"Number of call in last migrad\">NCALLS = 36</td>\n",
        "            </tr>\n",
        "            <tr>\n",
        "                <td title=\"Estimated distance to minimum\">EDM = 2.93033490247e-10</td>\n",
        "                <td title=\"Maximum EDM definition of convergence\">GOAL EDM = 5e-06</td>\n",
        "                <td title=\"Error def. Amount of increase in FCN to be defined as 1 standard deviation\">\n",
        "                UP = 0.5</td>\n",
        "            </tr>\n",
        "        </table>\n",
        "        \n",
        "        <table>\n",
        "            <tr>\n",
        "                <td align=\"center\" title=\"Validity of the migrad call\">Valid</td>\n",
        "                <td align=\"center\" title=\"Validity of parameters\">Valid Param</td>\n",
        "                <td align=\"center\" title=\"Is Covariance matrix accurate?\">Accurate Covar</td>\n",
        "                <td align=\"center\" title=\"Positive definiteness of covariance matrix\">PosDef</td>\n",
        "                <td align=\"center\" title=\"Was covariance matrix made posdef by adding diagonal element\">Made PosDef</td>\n",
        "            </tr>\n",
        "            <tr>\n",
        "                <td align=\"center\" style=\"background-color:#92CCA6\">True</td>\n",
        "                <td align=\"center\" style=\"background-color:#92CCA6\">True</td>\n",
        "                <td align=\"center\" style=\"background-color:#92CCA6\">True</td>\n",
        "                <td align=\"center\" style=\"background-color:#92CCA6\">True</td>\n",
        "                <td align=\"center\" style=\"background-color:#92CCA6\">False</td>\n",
        "            </tr>\n",
        "            <tr>\n",
        "                <td align=\"center\" title=\"Was last hesse call fail?\">Hesse Fail</td>\n",
        "                <td align=\"center\" title=\"Validity of covariance\">HasCov</td>\n",
        "                <td align=\"center\" title=\"Is EDM above goal EDM?\">Above EDM</td>\n",
        "                <td align=\"center\"></td>\n",
        "                <td align=\"center\" title=\"Did last migrad call reach max call limit?\">Reach calllim</td>\n",
        "            </tr>\n",
        "            <tr>\n",
        "                <td align=\"center\" style=\"background-color:#92CCA6\">False</td>\n",
        "                <td align=\"center\" style=\"background-color:#92CCA6\">True</td>\n",
        "                <td align=\"center\" style=\"background-color:#92CCA6\">False</td>\n",
        "                <td align=\"center\"></td>\n",
        "                <td align=\"center\" style=\"background-color:#92CCA6\">False</td>\n",
        "            </tr>\n",
        "        </table>\n",
        "        "
       ],
       "metadata": {},
       "output_type": "display_data"
      },
      {
       "html": [
        "\n",
        "        <table>\n",
        "            <tr>\n",
        "                <td><a href=\"#\" onclick=\"$('#tnxgEpEKEB').toggle()\">+</a></td>\n",
        "                <td title=\"Variable name\">Name</td>\n",
        "                <td title=\"Value of parameter\">Value</td>\n",
        "                <td title=\"Parabolic error\">Parab Error</td>\n",
        "                <td title=\"Minos lower error\">Minos Error-</td>\n",
        "                <td title=\"Minos upper error\">Minos Error+</td>\n",
        "                <td title=\"Lower limit of the parameter\">Limit-</td>\n",
        "                <td title=\"Upper limit of the parameter\">Limit+</td>\n",
        "                <td title=\"Is the parameter fixed in the fit\">FIXED</td>\n",
        "            </tr>\n",
        "        \n",
        "            <tr>\n",
        "                <td>1</td>\n",
        "                <td>a</td>\n",
        "                <td>7.193969e-04</td>\n",
        "                <td>8.648503e-04</td>\n",
        "                <td>0.000000e+00</td>\n",
        "                <td>0.000000e+00</td>\n",
        "                <td>0.0</td>\n",
        "                <td>0.08</td>\n",
        "                <td></td>\n",
        "            </tr>\n",
        "            \n",
        "            </table>\n",
        "        \n",
        "            <pre id=\"tnxgEpEKEB\" style=\"display:none;\">\n",
        "            <textarea rows=\"8\" cols=\"50\" onclick=\"this.select()\" readonly>\\begin{tabular}{|c|r|r|r|r|r|r|r|c|}\n",
        "\\hline\n",
        " & Name & Value & Para Error & Error+ & Error- & Limit+ & Limit- & FIXED\\\\\n",
        "\\hline\n",
        "1 & a & 7.194e-04 & 8.649e-04 &  &  & 0.000e+00 & 8.000e-02 & \\\\\n",
        "\\hline\n",
        "\\end{tabular}</textarea>\n",
        "            </pre>\n",
        "            "
       ],
       "metadata": {},
       "output_type": "display_data"
      },
      {
       "html": [
        "<hr>"
       ],
       "metadata": {},
       "output_type": "display_data"
      }
     ],
     "prompt_number": 13
    },
    {
     "cell_type": "markdown",
     "metadata": {},
     "source": [
      "# Fitting 3. ToyMC-ahead\n",
      "\n",
      "we turn the MC for $K_s \\to \\pi\\pi$ into misID of $K_s \\to \\mu\\mu$, \n",
      "and fit the distribution by power law. The constants from power law are then pushed into fitting of other parameters\n",
      "\n",
      "__Important__. We do not apply the cut to MC - only one event passes it"
     ]
    },
    {
     "cell_type": "code",
     "collapsed": false,
     "input": [
      "# preparing misID\n",
      "misid_branches = ['mu%ip%i' % (i, j) for i in [1,2] for j in [1,2,3]]\n",
      "misid_data = root_numpy.root2array(folder + 'KsPiPi_MC11_ntuples.root', treename='Kspipi', branches=misid_branches) \n",
      "misid_data = pandas.DataFrame(misid_data)\n",
      "muon_mass = 105.65\n",
      "misid_data['mu1E'] = numpy.sqrt(muon_mass ** 2 + misid_data['mu1p1'] ** 2 + misid_data['mu1p2'] ** 2 + misid_data['mu1p3'] ** 2)\n",
      "misid_data['mu2E'] = numpy.sqrt(muon_mass ** 2 + misid_data['mu2p1'] ** 2 + misid_data['mu2p2'] ** 2 + misid_data['mu2p3'] ** 2)\n",
      "for postfix in ['E', 'p1', 'p2', 'p3']:\n",
      "    misid_data['sum' + postfix] = misid_data['mu1' + postfix] + misid_data['mu2' + postfix]\n",
      "misid_data['mass'] = numpy.sqrt(misid_data['sumE'] ** 2 \n",
      "                                - misid_data['sump1'] ** 2 - misid_data['sump2'] ** 2 - misid_data['sump3'] ** 2)"
     ],
     "language": "python",
     "metadata": {},
     "outputs": [],
     "prompt_number": 14
    },
    {
     "cell_type": "code",
     "collapsed": false,
     "input": [
      "hist(misid_data['mass'], bins=40, range=(450, 550))\n",
      "pass"
     ],
     "language": "python",
     "metadata": {},
     "outputs": [
      {
       "metadata": {},
       "output_type": "display_data",
       "png": "[encoded data removed]",
       "text": [
        "<matplotlib.figure.Figure at 0x5809950>"
       ]
      }
     ],
     "prompt_number": 15
    },
    {
     "cell_type": "markdown",
     "metadata": {},
     "source": [
      "## This fit is unstable too\n",
      "varying mass_min gives awfully big deviations:"
     ]
    },
    {
     "cell_type": "code",
     "collapsed": false,
     "input": [
      "def power_law(x, mass, p):\n",
      "    return (x - mass) ** (-p)"
     ],
     "language": "python",
     "metadata": {},
     "outputs": [],
     "prompt_number": 16
    },
    {
     "cell_type": "code",
     "collapsed": false,
     "input": [
      "fit3_inter_params = fit_with_gap(power_law, values=misid_data['mass'].values, has_gap=False, mass_min=470, \n",
      "                      limit_p=[1.1, 8], limit_mass=[0, 470]\n",
      "                      )"
     ],
     "language": "python",
     "metadata": {},
     "outputs": [
      {
       "metadata": {},
       "output_type": "display_data",
       "png": "[encoded data removed]",
       "text": [
        "<matplotlib.figure.Figure at 0x4ae43d0>"
       ]
      },
      {
       "html": [
        "<hr>"
       ],
       "metadata": {},
       "output_type": "display_data"
      },
      {
       "html": [
        "\n",
        "        <table>\n",
        "            <tr>\n",
        "                <td title=\"Minimum value of function\">FCN = 1122.5940513</td>\n",
        "                <td title=\"Total number of call to FCN so far\">TOTAL NCALL = 114</td>\n",
        "                <td title=\"Number of call in last migrad\">NCALLS = 114</td>\n",
        "            </tr>\n",
        "            <tr>\n",
        "                <td title=\"Estimated distance to minimum\">EDM = 5.06486198932e-08</td>\n",
        "                <td title=\"Maximum EDM definition of convergence\">GOAL EDM = 5e-06</td>\n",
        "                <td title=\"Error def. Amount of increase in FCN to be defined as 1 standard deviation\">\n",
        "                UP = 0.5</td>\n",
        "            </tr>\n",
        "        </table>\n",
        "        \n",
        "        <table>\n",
        "            <tr>\n",
        "                <td align=\"center\" title=\"Validity of the migrad call\">Valid</td>\n",
        "                <td align=\"center\" title=\"Validity of parameters\">Valid Param</td>\n",
        "                <td align=\"center\" title=\"Is Covariance matrix accurate?\">Accurate Covar</td>\n",
        "                <td align=\"center\" title=\"Positive definiteness of covariance matrix\">PosDef</td>\n",
        "                <td align=\"center\" title=\"Was covariance matrix made posdef by adding diagonal element\">Made PosDef</td>\n",
        "            </tr>\n",
        "            <tr>\n",
        "                <td align=\"center\" style=\"background-color:#92CCA6\">True</td>\n",
        "                <td align=\"center\" style=\"background-color:#92CCA6\">True</td>\n",
        "                <td align=\"center\" style=\"background-color:#92CCA6\">True</td>\n",
        "                <td align=\"center\" style=\"background-color:#92CCA6\">True</td>\n",
        "                <td align=\"center\" style=\"background-color:#92CCA6\">False</td>\n",
        "            </tr>\n",
        "            <tr>\n",
        "                <td align=\"center\" title=\"Was last hesse call fail?\">Hesse Fail</td>\n",
        "                <td align=\"center\" title=\"Validity of covariance\">HasCov</td>\n",
        "                <td align=\"center\" title=\"Is EDM above goal EDM?\">Above EDM</td>\n",
        "                <td align=\"center\"></td>\n",
        "                <td align=\"center\" title=\"Did last migrad call reach max call limit?\">Reach calllim</td>\n",
        "            </tr>\n",
        "            <tr>\n",
        "                <td align=\"center\" style=\"background-color:#92CCA6\">False</td>\n",
        "                <td align=\"center\" style=\"background-color:#92CCA6\">True</td>\n",
        "                <td align=\"center\" style=\"background-color:#92CCA6\">False</td>\n",
        "                <td align=\"center\"></td>\n",
        "                <td align=\"center\" style=\"background-color:#92CCA6\">False</td>\n",
        "            </tr>\n",
        "        </table>\n",
        "        "
       ],
       "metadata": {},
       "output_type": "display_data"
      },
      {
       "html": [
        "\n",
        "        <table>\n",
        "            <tr>\n",
        "                <td><a href=\"#\" onclick=\"$('#KzkkSwKklX').toggle()\">+</a></td>\n",
        "                <td title=\"Variable name\">Name</td>\n",
        "                <td title=\"Value of parameter\">Value</td>\n",
        "                <td title=\"Parabolic error\">Parab Error</td>\n",
        "                <td title=\"Minos lower error\">Minos Error-</td>\n",
        "                <td title=\"Minos upper error\">Minos Error+</td>\n",
        "                <td title=\"Lower limit of the parameter\">Limit-</td>\n",
        "                <td title=\"Upper limit of the parameter\">Limit+</td>\n",
        "                <td title=\"Is the parameter fixed in the fit\">FIXED</td>\n",
        "            </tr>\n",
        "        \n",
        "            <tr>\n",
        "                <td>1</td>\n",
        "                <td>mass</td>\n",
        "                <td>4.631974e+02</td>\n",
        "                <td>1.964749e+00</td>\n",
        "                <td>0.000000e+00</td>\n",
        "                <td>0.000000e+00</td>\n",
        "                <td>0.0</td>\n",
        "                <td>470.0</td>\n",
        "                <td></td>\n",
        "            </tr>\n",
        "            \n",
        "            <tr>\n",
        "                <td>2</td>\n",
        "                <td>p</td>\n",
        "                <td>2.731133e+00</td>\n",
        "                <td>4.031926e-01</td>\n",
        "                <td>0.000000e+00</td>\n",
        "                <td>0.000000e+00</td>\n",
        "                <td>1.1</td>\n",
        "                <td>8.0</td>\n",
        "                <td></td>\n",
        "            </tr>\n",
        "            \n",
        "            </table>\n",
        "        \n",
        "            <pre id=\"KzkkSwKklX\" style=\"display:none;\">\n",
        "            <textarea rows=\"10\" cols=\"50\" onclick=\"this.select()\" readonly>\\begin{tabular}{|c|r|r|r|r|r|r|r|c|}\n",
        "\\hline\n",
        " & Name & Value & Para Error & Error+ & Error- & Limit+ & Limit- & FIXED\\\\\n",
        "\\hline\n",
        "1 & mass & 4.632e+02 & 1.965e+00 &  &  & 0.000e+00 & 4.700e+02 & \\\\\n",
        "\\hline\n",
        "2 & p & 2.731e+00 & 4.032e-01 &  &  & 1.100e+00 & 8.000e+00 & \\\\\n",
        "\\hline\n",
        "\\end{tabular}</textarea>\n",
        "            </pre>\n",
        "            "
       ],
       "metadata": {},
       "output_type": "display_data"
      },
      {
       "html": [
        "<hr>"
       ],
       "metadata": {},
       "output_type": "display_data"
      }
     ],
     "prompt_number": 17
    },
    {
     "cell_type": "code",
     "collapsed": false,
     "input": [
      "_ = fit_with_gap(power_law, values=misid_data['mass'].values, has_gap=False, mass_min=475, \n",
      "                      limit_p=[1.1, 8], limit_mass=[0, 470]\n",
      "                      )"
     ],
     "language": "python",
     "metadata": {},
     "outputs": [
      {
       "metadata": {},
       "output_type": "display_data",
       "png": "[encoded data removed]",
       "text": [
        "<matplotlib.figure.Figure at 0x4e91ad0>"
       ]
      },
      {
       "html": [
        "<hr>"
       ],
       "metadata": {},
       "output_type": "display_data"
      },
      {
       "html": [
        "\n",
        "        <table>\n",
        "            <tr>\n",
        "                <td title=\"Minimum value of function\">FCN = 448.36861994</td>\n",
        "                <td title=\"Total number of call to FCN so far\">TOTAL NCALL = 140</td>\n",
        "                <td title=\"Number of call in last migrad\">NCALLS = 140</td>\n",
        "            </tr>\n",
        "            <tr>\n",
        "                <td title=\"Estimated distance to minimum\">EDM = 1.01724502032e-06</td>\n",
        "                <td title=\"Maximum EDM definition of convergence\">GOAL EDM = 5e-06</td>\n",
        "                <td title=\"Error def. Amount of increase in FCN to be defined as 1 standard deviation\">\n",
        "                UP = 0.5</td>\n",
        "            </tr>\n",
        "        </table>\n",
        "        \n",
        "        <table>\n",
        "            <tr>\n",
        "                <td align=\"center\" title=\"Validity of the migrad call\">Valid</td>\n",
        "                <td align=\"center\" title=\"Validity of parameters\">Valid Param</td>\n",
        "                <td align=\"center\" title=\"Is Covariance matrix accurate?\">Accurate Covar</td>\n",
        "                <td align=\"center\" title=\"Positive definiteness of covariance matrix\">PosDef</td>\n",
        "                <td align=\"center\" title=\"Was covariance matrix made posdef by adding diagonal element\">Made PosDef</td>\n",
        "            </tr>\n",
        "            <tr>\n",
        "                <td align=\"center\" style=\"background-color:#92CCA6\">True</td>\n",
        "                <td align=\"center\" style=\"background-color:#92CCA6\">True</td>\n",
        "                <td align=\"center\" style=\"background-color:#92CCA6\">True</td>\n",
        "                <td align=\"center\" style=\"background-color:#92CCA6\">True</td>\n",
        "                <td align=\"center\" style=\"background-color:#92CCA6\">False</td>\n",
        "            </tr>\n",
        "            <tr>\n",
        "                <td align=\"center\" title=\"Was last hesse call fail?\">Hesse Fail</td>\n",
        "                <td align=\"center\" title=\"Validity of covariance\">HasCov</td>\n",
        "                <td align=\"center\" title=\"Is EDM above goal EDM?\">Above EDM</td>\n",
        "                <td align=\"center\"></td>\n",
        "                <td align=\"center\" title=\"Did last migrad call reach max call limit?\">Reach calllim</td>\n",
        "            </tr>\n",
        "            <tr>\n",
        "                <td align=\"center\" style=\"background-color:#92CCA6\">False</td>\n",
        "                <td align=\"center\" style=\"background-color:#92CCA6\">True</td>\n",
        "                <td align=\"center\" style=\"background-color:#92CCA6\">False</td>\n",
        "                <td align=\"center\"></td>\n",
        "                <td align=\"center\" style=\"background-color:#92CCA6\">False</td>\n",
        "            </tr>\n",
        "        </table>\n",
        "        "
       ],
       "metadata": {},
       "output_type": "display_data"
      },
      {
       "html": [
        "\n",
        "        <table>\n",
        "            <tr>\n",
        "                <td><a href=\"#\" onclick=\"$('#EqQWABEhrm').toggle()\">+</a></td>\n",
        "                <td title=\"Variable name\">Name</td>\n",
        "                <td title=\"Value of parameter\">Value</td>\n",
        "                <td title=\"Parabolic error\">Parab Error</td>\n",
        "                <td title=\"Minos lower error\">Minos Error-</td>\n",
        "                <td title=\"Minos upper error\">Minos Error+</td>\n",
        "                <td title=\"Lower limit of the parameter\">Limit-</td>\n",
        "                <td title=\"Upper limit of the parameter\">Limit+</td>\n",
        "                <td title=\"Is the parameter fixed in the fit\">FIXED</td>\n",
        "            </tr>\n",
        "        \n",
        "            <tr>\n",
        "                <td>1</td>\n",
        "                <td>mass</td>\n",
        "                <td>4.699999e+02</td>\n",
        "                <td>9.899850e+01</td>\n",
        "                <td>0.000000e+00</td>\n",
        "                <td>0.000000e+00</td>\n",
        "                <td>0.0</td>\n",
        "                <td>470.0</td>\n",
        "                <td></td>\n",
        "            </tr>\n",
        "            \n",
        "            <tr>\n",
        "                <td>2</td>\n",
        "                <td>p</td>\n",
        "                <td>1.726665e+00</td>\n",
        "                <td>2.197253e-01</td>\n",
        "                <td>0.000000e+00</td>\n",
        "                <td>0.000000e+00</td>\n",
        "                <td>1.1</td>\n",
        "                <td>8.0</td>\n",
        "                <td></td>\n",
        "            </tr>\n",
        "            \n",
        "            </table>\n",
        "        \n",
        "            <pre id=\"EqQWABEhrm\" style=\"display:none;\">\n",
        "            <textarea rows=\"10\" cols=\"50\" onclick=\"this.select()\" readonly>\\begin{tabular}{|c|r|r|r|r|r|r|r|c|}\n",
        "\\hline\n",
        " & Name & Value & Para Error & Error+ & Error- & Limit+ & Limit- & FIXED\\\\\n",
        "\\hline\n",
        "1 & mass & 4.700e+02 & 9.900e+01 &  &  & 0.000e+00 & 4.700e+02 & \\\\\n",
        "\\hline\n",
        "2 & p & 1.727e+00 & 2.197e-01 &  &  & 1.100e+00 & 8.000e+00 & \\\\\n",
        "\\hline\n",
        "\\end{tabular}</textarea>\n",
        "            </pre>\n",
        "            "
       ],
       "metadata": {},
       "output_type": "display_data"
      },
      {
       "html": [
        "<hr>"
       ],
       "metadata": {},
       "output_type": "display_data"
      }
     ],
     "prompt_number": 18
    },
    {
     "cell_type": "markdown",
     "metadata": {},
     "source": [
      "### Now we put these parameters as fixed into fitting\n"
     ]
    },
    {
     "cell_type": "code",
     "collapsed": false,
     "input": [
      "print 'fitted params', fit3_inter_params\n",
      "\n",
      "total_params = fit_with_gap(full_pdf, values=bgA.Bmass.values,\n",
      "                      score=0, a=0.02, fix_mass=True, fix_p=True,\n",
      "                      limit_score=[-15, 0], limit_a=[0., 0.08], limit_mass=[0, 470], limit_p=[1.1, 8.], \n",
      "                      **fit3_inter_params\n",
      "                      )"
     ],
     "language": "python",
     "metadata": {},
     "outputs": [
      {
       "output_type": "stream",
       "stream": "stdout",
       "text": [
        "fitted params {'p': 2.7311326076271403, 'mass': 463.19740587204063}\n"
       ]
      },
      {
       "metadata": {},
       "output_type": "display_data",
       "png": "[encoded data removed]",
       "text": [
        "<matplotlib.figure.Figure at 0x30b7f90>"
       ]
      },
      {
       "html": [
        "<hr>"
       ],
       "metadata": {},
       "output_type": "display_data"
      },
      {
       "html": [
        "\n",
        "        <table>\n",
        "            <tr>\n",
        "                <td title=\"Minimum value of function\">FCN = 12127.7222077</td>\n",
        "                <td title=\"Total number of call to FCN so far\">TOTAL NCALL = 128</td>\n",
        "                <td title=\"Number of call in last migrad\">NCALLS = 128</td>\n",
        "            </tr>\n",
        "            <tr>\n",
        "                <td title=\"Estimated distance to minimum\">EDM = 1.08393310999e-08</td>\n",
        "                <td title=\"Maximum EDM definition of convergence\">GOAL EDM = 5e-06</td>\n",
        "                <td title=\"Error def. Amount of increase in FCN to be defined as 1 standard deviation\">\n",
        "                UP = 0.5</td>\n",
        "            </tr>\n",
        "        </table>\n",
        "        \n",
        "        <table>\n",
        "            <tr>\n",
        "                <td align=\"center\" title=\"Validity of the migrad call\">Valid</td>\n",
        "                <td align=\"center\" title=\"Validity of parameters\">Valid Param</td>\n",
        "                <td align=\"center\" title=\"Is Covariance matrix accurate?\">Accurate Covar</td>\n",
        "                <td align=\"center\" title=\"Positive definiteness of covariance matrix\">PosDef</td>\n",
        "                <td align=\"center\" title=\"Was covariance matrix made posdef by adding diagonal element\">Made PosDef</td>\n",
        "            </tr>\n",
        "            <tr>\n",
        "                <td align=\"center\" style=\"background-color:#92CCA6\">True</td>\n",
        "                <td align=\"center\" style=\"background-color:#92CCA6\">True</td>\n",
        "                <td align=\"center\" style=\"background-color:#92CCA6\">True</td>\n",
        "                <td align=\"center\" style=\"background-color:#92CCA6\">True</td>\n",
        "                <td align=\"center\" style=\"background-color:#92CCA6\">False</td>\n",
        "            </tr>\n",
        "            <tr>\n",
        "                <td align=\"center\" title=\"Was last hesse call fail?\">Hesse Fail</td>\n",
        "                <td align=\"center\" title=\"Validity of covariance\">HasCov</td>\n",
        "                <td align=\"center\" title=\"Is EDM above goal EDM?\">Above EDM</td>\n",
        "                <td align=\"center\"></td>\n",
        "                <td align=\"center\" title=\"Did last migrad call reach max call limit?\">Reach calllim</td>\n",
        "            </tr>\n",
        "            <tr>\n",
        "                <td align=\"center\" style=\"background-color:#92CCA6\">False</td>\n",
        "                <td align=\"center\" style=\"background-color:#92CCA6\">True</td>\n",
        "                <td align=\"center\" style=\"background-color:#92CCA6\">False</td>\n",
        "                <td align=\"center\"></td>\n",
        "                <td align=\"center\" style=\"background-color:#92CCA6\">False</td>\n",
        "            </tr>\n",
        "        </table>\n",
        "        "
       ],
       "metadata": {},
       "output_type": "display_data"
      },
      {
       "html": [
        "\n",
        "        <table>\n",
        "            <tr>\n",
        "                <td><a href=\"#\" onclick=\"$('#bsrJnNkWnx').toggle()\">+</a></td>\n",
        "                <td title=\"Variable name\">Name</td>\n",
        "                <td title=\"Value of parameter\">Value</td>\n",
        "                <td title=\"Parabolic error\">Parab Error</td>\n",
        "                <td title=\"Minos lower error\">Minos Error-</td>\n",
        "                <td title=\"Minos upper error\">Minos Error+</td>\n",
        "                <td title=\"Lower limit of the parameter\">Limit-</td>\n",
        "                <td title=\"Upper limit of the parameter\">Limit+</td>\n",
        "                <td title=\"Is the parameter fixed in the fit\">FIXED</td>\n",
        "            </tr>\n",
        "        \n",
        "            <tr>\n",
        "                <td>1</td>\n",
        "                <td>score</td>\n",
        "                <td>-9.140738e+00</td>\n",
        "                <td>6.748417e-02</td>\n",
        "                <td>0.000000e+00</td>\n",
        "                <td>0.000000e+00</td>\n",
        "                <td>-15.0</td>\n",
        "                <td>15.0</td>\n",
        "                <td></td>\n",
        "            </tr>\n",
        "            \n",
        "            <tr>\n",
        "                <td>2</td>\n",
        "                <td>mass</td>\n",
        "                <td>4.631974e+02</td>\n",
        "                <td>1.000000e+00</td>\n",
        "                <td>0.000000e+00</td>\n",
        "                <td>0.000000e+00</td>\n",
        "                <td>0.0</td>\n",
        "                <td>470.0</td>\n",
        "                <td>FIXED</td>\n",
        "            </tr>\n",
        "            \n",
        "            <tr>\n",
        "                <td>3</td>\n",
        "                <td>p</td>\n",
        "                <td>2.731133e+00</td>\n",
        "                <td>1.000000e+00</td>\n",
        "                <td>0.000000e+00</td>\n",
        "                <td>0.000000e+00</td>\n",
        "                <td>1.1</td>\n",
        "                <td>8.0</td>\n",
        "                <td>FIXED</td>\n",
        "            </tr>\n",
        "            \n",
        "            <tr>\n",
        "                <td>4</td>\n",
        "                <td>a</td>\n",
        "                <td>3.427143e-11</td>\n",
        "                <td>2.149311e-03</td>\n",
        "                <td>0.000000e+00</td>\n",
        "                <td>0.000000e+00</td>\n",
        "                <td>0.0</td>\n",
        "                <td>0.08</td>\n",
        "                <td></td>\n",
        "            </tr>\n",
        "            \n",
        "            </table>\n",
        "        \n",
        "            <pre id=\"bsrJnNkWnx\" style=\"display:none;\">\n",
        "            <textarea rows=\"14\" cols=\"50\" onclick=\"this.select()\" readonly>\\begin{tabular}{|c|r|r|r|r|r|r|r|c|}\n",
        "\\hline\n",
        " & Name & Value & Para Error & Error+ & Error- & Limit+ & Limit- & FIXED\\\\\n",
        "\\hline\n",
        "1 & score & -9.141e+00 & 6.748e-02 &  &  & -1.500e+01 & 1.500e+01 & \\\\\n",
        "\\hline\n",
        "2 & mass & 4.632e+02 & 1.000e+00 &  &  & 0.000e+00 & 4.700e+02 & FIXED\\\\\n",
        "\\hline\n",
        "3 & p & 2.731e+00 & 1.000e+00 &  &  & 1.100e+00 & 8.000e+00 & FIXED\\\\\n",
        "\\hline\n",
        "4 & a & 3.427e-11 & 2.149e-03 &  &  & 0.000e+00 & 8.000e-02 & \\\\\n",
        "\\hline\n",
        "\\end{tabular}</textarea>\n",
        "            </pre>\n",
        "            "
       ],
       "metadata": {},
       "output_type": "display_data"
      },
      {
       "html": [
        "<hr>"
       ],
       "metadata": {},
       "output_type": "display_data"
      }
     ],
     "prompt_number": 19
    },
    {
     "cell_type": "code",
     "collapsed": false,
     "input": [
      "plot_distribution(numpy.linspace(mass_min, mass_max, 200), **total_params)"
     ],
     "language": "python",
     "metadata": {},
     "outputs": [
      {
       "metadata": {},
       "output_type": "display_data",
       "png": "[encoded data removed]",
       "text": [
        "<matplotlib.figure.Figure at 0x57f6dd0>"
       ]
      }
     ],
     "prompt_number": 20
    },
    {
     "cell_type": "markdown",
     "metadata": {},
     "source": [
      "# Compare the results of fit1 and fit3"
     ]
    },
    {
     "cell_type": "code",
     "collapsed": false,
     "input": [
      "figure(figsize=(14, 5))\n",
      "subplot(1,2,1)\n",
      "plot_distribution(numpy.linspace(mass_min, mass_max, 200), **fit1_params)\n",
      "\n",
      "subplot(1,2,2)\n",
      "plot_distribution(numpy.linspace(mass_min, mass_max, 200), **total_params)"
     ],
     "language": "python",
     "metadata": {},
     "outputs": [
      {
       "metadata": {},
       "output_type": "display_data",
       "png": "[encoded data removed]",
       "text": [
        "<matplotlib.figure.Figure at 0x4ebdb90>"
       ]
      }
     ],
     "prompt_number": 21
    },
    {
     "cell_type": "markdown",
     "metadata": {},
     "source": [
      "# Experiments for antares@"
     ]
    },
    {
     "cell_type": "code",
     "collapsed": false,
     "input": [
      "limit1 = 1500\n",
      "limit2 = 1600\n",
      "limit3 = 1700\n",
      "limit4 = 1800\n",
      "\n",
      "def in_limits(x):\n",
      "    return (x > limit1) & (x < limit4) & ((x > limit3) | (x < limit2))\n",
      "\n",
      "data = numpy.random.normal(1600, 300, size=1000)\n",
      "data = data[in_limits(data)]\n",
      "\n",
      "def exp_gap(x, b):\n",
      "    return numpy.exp(- x * b) * in_limits(x)\n",
      "\n",
      "hist(data, bins=30)\n",
      "pass"
     ],
     "language": "python",
     "metadata": {},
     "outputs": [
      {
       "metadata": {},
       "output_type": "display_data",
       "png": "[encoded data removed]",
       "text": [
        "<matplotlib.figure.Figure at 0x2218410>"
       ]
      }
     ],
     "prompt_number": 2
    },
    {
     "cell_type": "code",
     "collapsed": false,
     "input": [
      "unbinned_likelihood = probfit.UnbinnedLH(probfit.Normalized(exp_gap, bound=[limit1, limit4]), data)\n",
      "minuit = iminuit.Minuit(unbinned_likelihood, pedantic=False, print_level=0)\n",
      "minuit.migrad(ncall=500)\n",
      "unbinned_likelihood.show(minuit)\n",
      "minuit.print_fmin()"
     ],
     "language": "python",
     "metadata": {},
     "outputs": [
      {
       "metadata": {},
       "output_type": "display_data",
       "png": "[encoded data removed]",
       "text": [
        "<matplotlib.figure.Figure at 0x40e3cd0>"
       ]
      },
      {
       "html": [
        "<hr>"
       ],
       "metadata": {},
       "output_type": "display_data"
      },
      {
       "html": [
        "\n",
        "        <table>\n",
        "            <tr>\n",
        "                <td title=\"Minimum value of function\">FCN = 1258.42460597</td>\n",
        "                <td title=\"Total number of call to FCN so far\">TOTAL NCALL = 18</td>\n",
        "                <td title=\"Number of call in last migrad\">NCALLS = 18</td>\n",
        "            </tr>\n",
        "            <tr>\n",
        "                <td title=\"Estimated distance to minimum\">EDM = 3.62357092043e-09</td>\n",
        "                <td title=\"Maximum EDM definition of convergence\">GOAL EDM = 5e-06</td>\n",
        "                <td title=\"Error def. Amount of increase in FCN to be defined as 1 standard deviation\">\n",
        "                UP = 0.5</td>\n",
        "            </tr>\n",
        "        </table>\n",
        "        \n",
        "        <table>\n",
        "            <tr>\n",
        "                <td align=\"center\" title=\"Validity of the migrad call\">Valid</td>\n",
        "                <td align=\"center\" title=\"Validity of parameters\">Valid Param</td>\n",
        "                <td align=\"center\" title=\"Is Covariance matrix accurate?\">Accurate Covar</td>\n",
        "                <td align=\"center\" title=\"Positive definiteness of covariance matrix\">PosDef</td>\n",
        "                <td align=\"center\" title=\"Was covariance matrix made posdef by adding diagonal element\">Made PosDef</td>\n",
        "            </tr>\n",
        "            <tr>\n",
        "                <td align=\"center\" style=\"background-color:#92CCA6\">True</td>\n",
        "                <td align=\"center\" style=\"background-color:#92CCA6\">True</td>\n",
        "                <td align=\"center\" style=\"background-color:#92CCA6\">True</td>\n",
        "                <td align=\"center\" style=\"background-color:#92CCA6\">True</td>\n",
        "                <td align=\"center\" style=\"background-color:#92CCA6\">False</td>\n",
        "            </tr>\n",
        "            <tr>\n",
        "                <td align=\"center\" title=\"Was last hesse call fail?\">Hesse Fail</td>\n",
        "                <td align=\"center\" title=\"Validity of covariance\">HasCov</td>\n",
        "                <td align=\"center\" title=\"Is EDM above goal EDM?\">Above EDM</td>\n",
        "                <td align=\"center\"></td>\n",
        "                <td align=\"center\" title=\"Did last migrad call reach max call limit?\">Reach calllim</td>\n",
        "            </tr>\n",
        "            <tr>\n",
        "                <td align=\"center\" style=\"background-color:#92CCA6\">False</td>\n",
        "                <td align=\"center\" style=\"background-color:#92CCA6\">True</td>\n",
        "                <td align=\"center\" style=\"background-color:#92CCA6\">False</td>\n",
        "                <td align=\"center\"></td>\n",
        "                <td align=\"center\" style=\"background-color:#92CCA6\">False</td>\n",
        "            </tr>\n",
        "        </table>\n",
        "        "
       ],
       "metadata": {},
       "output_type": "display_data"
      },
      {
       "html": [
        "\n",
        "        <table>\n",
        "            <tr>\n",
        "                <td><a href=\"#\" onclick=\"$('#KiUGjmPrwN').toggle()\">+</a></td>\n",
        "                <td title=\"Variable name\">Name</td>\n",
        "                <td title=\"Value of parameter\">Value</td>\n",
        "                <td title=\"Parabolic error\">Parab Error</td>\n",
        "                <td title=\"Minos lower error\">Minos Error-</td>\n",
        "                <td title=\"Minos upper error\">Minos Error+</td>\n",
        "                <td title=\"Lower limit of the parameter\">Limit-</td>\n",
        "                <td title=\"Upper limit of the parameter\">Limit+</td>\n",
        "                <td title=\"Is the parameter fixed in the fit\">FIXED</td>\n",
        "            </tr>\n",
        "        \n",
        "            <tr>\n",
        "                <td>1</td>\n",
        "                <td>b</td>\n",
        "                <td>1.210965e-03</td>\n",
        "                <td>6.270329e-04</td>\n",
        "                <td>0.000000e+00</td>\n",
        "                <td>0.000000e+00</td>\n",
        "                <td></td>\n",
        "                <td></td>\n",
        "                <td></td>\n",
        "            </tr>\n",
        "            \n",
        "            </table>\n",
        "        \n",
        "            <pre id=\"KiUGjmPrwN\" style=\"display:none;\">\n",
        "            <textarea rows=\"8\" cols=\"50\" onclick=\"this.select()\" readonly>\\begin{tabular}{|c|r|r|r|r|r|r|r|c|}\n",
        "\\hline\n",
        " & Name & Value & Para Error & Error+ & Error- & Limit+ & Limit- & FIXED\\\\\n",
        "\\hline\n",
        "1 & b & 1.211e-03 & 6.270e-04 &  &  &  &  & \\\\\n",
        "\\hline\n",
        "\\end{tabular}</textarea>\n",
        "            </pre>\n",
        "            "
       ],
       "metadata": {},
       "output_type": "display_data"
      },
      {
       "html": [
        "<hr>"
       ],
       "metadata": {},
       "output_type": "display_data"
      }
     ],
     "prompt_number": 6
    }
   ],
   "metadata": {}
  }
 ]
}