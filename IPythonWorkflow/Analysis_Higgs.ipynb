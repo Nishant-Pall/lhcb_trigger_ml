{
 "metadata": {
  "name": "",
  "signature": "sha256:104cd46edafc71c4d5e88a3525de535bbbaf7add52ebe861da7e59b0ac055c4a"
 },
 "nbformat": 3,
 "nbformat_minor": 0,
 "worksheets": [
  {
   "cells": [
    {
     "cell_type": "code",
     "collapsed": false,
     "input": [
      "import commonutils\n",
      "import reports\n",
      "import pandas\n",
      "import sklearn\n",
      "from collections import OrderedDict\n",
      "from supplementaryclassifiers import FeatureSplitter, DumbSplitter\n",
      "\n",
      "from sklearn.ensemble import RandomForestClassifier, RandomForestRegressor\n",
      "from sklearn.ensemble import GradientBoostingClassifier, ExtraTreesClassifier\n",
      "\n",
      "from sklearn.preprocessing import Imputer\n",
      "from config import ipc_profile"
     ],
     "language": "python",
     "metadata": {},
     "outputs": [],
     "prompt_number": 2
    },
    {
     "cell_type": "code",
     "collapsed": false,
     "input": [
      "import grid_search"
     ],
     "language": "python",
     "metadata": {},
     "outputs": [
      {
       "output_type": "stream",
       "stream": "stdout",
       "text": [
        "(4, 10)\n"
       ]
      }
     ],
     "prompt_number": 3
    },
    {
     "cell_type": "code",
     "collapsed": false,
     "input": [
      "folder = '/mnt/w76/notebook/datasets/higgs/'\n",
      "train_file = folder + 'training.csv'\n",
      "test_file = folder + 'testing.csv'"
     ],
     "language": "python",
     "metadata": {},
     "outputs": [],
     "prompt_number": 4
    },
    {
     "cell_type": "code",
     "collapsed": false,
     "input": [
      "data = pandas.read_csv(train_file, index_col='EventId')\n",
      "data = data.replace(-999, numpy.nan)\n",
      "answers_bs = numpy.ravel(data.Label)\n",
      "weights = numpy.ravel(data.Weight)\n",
      "data = data.drop(['Label', 'Weight'], axis=1)\n",
      "answers = numpy.zeros(len(answers_bs), dtype=numpy.int)\n",
      "answers[answers_bs == 's'] = 1"
     ],
     "language": "python",
     "metadata": {},
     "outputs": [],
     "prompt_number": 5
    },
    {
     "cell_type": "markdown",
     "metadata": {},
     "source": [
      "## Feature extraction"
     ]
    },
    {
     "cell_type": "code",
     "collapsed": false,
     "input": [
      "sorted(numpy.isnan(data).sum(axis=0).iteritems(), key=lambda y: y[1])"
     ],
     "language": "python",
     "metadata": {},
     "outputs": [
      {
       "metadata": {},
       "output_type": "pyout",
       "prompt_number": 6,
       "text": [
        "[('DER_mass_transverse_met_lep', 0),\n",
        " ('DER_mass_vis', 0),\n",
        " ('DER_pt_h', 0),\n",
        " ('DER_deltar_tau_lep', 0),\n",
        " ('DER_pt_tot', 0),\n",
        " ('DER_sum_pt', 0),\n",
        " ('DER_pt_ratio_lep_tau', 0),\n",
        " ('DER_met_phi_centrality', 0),\n",
        " ('PRI_tau_pt', 0),\n",
        " ('PRI_tau_eta', 0),\n",
        " ('PRI_tau_phi', 0),\n",
        " ('PRI_lep_pt', 0),\n",
        " ('PRI_lep_eta', 0),\n",
        " ('PRI_lep_phi', 0),\n",
        " ('PRI_met', 0),\n",
        " ('PRI_met_phi', 0),\n",
        " ('PRI_met_sumet', 0),\n",
        " ('PRI_jet_num', 0),\n",
        " ('PRI_jet_all_pt', 0),\n",
        " ('DER_mass_MMC', 38114),\n",
        " ('PRI_jet_leading_pt', 99913),\n",
        " ('PRI_jet_leading_eta', 99913),\n",
        " ('PRI_jet_leading_phi', 99913),\n",
        " ('DER_deltaeta_jet_jet', 177457),\n",
        " ('DER_mass_jet_jet', 177457),\n",
        " ('DER_prodeta_jet_jet', 177457),\n",
        " ('DER_lep_eta_centrality', 177457),\n",
        " ('PRI_jet_subleading_pt', 177457),\n",
        " ('PRI_jet_subleading_eta', 177457),\n",
        " ('PRI_jet_subleading_phi', 177457)]"
       ]
      }
     ],
     "prompt_number": 6
    },
    {
     "cell_type": "code",
     "collapsed": false,
     "input": [
      "def to_projections(phi, eta, pt):\n",
      "    return pt * numpy.cos(phi), pt * numpy.sin(phi), pt * numpy.sinh(eta)\n",
      "\n",
      "def from_projections(px, py, pz):\n",
      "    p = sqrt(px*px + py*py + pz*pz)\n",
      "    p_t = sqrt(px*px + py*py)\n",
      "    return numpy.arctan2(py, px), numpy. , p_t\n",
      "\n",
      "def compute_energy(m, px, py, pz):\n",
      "    return sqrt(m*m + px*px + py*py + pz*pz)\n",
      "\n",
      "def compute_mass(E, px, py, pz):\n",
      "    return sqrt(E*E - px*px - py*py - pz*pz)\n",
      "\n",
      "def minc_prod(df1, df2):\n",
      "    assert df1.shape == df2.shape\n",
      "    assert len(df1.columns) == 4\n",
      "    \n",
      "    return t1*t2 - x1*x2 - y1*y2 - z1*z2\n",
      "\n",
      "def minc_cos(df1, df2):\n",
      "    return minc_prod(df1, df2) / numpy.sqrt(minc_prod(df1, df1) * minc_prod(df2, df2))\n",
      "\n",
      "def to_nan(data):\n",
      "    assert isinstance(data, pandas.DataFrame)\n",
      "    return data.replace(-999, numpy.nan)\n",
      "\n",
      "def from_nan(data):\n",
      "    assert isinstance(data, pandas.DataFrame)\n",
      "    return data.replace(numpy.nan, -999)\n",
      "\n",
      "def to_normal_angle(data, *columns):\n",
      "    \"\"\" Drives columsn to range [-pi, pi] \"\"\"\n",
      "    for column in columns:\n",
      "        assert column in data.columns, 'no such column ' + str(column)\n",
      "        data[column] = ((data[column] + pi) % (2 * pi)) - pi\n",
      "        \n",
      "    \n",
      "\n",
      "def extract_features(X, use_mirror_phi=True, use_mirror_eta=True, drop_phi=True):\n",
      "    data = to_nan(X)\n",
      "    data = pandas.DataFrame.copy(X)\n",
      "    # rotating the data\n",
      "    starting_phi = data.PRI_lep_phi\n",
      "    phi_columns = ['PRI_tau_phi', 'PRI_met_phi', 'PRI_jet_leading_phi', 'PRI_jet_subleading_phi']\n",
      "    eta_columns = ['PRI_tau_eta', 'PRI_lep_eta', 'PRI_jet_leading_eta', 'PRI_jet_subleading_eta']\n",
      "    for column in phi_columns:\n",
      "        data[column] -= starting_phi\n",
      "        data[column] %= 2 * math.pi\n",
      "    \n",
      "    if drop_phi:\n",
      "        data = data.drop('PRI_lep_phi', axis=1)\n",
      "\n",
      "    if use_mirror_phi:\n",
      "        mirror_mask = data.PRI_tau_phi > math.pi\n",
      "        print 'phi mirroring', sum(mirror_mask), 'from', len(mirror_mask)\n",
      "        data.loc[mirror_mask, phi_columns] *= -1\n",
      "        to_normal_angle(data, *phi_columns)\n",
      "\n",
      "    if use_mirror_eta:\n",
      "        mirror_mask = data.PRI_lep_eta <= 0.\n",
      "        print 'eta mirroring', sum(mirror_mask), 'from', len(mirror_mask)\n",
      "        data.loc[mirror_mask, eta_columns] *= -1\n",
      "\n",
      "    data = from_nan(data)\n",
      "    return data"
     ],
     "language": "python",
     "metadata": {},
     "outputs": [],
     "prompt_number": 74
    },
    {
     "cell_type": "code",
     "collapsed": false,
     "input": [
      "plot(data.PRI_lep_pt), show()\n",
      "plot(data.PRI_met_sumet), show()\n",
      "plot(data.PRI_tau_pt)\n"
     ],
     "language": "python",
     "metadata": {},
     "outputs": [
      {
       "metadata": {},
       "output_type": "display_data",
       "png": "[encoded data removed]",
       "text": [
        "<matplotlib.figure.Figure at 0x7fe358261090>"
       ]
      },
      {
       "metadata": {},
       "output_type": "display_data",
       "png": "[encoded data removed]",
       "text": [
        "<matplotlib.figure.Figure at 0x7fe35819ec50>"
       ]
      },
      {
       "metadata": {},
       "output_type": "pyout",
       "prompt_number": 77,
       "text": [
        "[<matplotlib.lines.Line2D at 0xfb878d0>]"
       ]
      },
      {
       "metadata": {},
       "output_type": "display_data",
       "png": "[encoded data removed]",
       "text": [
        "<matplotlib.figure.Figure at 0x7fe35819e510>"
       ]
      }
     ],
     "prompt_number": 77
    },
    {
     "cell_type": "markdown",
     "metadata": {},
     "source": [
      "## Geometry reconstruction"
     ]
    },
    {
     "cell_type": "code",
     "collapsed": false,
     "input": [
      "def reconstruct_all_vectors(X):\n",
      "    data = pandas.DataFrame.copy(X)\n",
      "    prefixes = ['PRI_lep_', 'PRI_tau_', 'PRI_jet_leading_', 'PRI_jet_subleading_']\n",
      "    for prefix in prefixes:\n",
      "        data[prefix + 'px'], data[prefix + 'py'], data[prefix + 'pz'] = \\\n",
      "            to3d(prefix + 'phi', prefix + 'eta', prefix + 'pt')\n",
      "            \n",
      "    data['PRI_met_px'] = data.PRI_met * cos(data.PRI_met_phi)\n",
      "    data['PRI_met_py'] = data.PRI_met * sin(data.PRI_met_phi)\n",
      "    \n",
      "    for axis in ['px','py','pz']:\n",
      "        data['total_' + axis] = sum([data[prefix + axis] for prefix in prefixes])\n",
      "        \n",
      "    data['total_px'] += data['PRI_met_px']\n",
      "    data['total_py'] += data['PRI_met_py']\n",
      "    \n",
      "    data['total_phi'], data['total_eta'], data['total_pt'] = "
     ],
     "language": "python",
     "metadata": {},
     "outputs": []
    },
    {
     "cell_type": "code",
     "collapsed": false,
     "input": [
      "mask = data.PRI_jet_leading_phi > -998\n",
      "hist2d(numpy.array(data.PRI_lep_phi[mask]), numpy.array(data.PRI_jet_leading_phi[mask])) \n",
      "pass\n"
     ],
     "language": "python",
     "metadata": {},
     "outputs": [
      {
       "metadata": {},
       "output_type": "display_data",
       "png": "[encoded data removed]",
       "text": [
        "<matplotlib.figure.Figure at 0x5a13710>"
       ]
      }
     ],
     "prompt_number": 39
    },
    {
     "cell_type": "code",
     "collapsed": false,
     "input": [
      "hist2d(numpy.array(data.PRI_lep_phi), numpy.array(data.PRI_tau_phi))\n",
      "pass"
     ],
     "language": "python",
     "metadata": {},
     "outputs": [
      {
       "metadata": {},
       "output_type": "display_data",
       "png": "[encoded data removed]",
       "text": [
        "<matplotlib.figure.Figure at 0xabfc550>"
       ]
      }
     ],
     "prompt_number": 29
    },
    {
     "cell_type": "markdown",
     "metadata": {},
     "source": [
      "## Train / test splitting"
     ]
    },
    {
     "cell_type": "code",
     "collapsed": false,
     "input": [
      "data = from_nan(data)\n",
      "trainX, testX, trainY, testY, train_weights, test_weights = commonutils.my_train_test_split(data, answers, weights)"
     ],
     "language": "python",
     "metadata": {},
     "outputs": [],
     "prompt_number": 12
    },
    {
     "cell_type": "markdown",
     "metadata": {},
     "source": [
      "##Metrics "
     ]
    },
    {
     "cell_type": "code",
     "collapsed": false,
     "input": [
      "# %%px\n",
      "real_s = 691.988607712\n",
      "real_b = 410999.847322 \n",
      "\n",
      "def AMS(answers, predictions, sample_weight):\n",
      "    \"\"\" Predictions are classes \"\"\"\n",
      "    assert len(answers) == len(predictions) == len(sample_weight)\n",
      "    total_s = numpy.sum(sample_weight[answers > 0.5])\n",
      "    total_b = numpy.sum(sample_weight[answers < 0.5])\n",
      "    s = numpy.sum(sample_weight[answers * predictions > 0.5])\n",
      "    b = numpy.sum(sample_weight[(1 - answers) * predictions > 0.5])\n",
      "    s *= real_s / total_s\n",
      "    b *= real_b / total_b\n",
      "    br = 10. \n",
      "    radicand = 2 *( (s+b+br) * numpy.log(1.0 + s/(b+br)) - s)\n",
      "    if radicand < 0:\n",
      "        raise ValueError('Radicand is negative')\n",
      "    else:\n",
      "        return sqrt(radicand)\n",
      "    \n",
      "def compute_ams_on_cuts(answers, predictions, sample_weight):\n",
      "    \"\"\" Prediction is probabilities\"\"\"\n",
      "    assert len(answers) == len(predictions) == len(sample_weight)\n",
      "    order = numpy.argsort(predictions)[::-1]\n",
      "    reordered_answers = answers[order]\n",
      "    reordered_weights = sample_weight[order]\n",
      "    s_cumulative = numpy.cumsum(reordered_answers * reordered_weights) \n",
      "    b_cumulative = numpy.cumsum((1 - reordered_answers) * reordered_weights)\n",
      "    b_cumulative *= real_b / b_cumulative[-1]\n",
      "    s_cumulative *= real_s / s_cumulative[-1]\n",
      "    br = 10.\n",
      "    s = s_cumulative\n",
      "    b = b_cumulative\n",
      "    radicands = 2 *( (s + b + br) * numpy.log (1.0 + s/(b + br)) - s) \n",
      "    return predictions[order], radicands\n",
      "    \n",
      "\n",
      "def optimal_AMS(answers, predictions, sample_weight):\n",
      "    \"\"\" Prediction is probabilities \"\"\"\n",
      "    cuts, radicands = compute_ams_on_cuts(answers, predictions, sample_weight)\n",
      "    return sqrt(numpy.max(radicands))\n",
      "\n",
      "def plot_AMS_on_cuts(answers, predictions, sample_weight):\n",
      "    \"\"\" Prediction is probabilities \"\"\"\n",
      "    cuts, radicands = compute_ams_on_cuts(answers, predictions, sample_weight)\n",
      "    plot(cuts, sqrt(numpy.clip(radicands, 0, 100)) )\n",
      "    \n",
      "def plot_AMS_on_signal_order(answers, predictions, sample_weight):\n",
      "    \"\"\" Prediction is probabilities \"\"\"\n",
      "    cuts, radicands = compute_ams_on_cuts(answers, predictions, sample_weight)\n",
      "    order = numpy.argsort(predictions)[::-1]\n",
      "    plot( sqrt(numpy.clip(radicands[answers[order] > 0.5], 0, 100) ))\n"
     ],
     "language": "python",
     "metadata": {},
     "outputs": [],
     "prompt_number": 13
    },
    {
     "cell_type": "markdown",
     "metadata": {},
     "source": [
      "## Comparison of extracted vs no extraction"
     ]
    },
    {
     "cell_type": "code",
     "collapsed": false,
     "input": [
      "transforms = OrderedDict()\n",
      "transforms['no trans'] = lambda x: x\n",
      "transforms['default'] = lambda x: extract_features(x)\n",
      "# transforms['rotation'] = lambda x: extract_features(x, use_mirror_phi=False, use_mirror_eta=False)\n",
      "# transforms['rot+mirror[phi]'] = lambda x: extract_features(x, use_mirror_phi=True, use_mirror_eta=False)\n",
      "# transforms['rot+mirror[phi, ets]'] = lambda x: extract_features(x, use_mirror_phi=True, use_mirror_eta=True)\n",
      "\n",
      "for transform_name, transform in transforms.iteritems():\n",
      "    print transform_name\n",
      "    classifiers_feat = reports.ClassifiersDict()\n",
      "    classifiers_feat['rf'] = RandomForestClassifier(min_samples_leaf=50, n_estimators=50, min_samples_split=50, \n",
      "                                                    criterion='entropy', max_features=10, max_depth=None)\n",
      "    classifiers_feat.fit(transform(trainX), trainY, train_weights)\n",
      "    pred = classifiers_feat.test_on(transform(testX), testY, test_weights)\n",
      "    pred.compute_metrics()\n",
      "    pred.compute_metrics(metrics=optimal_AMS)\n"
     ],
     "language": "python",
     "metadata": {},
     "outputs": [
      {
       "output_type": "stream",
       "stream": "stdout",
       "text": [
        "no trans\n",
        "Classifier           rf is learnt in 287.90 seconds"
       ]
      },
      {
       "output_type": "stream",
       "stream": "stdout",
       "text": [
        "\n",
        "Computing roc_auc_score"
       ]
      },
      {
       "output_type": "stream",
       "stream": "stdout",
       "text": [
        "\n"
       ]
      },
      {
       "html": [
        "<div style=\"max-height:1000px;max-width:1500px;overflow:auto;\">\n",
        "<table border=\"1\" class=\"dataframe\">\n",
        "  <thead>\n",
        "    <tr style=\"text-align: right;\">\n",
        "      <th></th>\n",
        "      <th>rf</th>\n",
        "    </tr>\n",
        "  </thead>\n",
        "  <tbody>\n",
        "    <tr>\n",
        "      <th>result</th>\n",
        "      <td> 0.930952</td>\n",
        "    </tr>\n",
        "  </tbody>\n",
        "</table>\n",
        "<p>1 rows \u00d7 1 columns</p>\n",
        "</div>"
       ],
       "metadata": {},
       "output_type": "display_data"
      },
      {
       "output_type": "stream",
       "stream": "stdout",
       "text": [
        "Computing optimal_AMS\n"
       ]
      },
      {
       "html": [
        "<div style=\"max-height:1000px;max-width:1500px;overflow:auto;\">\n",
        "<table border=\"1\" class=\"dataframe\">\n",
        "  <thead>\n",
        "    <tr style=\"text-align: right;\">\n",
        "      <th></th>\n",
        "      <th>rf</th>\n",
        "    </tr>\n",
        "  </thead>\n",
        "  <tbody>\n",
        "    <tr>\n",
        "      <th>result</th>\n",
        "      <td> 3.463876</td>\n",
        "    </tr>\n",
        "  </tbody>\n",
        "</table>\n",
        "<p>1 rows \u00d7 1 columns</p>\n",
        "</div>"
       ],
       "metadata": {},
       "output_type": "display_data"
      },
      {
       "output_type": "stream",
       "stream": "stdout",
       "text": [
        "default\n",
        "phi mirroring"
       ]
      },
      {
       "output_type": "stream",
       "stream": "stdout",
       "text": [
        " 93723 from 187500\n",
        "eta mirroring"
       ]
      },
      {
       "output_type": "stream",
       "stream": "stdout",
       "text": [
        " 94850 from 187500\n",
        "Classifier           rf is learnt in 289.83 seconds"
       ]
      },
      {
       "output_type": "stream",
       "stream": "stdout",
       "text": [
        "\n",
        "phi mirroring"
       ]
      },
      {
       "output_type": "stream",
       "stream": "stdout",
       "text": [
        " 31224 from 62500\n",
        "eta mirroring 31871 from 62500\n",
        "Computing roc_auc_score"
       ]
      },
      {
       "output_type": "stream",
       "stream": "stdout",
       "text": [
        "\n"
       ]
      },
      {
       "html": [
        "<div style=\"max-height:1000px;max-width:1500px;overflow:auto;\">\n",
        "<table border=\"1\" class=\"dataframe\">\n",
        "  <thead>\n",
        "    <tr style=\"text-align: right;\">\n",
        "      <th></th>\n",
        "      <th>rf</th>\n",
        "    </tr>\n",
        "  </thead>\n",
        "  <tbody>\n",
        "    <tr>\n",
        "      <th>result</th>\n",
        "      <td> 0.932126</td>\n",
        "    </tr>\n",
        "  </tbody>\n",
        "</table>\n",
        "<p>1 rows \u00d7 1 columns</p>\n",
        "</div>"
       ],
       "metadata": {},
       "output_type": "display_data"
      },
      {
       "output_type": "stream",
       "stream": "stdout",
       "text": [
        "Computing optimal_AMS\n"
       ]
      },
      {
       "html": [
        "<div style=\"max-height:1000px;max-width:1500px;overflow:auto;\">\n",
        "<table border=\"1\" class=\"dataframe\">\n",
        "  <thead>\n",
        "    <tr style=\"text-align: right;\">\n",
        "      <th></th>\n",
        "      <th>rf</th>\n",
        "    </tr>\n",
        "  </thead>\n",
        "  <tbody>\n",
        "    <tr>\n",
        "      <th>result</th>\n",
        "      <td> 3.498725</td>\n",
        "    </tr>\n",
        "  </tbody>\n",
        "</table>\n",
        "<p>1 rows \u00d7 1 columns</p>\n",
        "</div>"
       ],
       "metadata": {},
       "output_type": "display_data"
      }
     ],
     "prompt_number": 75
    },
    {
     "cell_type": "code",
     "collapsed": false,
     "input": [
      "base_estimator = RandomForestClassifier(min_samples_leaf=50, max_depth=5, n_estimators=50) \n",
      "base_estimators = {'rf': base_estimator}\n",
      "\n",
      "base_estimator_gb = GradientBoostingClassifier(min_samples_leaf=50, max_depth=5, n_estimators=50) \n",
      "\n",
      "classifiers = reports.ClassifiersDict()\n",
      "classifiers['rf'] = RandomForestClassifier(min_samples_leaf=30, n_estimators=50)\n",
      "# classifiers['xt'] = ExtraTreesClassifier(min_samples_leaf=15, max_depth=5, n_estimators=400)\n",
      "# classifiers['rf+split'] = FeatureSplitter('PRI_jet_num', base_estimators=base_estimators, final_estimator=base_estimator)\n",
      "# classifiers['rf+dumbsplit'] = DumbSplitter('PRI_jet_num', base_estimator=base_estimator)\n",
      "\n",
      "# classifiers['gb'] = GradientBoostingClassifier(min_samples_leaf=50, max_depth=5, n_estimators=50)\n",
      "# classifiers['gb+split'] = FeatureSplitter('PRI_jet_num', base_estimators=base_estimators, final_estimator=base_estimator)\n",
      "# classifiers['gb+dumbsplit'] = DumbSplitter('PRI_jet_num', base_estimator=base_estimator_gb)\n",
      "\n",
      "classifiers.fit(extract_features(trainX), trainY, train_weights)"
     ],
     "language": "python",
     "metadata": {},
     "outputs": [
      {
       "output_type": "stream",
       "stream": "stdout",
       "text": [
        "Classifier           rf is learnt in 322.95 seconds\n"
       ]
      },
      {
       "metadata": {},
       "output_type": "pyout",
       "prompt_number": 105,
       "text": [
        "ClassifiersDict([('rf', RandomForestClassifier(bootstrap=True, compute_importances=None,\n",
        "            criterion='gini', max_depth=None, max_features='auto',\n",
        "            min_density=None, min_samples_leaf=30, min_samples_split=2,\n",
        "            n_estimators=50, n_jobs=1, oob_score=False, random_state=None,\n",
        "            verbose=0))])"
       ]
      }
     ],
     "prompt_number": 105
    },
    {
     "cell_type": "code",
     "collapsed": false,
     "input": [
      "preds = classifiers.test_on(extract_features(testX), testY, test_weights) \n",
      "preds.roc()"
     ],
     "language": "python",
     "metadata": {},
     "outputs": [
      {
       "metadata": {},
       "output_type": "pyout",
       "prompt_number": 106,
       "text": [
        "<reports.Predictions at 0x50b3b50>"
       ]
      },
      {
       "metadata": {},
       "output_type": "display_data",
       "png": "[encoded data removed]",
       "text": [
        "<matplotlib.figure.Figure at 0x50b3d50>"
       ]
      }
     ],
     "prompt_number": 106
    },
    {
     "cell_type": "code",
     "collapsed": false,
     "input": [
      "# \u0440\u0435\u0437\u0443\u043b\u044c\u0442\u0430\u0442\u044b c max_depth = 5\n",
      "# \u043d\u0430\u043f\u0440\u044f\u043c\u0443\u044e  2.11-2.14, roc = 0.891\n",
      "# \u043f\u0440\u043e\u0441\u0442\u043e \u043f\u043e\u0432\u043e\u0440\u043e\u0442, \u043e\u0441\u0442\u0430\u0432\u043b\u0435\u043d\u0430 \u0444\u0438\u0447\u0430 2.52, 2.19 , roc = 0.897\n",
      "# \u043f\u043e\u0432\u043e\u0440\u043e\u0442, \u0443\u0434\u0430\u043b\u0435\u043d\u0438\u0435 \u0444\u0438\u0447\u0438 2.09-2.12, roc = 0.897\n",
      "\n",
      "\n",
      "# \u0411\u0435\u0437 \u043e\u0433\u0440\u0430\u043d\u0438\u0447\u0435\u043d\u0438\u044f \u043d\u0430 \u0433\u043b\u0443\u0431\u0438\u043d\u0443\n",
      "# c \u043f\u0440\u0435\u043e\u0431\u0440\u0430\u0437\u043e\u0432\u0430\u043d\u0438\u0435\u043c 3.33-3.52, roc=0.923, 0.924\n",
      "\n",
      "preds.compute_metrics(metrics=optimal_AMS)\n",
      "preds.compute_metrics(metrics=plot_AMS_on_cuts)\n",
      "show()\n",
      "preds.compute_metrics(metrics=plot_AMS_on_signal_order)"
     ],
     "language": "python",
     "metadata": {},
     "outputs": [
      {
       "output_type": "stream",
       "stream": "stdout",
       "text": [
        "Computing plot_AMS_on_cuts\n"
       ]
      },
      {
       "html": [
        "<div style=\"max-height:1000px;max-width:1500px;overflow:auto;\">\n",
        "<table border=\"1\" class=\"dataframe\">\n",
        "  <thead>\n",
        "    <tr style=\"text-align: right;\">\n",
        "      <th></th>\n",
        "      <th>rf</th>\n",
        "    </tr>\n",
        "  </thead>\n",
        "  <tbody>\n",
        "    <tr>\n",
        "      <th>result</th>\n",
        "      <td> None</td>\n",
        "    </tr>\n",
        "  </tbody>\n",
        "</table>\n",
        "<p>1 rows \u00d7 1 columns</p>\n",
        "</div>"
       ],
       "metadata": {},
       "output_type": "display_data"
      },
      {
       "metadata": {},
       "output_type": "display_data",
       "png": "[encoded data removed]",
       "text": [
        "<matplotlib.figure.Figure at 0x5092e10>"
       ]
      },
      {
       "output_type": "stream",
       "stream": "stdout",
       "text": [
        "Computing optimal_AMS\n"
       ]
      },
      {
       "html": [
        "<div style=\"max-height:1000px;max-width:1500px;overflow:auto;\">\n",
        "<table border=\"1\" class=\"dataframe\">\n",
        "  <thead>\n",
        "    <tr style=\"text-align: right;\">\n",
        "      <th></th>\n",
        "      <th>rf</th>\n",
        "    </tr>\n",
        "  </thead>\n",
        "  <tbody>\n",
        "    <tr>\n",
        "      <th>result</th>\n",
        "      <td> 3.332934</td>\n",
        "    </tr>\n",
        "  </tbody>\n",
        "</table>\n",
        "<p>1 rows \u00d7 1 columns</p>\n",
        "</div>"
       ],
       "metadata": {},
       "output_type": "display_data"
      },
      {
       "output_type": "stream",
       "stream": "stdout",
       "text": [
        "Computing plot_AMS_on_signal_order\n"
       ]
      },
      {
       "html": [
        "<div style=\"max-height:1000px;max-width:1500px;overflow:auto;\">\n",
        "<table border=\"1\" class=\"dataframe\">\n",
        "  <thead>\n",
        "    <tr style=\"text-align: right;\">\n",
        "      <th></th>\n",
        "      <th>rf</th>\n",
        "    </tr>\n",
        "  </thead>\n",
        "  <tbody>\n",
        "    <tr>\n",
        "      <th>result</th>\n",
        "      <td> None</td>\n",
        "    </tr>\n",
        "  </tbody>\n",
        "</table>\n",
        "<p>1 rows \u00d7 1 columns</p>\n",
        "</div>"
       ],
       "metadata": {},
       "output_type": "display_data"
      },
      {
       "metadata": {},
       "output_type": "pyout",
       "prompt_number": 107,
       "text": [
        "<reports.Predictions at 0x50b3b50>"
       ]
      },
      {
       "metadata": {},
       "output_type": "display_data",
       "png": "[encoded data removed]",
       "text": [
        "<matplotlib.figure.Figure at 0x9d5be90>"
       ]
      }
     ],
     "prompt_number": 107
    },
    {
     "cell_type": "code",
     "collapsed": false,
     "input": [
      "extract_features(trainX).columns"
     ],
     "language": "python",
     "metadata": {},
     "outputs": [
      {
       "metadata": {},
       "output_type": "pyout",
       "prompt_number": 31,
       "text": [
        "Index([u'DER_mass_MMC', u'DER_mass_transverse_met_lep', u'DER_mass_vis', u'DER_pt_h', u'DER_deltaeta_jet_jet', u'DER_mass_jet_jet', u'DER_prodeta_jet_jet', u'DER_deltar_tau_lep', u'DER_pt_tot', u'DER_sum_pt', u'DER_pt_ratio_lep_tau', u'DER_met_phi_centrality', u'DER_lep_eta_centrality', u'PRI_tau_pt', u'PRI_tau_eta', u'PRI_tau_phi', u'PRI_lep_pt', u'PRI_lep_eta', u'PRI_met', u'PRI_met_phi', u'PRI_met_sumet', u'PRI_jet_num', u'PRI_jet_leading_pt', u'PRI_jet_leading_eta', u'PRI_jet_leading_phi', u'PRI_jet_subleading_pt', u'PRI_jet_subleading_eta', u'PRI_jet_subleading_phi', u'PRI_jet_all_pt'], dtype='object')"
       ]
      }
     ],
     "prompt_number": 31
    },
    {
     "cell_type": "code",
     "collapsed": false,
     "input": [
      "pcolor( numpy.cov(numpy.transpose(numpy.array(numpy.isnan(data)))) )\n",
      "colorbar()"
     ],
     "language": "python",
     "metadata": {},
     "outputs": [
      {
       "metadata": {},
       "output_type": "pyout",
       "prompt_number": 44,
       "text": [
        "<matplotlib.colorbar.Colorbar instance at 0x7f18d157e5a8>"
       ]
      },
      {
       "metadata": {},
       "output_type": "display_data",
       "png": "[encoded data removed]",
       "text": [
        "<matplotlib.figure.Figure at 0x5b45e50>"
       ]
      }
     ],
     "prompt_number": 44
    },
    {
     "cell_type": "markdown",
     "metadata": {},
     "source": [
      "## Finding best parameters for RandomForest"
     ]
    },
    {
     "cell_type": "code",
     "collapsed": false,
     "input": [
      "param_grid = OrderedDict({'n_estimators': [50, 100, 150],\n",
      "              'criterion': ['gini', 'entropy'],\n",
      "              'max_features': [10, 20, 'auto'], \n",
      "              'max_depth': [10, None], \n",
      "              'min_samples_leaf': [50, 75, 100, 125, 150],\n",
      "              'min_samples_split': [50]})\n",
      "\n",
      "gridcv = grid_search.GridOptimalSearchCV(estimator=RandomForestClassifier(), param_grid=param_grid, score_function=optimal_AMS, \n",
      "                                         ipc_profile=ipc_profile, n_evaluations=100)"
     ],
     "language": "python",
     "metadata": {},
     "outputs": [],
     "prompt_number": 115
    },
    {
     "cell_type": "code",
     "collapsed": false,
     "input": [
      "gridcv.fit(trainX, trainY, train_weights)"
     ],
     "language": "python",
     "metadata": {},
     "outputs": []
    },
    {
     "cell_type": "code",
     "collapsed": false,
     "input": [
      "# \u0440\u0435\u043a\u043e\u0440\u0434\u0441\u043c\u0435\u043d\u044b\n",
      "# 3.384:  min_samples_leaf=70, n_estimators=100, min_samples_split=30, criterion=entropy, max_features=auto, max_depth=10\n",
      "\n",
      "max(gridcv.grid_scores_.values())"
     ],
     "language": "python",
     "metadata": {},
     "outputs": []
    },
    {
     "cell_type": "code",
     "collapsed": false,
     "input": [
      "plot(gridcv.grid_scores_.values())"
     ],
     "language": "python",
     "metadata": {},
     "outputs": [
      {
       "metadata": {},
       "output_type": "pyout",
       "prompt_number": 119,
       "text": [
        "[<matplotlib.lines.Line2D at 0x26ce5310>]"
       ]
      },
      {
       "metadata": {},
       "output_type": "display_data",
       "png": "[encoded data removed]",
       "text": [
        "<matplotlib.figure.Figure at 0x7effaa3584d0>"
       ]
      }
     ],
     "prompt_number": 119
    },
    {
     "cell_type": "code",
     "collapsed": false,
     "input": [
      "gridcv.best_score_, gridcv.best_params_"
     ],
     "language": "python",
     "metadata": {},
     "outputs": [
      {
       "metadata": {},
       "output_type": "pyout",
       "prompt_number": 118,
       "text": [
        "(3.5195276523126866,\n",
        " OrderedDict([('min_samples_leaf', 50), ('n_estimators', 50), ('min_samples_split', 50), ('criterion', 'entropy'), ('max_features', 10), ('max_depth', None)]))"
       ]
      }
     ],
     "prompt_number": 118
    },
    {
     "cell_type": "code",
     "collapsed": false,
     "input": [
      "len(gridcv.grid_scores_), gridcv.evaluations_done, len(gridcv.queued_tasks_)\n"
     ],
     "language": "python",
     "metadata": {},
     "outputs": [
      {
       "metadata": {},
       "output_type": "pyout",
       "prompt_number": 126,
       "text": [
        "(52, 52, 65)"
       ]
      }
     ],
     "prompt_number": 126
    },
    {
     "cell_type": "code",
     "collapsed": false,
     "input": [
      "prod(gridcv.dimensions), gridcv.n_evaluations"
     ],
     "language": "python",
     "metadata": {},
     "outputs": [
      {
       "metadata": {},
       "output_type": "pyout",
       "prompt_number": 128,
       "text": [
        "(180, 90)"
       ]
      }
     ],
     "prompt_number": 128
    },
    {
     "cell_type": "markdown",
     "metadata": {},
     "source": [
      "##Some results"
     ]
    },
    {
     "cell_type": "raw",
     "metadata": {},
     "source": [
      "3.520:  min_samples_leaf=50, n_estimators=50, min_samples_split=50, criterion=entropy, max_features=10, max_depth=None\n",
      "3.493:  min_samples_leaf=75, n_estimators=150, min_samples_split=50, criterion=entropy, max_features=10, max_depth=None\n",
      "3.488:  min_samples_leaf=75, n_estimators=150, min_samples_split=50, criterion=entropy, max_features=20, max_depth=None\n",
      "3.487:  min_samples_leaf=50, n_estimators=100, min_samples_split=50, criterion=entropy, max_features=10, max_depth=None\n",
      "3.483:  min_samples_leaf=75, n_estimators=100, min_samples_split=50, criterion=entropy, max_features=10, max_depth=None\n",
      "3.482:  min_samples_leaf=100, n_estimators=100, min_samples_split=50, criterion=entropy, max_features=10, max_depth=None\n",
      "3.466:  min_samples_leaf=50, n_estimators=100, min_samples_split=50, criterion=entropy, max_features=20, max_depth=None\n",
      "3.461:  min_samples_leaf=75, n_estimators=100, min_samples_split=50, criterion=entropy, max_features=auto, max_depth=None\n",
      "3.459:  min_samples_leaf=150, n_estimators=150, min_samples_split=50, criterion=entropy, max_features=20, max_depth=None\n",
      "3.456:  min_samples_leaf=50, n_estimators=150, min_samples_split=50, criterion=entropy, max_features=10, max_depth=None\n",
      "3.456:  min_samples_leaf=75, n_estimators=150, min_samples_split=50, criterion=entropy, max_features=auto, max_depth=None\n",
      "3.453:  min_samples_leaf=50, n_estimators=150, min_samples_split=50, criterion=entropy, max_features=20, max_depth=None\n",
      "3.448:  min_samples_leaf=75, n_estimators=100, min_samples_split=50, criterion=entropy, max_features=20, max_depth=None\n",
      "3.447:  min_samples_leaf=150, n_estimators=100, min_samples_split=50, criterion=entropy, max_features=20, max_depth=None\n",
      "3.442:  min_samples_leaf=75, n_estimators=100, min_samples_split=50, criterion=gini, max_features=10, max_depth=None\n",
      "3.431:  min_samples_leaf=75, n_estimators=50, min_samples_split=50, criterion=entropy, max_features=10, max_depth=None\n",
      "3.430:  min_samples_leaf=150, n_estimators=100, min_samples_split=50, criterion=entropy, max_features=10, max_depth=None\n",
      "3.424:  min_samples_leaf=50, n_estimators=50, min_samples_split=50, criterion=gini, max_features=10, max_depth=None\n",
      "3.422:  min_samples_leaf=150, n_estimators=50, min_samples_split=50, criterion=entropy, max_features=auto, max_depth=None\n",
      "3.413:  min_samples_leaf=100, n_estimators=100, min_samples_split=50, criterion=entropy, max_features=20, max_depth=None\n",
      "3.408:  min_samples_leaf=150, n_estimators=150, min_samples_split=50, criterion=entropy, max_features=10, max_depth=None\n",
      "3.406:  min_samples_leaf=50, n_estimators=150, min_samples_split=50, criterion=gini, max_features=10, max_depth=None\n",
      "3.399:  min_samples_leaf=75, n_estimators=50, min_samples_split=50, criterion=entropy, max_features=auto, max_depth=None\n",
      "3.396:  min_samples_leaf=50, n_estimators=100, min_samples_split=50, criterion=gini, max_features=10, max_depth=None\n",
      "3.394:  min_samples_leaf=150, n_estimators=50, min_samples_split=50, criterion=entropy, max_features=20, max_depth=None\n",
      "3.392:  min_samples_leaf=150, n_estimators=150, min_samples_split=50, criterion=gini, max_features=10, max_depth=None\n",
      "3.389:  min_samples_leaf=50, n_estimators=100, min_samples_split=50, criterion=entropy, max_features=auto, max_depth=None\n",
      "3.386:  min_samples_leaf=150, n_estimators=100, min_samples_split=50, criterion=entropy, max_features=auto, max_depth=None\n",
      "3.384:  min_samples_leaf=75, n_estimators=50, min_samples_split=50, criterion=entropy, max_features=20, max_depth=None\n",
      "3.382:  min_samples_leaf=50, n_estimators=150, min_samples_split=50, criterion=gini, max_features=20, max_depth=None\n",
      "3.381:  min_samples_leaf=150, n_estimators=150, min_samples_split=50, criterion=entropy, max_features=10, max_depth=10\n",
      "3.372:  min_samples_leaf=50, n_estimators=50, min_samples_split=50, criterion=entropy, max_features=20, max_depth=None\n",
      "3.367:  min_samples_leaf=50, n_estimators=100, min_samples_split=50, criterion=gini, max_features=20, max_depth=None\n",
      "3.366:  min_samples_leaf=75, n_estimators=100, min_samples_split=50, criterion=gini, max_features=auto, max_depth=None\n",
      "3.358:  min_samples_leaf=75, n_estimators=100, min_samples_split=50, criterion=entropy, max_features=10, max_depth=10\n",
      "3.357:  min_samples_leaf=75, n_estimators=150, min_samples_split=50, criterion=gini, max_features=20, max_depth=None\n",
      "3.354:  min_samples_leaf=75, n_estimators=100, min_samples_split=50, criterion=gini, max_features=20, max_depth=None\n",
      "3.349:  min_samples_leaf=100, n_estimators=150, min_samples_split=50, criterion=gini, max_features=20, max_depth=None\n",
      "3.336:  min_samples_leaf=100, n_estimators=150, min_samples_split=50, criterion=entropy, max_features=10, max_depth=10\n",
      "3.332:  min_samples_leaf=75, n_estimators=100, min_samples_split=50, criterion=entropy, max_features=20, max_depth=10\n",
      "3.325:  min_samples_leaf=50, n_estimators=100, min_samples_split=50, criterion=entropy, max_features=20, max_depth=10\n",
      "3.320:  min_samples_leaf=125, n_estimators=50, min_samples_split=50, criterion=entropy, max_features=auto, max_depth=None\n",
      "3.320:  min_samples_leaf=150, n_estimators=50, min_samples_split=50, criterion=gini, max_features=auto, max_depth=None\n",
      "3.299:  min_samples_leaf=50, n_estimators=50, min_samples_split=50, criterion=entropy, max_features=10, max_depth=10\n",
      "3.294:  min_samples_leaf=50, n_estimators=100, min_samples_split=50, criterion=entropy, max_features=10, max_depth=10\n",
      "3.293:  min_samples_leaf=50, n_estimators=150, min_samples_split=50, criterion=entropy, max_features=10, max_depth=10\n",
      "3.276:  min_samples_leaf=50, n_estimators=150, min_samples_split=50, criterion=entropy, max_features=20, max_depth=10\n",
      "3.276:  min_samples_leaf=75, n_estimators=150, min_samples_split=50, criterion=gini, max_features=20, max_depth=10\n",
      "3.270:  min_samples_leaf=125, n_estimators=50, min_samples_split=50, criterion=entropy, max_features=auto, max_depth=10\n",
      "3.253:  min_samples_leaf=75, n_estimators=150, min_samples_split=50, criterion=gini, max_features=auto, max_depth=10\n",
      "3.246:  min_samples_leaf=50, n_estimators=150, min_samples_split=50, criterion=gini, max_features=10, max_depth=10\n",
      "3.226:  min_samples_leaf=50, n_estimators=100, min_samples_split=50, criterion=entropy, max_features=auto, max_depth=10"
     ]
    },
    {
     "cell_type": "code",
     "collapsed": false,
     "input": [],
     "language": "python",
     "metadata": {},
     "outputs": []
    }
   ],
   "metadata": {}
  }
 ]
}