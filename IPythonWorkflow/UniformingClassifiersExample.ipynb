{
 "metadata": {
  "name": ""
 },
 "nbformat": 3,
 "nbformat_minor": 0,
 "worksheets": [
  {
   "cells": [
    {
     "cell_type": "markdown",
     "metadata": {},
     "source": [
      "#About this example\n",
      "Here we show some characteristics of classifiers that are trying to generate predictions uniform in some specific variables (mass for instance)\n",
      "\n",
      "This IPython notebook relies only on python libraries, so no need in ROOT"
     ]
    },
    {
     "cell_type": "code",
     "collapsed": false,
     "input": [
      "from NotebookHelper import execute_notebook\n",
      "# including everything from other notebook\n",
      "execute_notebook(\"CommonUtils.ipynb\")\n",
      "execute_notebook(\"UniformerClassifier.ipynb\")\n",
      "execute_notebook(\"uBoostClassifier.ipynb\")"
     ],
     "language": "python",
     "metadata": {},
     "outputs": [
      {
       "output_type": "stream",
       "stream": "stdout",
       "text": [
        "quantiles are ok\n",
        "Correction function is ok\n",
        "EfficiencyPlotData functions are ok"
       ]
      },
      {
       "output_type": "stream",
       "stream": "stdout",
       "text": [
        "\n",
        "binner is ok"
       ]
      },
      {
       "output_type": "stream",
       "stream": "stdout",
       "text": [
        "\n",
        "uniformer classifier is ok"
       ]
      },
      {
       "output_type": "stream",
       "stream": "stdout",
       "text": [
        "\n"
       ]
      }
     ],
     "prompt_number": 24
    },
    {
     "cell_type": "code",
     "collapsed": false,
     "input": [
      "import pandas, numpy\n",
      "from sklearn.ensemble import GradientBoostingClassifier"
     ],
     "language": "python",
     "metadata": {},
     "outputs": [],
     "prompt_number": 6
    },
    {
     "cell_type": "code",
     "collapsed": false,
     "input": [
      "def GenerateSample(size, featuresNumber, distance = 2.0):\n",
      "    \"\"\"\n",
      "    Generates some test distribution, \n",
      "    signal and background distributions are gaussian with same dispersion and different centers,\n",
      "    all variables are independent (gaussian correlation matrix is identity)\n",
      "    \"\"\"\n",
      "    X = numpy.zeros((size, featuresNumber))\n",
      "    y = numpy.zeros(size)\n",
      "    for i in range(size):\n",
      "        if i % 2 == 0: \n",
      "            y[i] = 0\n",
      "            X[i,:] = numpy.random.normal(-distance / 2, 1, featuresNumber)\n",
      "        else:\n",
      "            y[i] = 1\n",
      "            X[i,:] = numpy.random.normal(distance / 2, 1, featuresNumber)\n",
      "    columns = [\"column\" + str(x) for x in range(featuresNumber)]\n",
      "    X = pandas.DataFrame(X, columns = columns)\n",
      "    return X, y"
     ],
     "language": "python",
     "metadata": {},
     "outputs": [],
     "prompt_number": 3
    },
    {
     "cell_type": "code",
     "collapsed": false,
     "input": [
      "class LDAOnSelectedFeatures(LDA):\n",
      "    \"\"\"This is LDA, which uses unly subset of features in dataframe\n",
      "    Remind: features == branches == variables\n",
      "    \"\"\"\n",
      "    def __init__(self, selectedFeatures):\n",
      "        \"\"\"SelectedFeatures - list of features to use in fit/predict\"\"\"\n",
      "        self.selectedFeatures = selectedFeatures\n",
      "        LDA.__init__(self)\n",
      "    def fit(self, X, y):\n",
      "        return LDA.fit(self, X[self.selectedFeatures],y)\n",
      "    def predict(self, X):\n",
      "        return LDA.predict(self, X[self.selectedFeatures])\n",
      "    def predict_proba(self, X):\n",
      "        return LDA.predict_proba(self, X[self.selectedFeatures])    \n",
      "    def get_params(self, deep = True):\n",
      "        # result = LDA.get_params(self)\n",
      "        result = {}\n",
      "        result['selectedFeatures'] = self.selectedFeatures\n",
      "        return result"
     ],
     "language": "python",
     "metadata": {},
     "outputs": [],
     "prompt_number": 4
    },
    {
     "cell_type": "code",
     "collapsed": false,
     "input": [
      "# Generating some samples correlated with first variable \n",
      "testX, testY = GenerateSample(5000, 10, 0.6)\n",
      "trainX, trainY = GenerateSample(5000, 10, 0.6)\n",
      "\n",
      "# We will try to get uniform distribution along this variable\n",
      "uniformVariables = ['column0']\n",
      "# This is list of all other variables\n",
      "otherVariables = testX.columns[1:]\n",
      "\n",
      "# number of trees to build\n",
      "n_estimators = 100\n",
      "\n",
      "classifiers = {}\n",
      "classifiers['ideal']   = LDA()\n",
      "classifiers['uniformIdeal'] = LDAOnSelectedFeatures(selectedFeatures=otherVariables)\n",
      "classifiers['usual']    = GradientBoostingClassifier(n_estimators=n_estimators)\n",
      "classifiers['uboostDT'] = uBoostBDT(uniformVariables=uniformVariables, n_estimators=n_estimators, \\\n",
      "                                    base_estimator=DecisionTreeClassifier(min_samples_leaf=10, max_depth=10) )\n",
      "# classifiers['unifNew']  = uniformerBDT(uniformVariables = uniformVariables, n_estimators = n_estimators)\n",
      "# classifiers['unifOld']  = UniformerClassifier(baseClassifier = GradientBoostingClassifier(n_estimators=n_estimators),\n",
      "#                               uniformVariables=uniformVariables)\n",
      "\n",
      "probasDict = {}\n",
      "for name, classifier in classifiers.iteritems():\n",
      "    classifier.fit(trainX, trainY)\n",
      "    probasDict[name] = classifier.predict_proba(testX)\n"
     ],
     "language": "python",
     "metadata": {},
     "outputs": [
      {
       "output_type": "stream",
       "stream": "stdout",
       "text": [
        "iteration 0\n",
        "beta 1.90394584225 eprime 0.129662534357\n",
        "sample_weight [  1.69030851e-04   3.92232270e-05   6.32455532e-07 ...,   1.08627805e-03\n",
        "   2.73861279e-04   1.49071198e-04]\n",
        "y [ 0.  1.  0. ...,  1.  0.  1.]\n",
        "weight_sum 0.463784191824\n",
        "[ 0.    0.46  0.   ...,  0.41  0.    0.4 ]\n",
        "sample_weight [  1.69030851e-04   4.23270741e-05   6.32455532e-07 ...,   1.28931664e-03\n",
        "   2.73861279e-04   1.80335430e-04]\n",
        "iteration"
       ]
      },
      {
       "output_type": "stream",
       "stream": "stdout",
       "text": [
        " 1\n",
        "beta 1.1845015176 eprime 0.234243776932\n",
        "sample_weight [  1.12496583e-06   7.60483088e-05   9.07117671e-07 ...,   2.96999717e-03\n",
        "   1.68052505e-04   3.24005493e-04]\n",
        "y [ 0.  1.  0. ...,  1.  0.  1.]\n",
        "weight_sum 0.729696033262\n",
        "[ 0.    0.3   0.   ...,  0.42  0.    0.42]\n",
        "sample_weight [  1.12496583e-06   9.63771446e-05   9.07117671e-07 ...,   3.26520034e-03\n",
        "   1.68052505e-04   3.56210052e-04]\n",
        "iteration"
       ]
      },
      {
       "output_type": "stream",
       "stream": "stdout",
       "text": [
        " 2\n",
        "beta 1.25595001362 eprime 0.221671862611\n",
        "sample_weight [  1.70176026e-06   1.51967088e-04   3.61736633e-09 ...,   3.43248396e-03\n",
        "   5.64148964e-06   2.60118577e-04]\n",
        "y [ 0.  1.  0. ...,  1.  0.  1.]\n",
        "weight_sum 0.715089328201\n",
        "[ 0.    0.33  0.   ...,  0.38  0.    0.37]\n",
        "sample_weight [  1.70176026e-06   1.88137950e-04   3.61736633e-09 ...,   3.99082584e-03\n",
        "   5.64148964e-06   3.06252858e-04]\n",
        "iteration"
       ]
      },
      {
       "output_type": "stream",
       "stream": "stdout",
       "text": [
        " 3\n",
        "beta 0.980187778413 eprime 0.272854525906\n",
        "sample_weight [  3.24971379e-05   2.28673250e-04   4.20199422e-09 ...,   4.85067001e-03\n",
        "   8.09842156e-06   4.60005190e-04]\n",
        "y [ 0.  1.  0. ...,  1.  0.  1.]\n",
        "weight_sum 0.807366665209\n",
        "[ 1.    0.3   1.   ...,  0.34  1.    0.34]\n",
        "sample_weight [  3.24971379e-05   2.78197609e-04   4.20199422e-09 ...,   5.67429818e-03\n",
        "   8.09842156e-06   5.38112592e-04]\n",
        "iteration"
       ]
      },
      {
       "output_type": "stream",
       "stream": "stdout",
       "text": [
        " 4\n",
        "beta 1.68667380185 eprime 0.156213768543\n",
        "sample_weight [  1.80929124e-04   1.45395095e-04   2.33947721e-08 ...,   4.44556816e-04\n",
        "   6.07351044e-06   1.23696886e-04]\n",
        "y [ 0.  1.  0. ...,  1.  0.  1.]\n",
        "weight_sum 0.579445092375\n",
        "[ 1.    0.5   1.   ...,  0.49  1.    0.5 ]\n",
        "sample_weight [  1.80929124e-04   1.45395095e-04   2.33947721e-08 ...,   4.52118631e-04\n",
        "   6.07351044e-06   1.23696886e-04]\n",
        "iteration"
       ]
      },
      {
       "output_type": "stream",
       "stream": "stdout",
       "text": [
        " 5\n",
        "beta 1.47588639003 eprime 0.186049559964\n",
        "sample_weight [  2.32480446e-04   4.05221006e-05   7.72037321e-08 ...,   9.61693046e-04\n",
        "   5.44604578e-06   3.44747371e-05]\n",
        "y [ 0.  1.  0. ...,  1.  0.  1.]\n",
        "weight_sum 0.686274169973\n",
        "[ 0.    0.45  0.   ...,  0.46  0.    0.44]\n",
        "sample_weight [  2.32480446e-04   4.36254999e-05   7.72037321e-08 ...,   1.02017634e-03\n",
        "   5.44604578e-06   3.76668343e-05]\n",
        "iteration"
       ]
      },
      {
       "output_type": "stream",
       "stream": "stdout",
       "text": [
        " 6\n",
        "beta 1.6345397054 eprime 0.163209415797\n",
        "sample_weight [  9.97953453e-05   3.19731425e-05   3.48621911e-10 ...,   6.41314408e-04\n",
        "   4.30114628e-06   2.28314605e-05]\n",
        "y [ 0.  1.  0. ...,  1.  0.  1.]\n",
        "weight_sum 0.599858502697\n",
        "[ 0.    0.52  0.   ...,  0.48  0.    0.49]\n",
        "sample_weight [  9.97953453e-05   3.09448151e-05   3.48621911e-10 ...,   6.62625932e-04\n",
        "   4.30114628e-06   2.32077164e-05]\n",
        "iteration"
       ]
      },
      {
       "output_type": "stream",
       "stream": "stdout",
       "text": [
        " 7\n",
        "beta 1.8126076156 eprime 0.140323267033\n",
        "sample_weight [  3.03480814e-04   3.38111761e-05   1.30418436e-09 ...,   8.18076825e-05\n",
        "   3.65755678e-06   1.75465523e-05]\n",
        "y [ 0.  1.  0. ...,  1.  0.  1.]\n",
        "weight_sum 0.505667169052\n",
        "[ 1.    0.52  1.   ...,  0.67  1.    0.69]\n",
        "sample_weight [  3.03480814e-04   3.26073998e-05   1.30418436e-09 ...,   6.01131045e-05\n",
        "   3.65755678e-06   1.24343404e-05]\n",
        "iteration"
       ]
      },
      {
       "output_type": "stream",
       "stream": "stdout",
       "text": [
        " 8\n",
        "beta 1.67631671533 eprime 0.157583812719\n",
        "sample_weight [  2.99504551e-04   2.30467045e-05   1.02591820e-09 ...,   1.68827302e-04\n",
        "   1.67448924e-06   1.37300614e-05]\n",
        "y [ 0.  1.  0. ...,  1.  0.  1.]\n",
        "weight_sum 0.467741219251\n",
        "[ 0.    0.35  0.   ...,  0.35  0.    0.35]\n",
        "sample_weight [  2.99504551e-04   2.96354208e-05   1.02591820e-09 ...,   2.17092562e-04\n",
        "   1.67448924e-06   1.76552855e-05]\n",
        "iteration"
       ]
      },
      {
       "output_type": "stream",
       "stream": "stdout",
       "text": [
        " 9\n",
        "beta 1.64820335002 eprime 0.161351919825\n",
        "sample_weight [  5.74361106e-06   2.74917249e-05   1.20015220e-11 ...,   1.71060783e-03\n",
        "   3.68665593e-06   6.46394166e-05]\n",
        "y [ 0.  1.  0. ...,  1.  0.  1.]\n",
        "weight_sum 0.570268644759\n",
        "[ 0.    0.44  0.   ...,  0.37  0.    0.38]\n",
        "sample_weight [  5.74361106e-06   3.03494152e-05   1.20015220e-11 ...,   2.11936221e-03\n",
        "   3.68665593e-06   7.87760321e-05]\n",
        "iteration"
       ]
      },
      {
       "output_type": "stream",
       "stream": "stdout",
       "text": [
        " 10\n",
        "beta 1.42752263963 eprime 0.193484979178\n",
        "sample_weight [  8.90328631e-06   1.62440151e-07   3.20114043e-11 ...,   1.20965029e-03\n",
        "   1.18335295e-06   1.08063328e-05]\n",
        "y [ 0.  1.  0. ...,  1.  0.  1.]\n",
        "weight_sum 0.704001799201\n",
        "[ 0.    0.39  0.   ...,  0.57  0.    0.57]\n",
        "sample_weight [  8.90328631e-06   1.90059489e-07   3.20114043e-11 ...,   1.09461721e-03\n",
        "   1.18335295e-06   9.77869216e-06]\n",
        "iteration"
       ]
      },
      {
       "output_type": "stream",
       "stream": "stdout",
       "text": [
        " 11\n",
        "beta 1.841422954 eprime 0.136883089215\n",
        "sample_weight [  1.03369746e-05   6.63142264e-10   1.39726594e-13 ...,   7.14672464e-04\n",
        "   7.44323490e-07   4.26830179e-08]\n",
        "y [ 0.  1.  0. ...,  1.  0.  1.]\n",
        "weight_sum 0.478648194137\n",
        "[ 0.    0.6   0.   ...,  0.41  0.    0.41]\n",
        "sample_weight [  1.03369746e-05   5.51613295e-10   1.39726594e-13 ...,   8.43493682e-04\n",
        "   7.44323490e-07   5.03767218e-08]\n",
        "iteration"
       ]
      },
      {
       "output_type": "stream",
       "stream": "stdout",
       "text": [
        " 12\n",
        "beta 1.76675446159 eprime 0.145946407813\n",
        "sample_weight [  6.67462386e-06   1.20755232e-08   1.17773713e-12 ...,   4.79979411e-05\n",
        "   3.15517273e-06   1.68149470e-08]\n",
        "y [ 0.  1.  0. ...,  1.  0.  1.]\n",
        "weight_sum 0.466180807993\n",
        "[ 0.    0.48  0.   ...,  0.57  0.    0.55]\n",
        "sample_weight [  6.67462386e-06   1.25098410e-08   1.17773713e-12 ...,   4.24142887e-05\n",
        "   3.15517273e-06   1.53932711e-08]\n",
        "iteration"
       ]
      },
      {
       "output_type": "stream",
       "stream": "stdout",
       "text": [
        " 13\n",
        "beta 1.47860908707 eprime 0.185637600402\n",
        "sample_weight [  2.35708350e-06   8.28542903e-11   3.20009950e-12 ...,   6.24044678e-05\n",
        "   3.53562093e-05   2.26482377e-08]\n",
        "y [ 0.  1.  0. ...,  1.  0.  1.]\n",
        "weight_sum 0.568458977661\n",
        "[ 0.    0.42  0.   ...,  0.39  0.    0.38]\n",
        "sample_weight [  2.35708350e-06   9.32582245e-11   3.20009950e-12 ...,   7.34264240e-05\n",
        "   3.53562093e-05   2.70453512e-08]\n",
        "iteration"
       ]
      },
      {
       "output_type": "stream",
       "stream": "stdout",
       "text": [
        " 14\n",
        "beta 2.23048351301 eprime 0.0970462633141\n",
        "sample_weight [  6.20806132e-06   9.24496712e-11   4.36465270e-12 ...,   5.93372401e-05\n",
        "   3.78177744e-06   2.98700580e-07]\n",
        "y [ 0.  1.  0. ...,  1.  0.  1.]\n",
        "weight_sum 0.341471269223\n",
        "[ 0.    0.4   0.   ...,  0.43  0.    0.45]\n",
        "sample_weight [  6.20806132e-06   1.15551088e-10   4.36465270e-12 ...,   6.93642046e-05\n",
        "   3.78177744e-06   3.33941505e-07]\n",
        "iteration"
       ]
      },
      {
       "output_type": "stream",
       "stream": "stdout",
       "text": [
        " 15\n",
        "beta 1.68278068292 eprime 0.156727611626\n",
        "sample_weight [  5.43359891e-07   2.07136996e-10   9.95434038e-11 ...,   1.24342343e-04\n",
        "   4.77491020e-06   1.98713138e-05]\n",
        "y [ 0.  1.  0. ...,  1.  0.  1.]\n",
        "weight_sum 0.583804592742\n",
        "[ 0.    0.53  0.   ...,  0.5   0.    0.5 ]\n",
        "sample_weight [  5.43359891e-07   1.96939578e-10   9.95434038e-11 ...,   1.24342343e-04\n",
        "   4.77491020e-06   1.98713138e-05]\n",
        "iteration"
       ]
      },
      {
       "output_type": "stream",
       "stream": "stdout",
       "text": [
        " 16\n",
        "beta 1.56464750764 eprime 0.172980771085\n",
        "sample_weight [  7.39880896e-07   1.26220819e-10   7.50967285e-11 ...,   2.17465741e-05\n",
        "   3.60224908e-06   3.96690265e-05]\n",
        "y [ 0.  1.  0. ...,  1.  0.  1.]\n",
        "weight_sum 0.587788747746\n",
        "[ 0.    0.36  0.   ...,  0.38  0.    0.39]\n",
        "sample_weight [  7.39880896e-07   1.57131582e-10   7.50967285e-11 ...,   2.62381362e-05\n",
        "   3.60224908e-06   4.71192640e-05]\n",
        "iteration"
       ]
      },
      {
       "output_type": "stream",
       "stream": "stdout",
       "text": [
        " 17\n",
        "beta 2.47159934875 eprime 0.0778733098383\n",
        "sample_weight [  5.56959671e-05   2.36970535e-11   1.24634939e-09 ...,   1.47300266e-05\n",
        "   9.00083781e-05   6.82475265e-04]\n",
        "y [ 0.  1.  0. ...,  1.  0.  1.]\n",
        "weight_sum 0.282697996707\n",
        "[ 1.    0.46  1.   ...,  0.54  1.    0.55]\n",
        "sample_weight [  5.56959671e-05   2.61595596e-11   1.24634939e-09 ...,   1.33434291e-05\n",
        "   9.00083781e-05   6.03138175e-04]\n",
        "iteration"
       ]
      },
      {
       "output_type": "stream",
       "stream": "stdout",
       "text": [
        " 18\n",
        "beta 1.74603094966 eprime 0.148548510911\n",
        "sample_weight [  1.66522225e-04   1.36968411e-12   8.55111178e-10 ...,   3.37117763e-05\n",
        "   6.25397173e-05   7.46405214e-05]\n",
        "y [ 0.  1.  0. ...,  1.  0.  1.]\n",
        "weight_sum 0.48589980054\n",
        "[ 0.    0.67  0.   ...,  0.44  0.    0.44]\n",
        "sample_weight [  1.66522225e-04   1.01791343e-12   8.55111178e-10 ...,   3.74351117e-05\n",
        "   6.25397173e-05   8.28842784e-05]\n",
        "iteration"
       ]
      },
      {
       "output_type": "stream",
       "stream": "stdout",
       "text": [
        " 19\n",
        "beta 1.67792108676 eprime 0.157370947545\n",
        "sample_weight [  6.23634110e-04   9.88667447e-13   9.41430871e-09 ...,   2.26913105e-05\n",
        "   1.05104648e-04   1.52973024e-04]\n",
        "y [ 0.  1.  0. ...,  1.  0.  1.]\n",
        "weight_sum 0.553104081251\n",
        "[ 0.    0.36  0.   ...,  0.44  0.    0.42]\n",
        "sample_weight [  6.23634110e-04   1.25046027e-12   9.41430871e-09 ...,   2.50947163e-05\n",
        "   1.05104648e-04   1.74949136e-04]\n",
        "iteration"
       ]
      },
      {
       "output_type": "stream",
       "stream": "stdout",
       "text": [
        " 20\n",
        "beta 1.9725412387 eprime 0.122116194585\n",
        "sample_weight [  3.38058146e-06   6.19641856e-13   1.40739170e-09 ...,   1.39747395e-05\n",
        "   5.57037058e-05   4.08632264e-05]\n",
        "y [ 0.  1.  0. ...,  1.  0.  1.]\n",
        "weight_sum 0.439838311064\n",
        "[ 0.    0.52  0.   ...,  0.56  0.    0.55]\n",
        "sample_weight [  3.38058146e-06   5.95672390e-13   1.40739170e-09 ...,   1.24149191e-05\n",
        "   5.57037058e-05   3.70253749e-05]\n",
        "iteration"
       ]
      },
      {
       "output_type": "stream",
       "stream": "stdout",
       "text": [
        " 21\n",
        "beta 1.97547897635 eprime 0.121801607315\n",
        "sample_weight [  7.83452263e-09   4.80086861e-15   1.53277012e-09 ...,   1.40984535e-04\n",
        "   1.36023478e-04   2.30630020e-04]\n",
        "y [ 0.  1.  0. ...,  1.  0.  1.]\n",
        "weight_sum 0.442067697926\n",
        "[ 0.    0.51  0.   ...,  0.4   0.    0.44]\n",
        "sample_weight [  7.83452263e-09   4.70695909e-15   1.53277012e-09 ...,   1.71777168e-04\n",
        "   1.36023478e-04   2.59652324e-04]\n",
        "iteration"
       ]
      },
      {
       "output_type": "stream",
       "stream": "stdout",
       "text": [
        " 22\n",
        "beta 1.84138280716 eprime 0.136887832477\n",
        "sample_weight [  5.41236078e-11   1.51697412e-15   8.60510401e-09 ...,   6.37533652e-04\n",
        "   5.46296765e-04   8.39157740e-04]\n",
        "y [ 0.  1.  0. ...,  1.  0.  1.]\n",
        "weight_sum 0.4538980184\n",
        "[ 0.    0.54  0.   ...,  0.35  0.    0.35]\n",
        "sample_weight [  5.41236078e-11   1.40925660e-15   8.60510401e-09 ...,   8.40346649e-04\n",
        "   5.46296765e-04   1.10611164e-03]\n",
        "iteration"
       ]
      },
      {
       "output_type": "stream",
       "stream": "stdout",
       "text": [
        " 23\n",
        "beta 2.23126796791 eprime 0.0969775446011\n",
        "sample_weight [  3.92991214e-10   9.75930781e-15   5.53965057e-11 ...,   4.79639414e-04\n",
        "   4.75147622e-05   7.12074135e-06]\n",
        "y [ 0.  1.  0. ...,  1.  0.  1.]\n",
        "weight_sum 0.343321144657\n",
        "[ 1.    0.4   1.   ...,  0.54  1.    0.56]\n",
        "sample_weight [  3.92991214e-10   1.21989304e-14   5.53965057e-11 ...,   4.38685994e-04\n",
        "   4.75147622e-05   6.22850143e-06]\n",
        "iteration"
       ]
      },
      {
       "output_type": "stream",
       "stream": "stdout",
       "text": [
        " 24\n",
        "beta 1.52865350224 eprime 0.178190779904\n",
        "sample_weight [  7.94258820e-09   2.33736782e-14   5.87367886e-10 ...,   4.52399537e-04\n",
        "   2.54616367e-06   1.19340781e-05]\n",
        "y [ 0.  1.  0. ...,  1.  0.  1.]\n",
        "weight_sum 0.624556825993\n",
        "[ 1.    0.57  1.   ...,  0.48  1.    0.45]\n",
        "sample_weight [  7.94258820e-09   2.10017293e-14   5.87367886e-10 ...,   4.66444383e-04\n",
        "   2.54616367e-06   1.28819962e-05]\n",
        "iteration"
       ]
      },
      {
       "output_type": "stream",
       "stream": "stdout",
       "text": [
        " 25\n",
        "beta 1.87765317407 eprime 0.132658667435\n",
        "sample_weight [  3.71304881e-07   1.83484524e-16   2.83589090e-12 ...,   3.98631510e-04\n",
        "   6.81968380e-06   1.12545348e-07]\n",
        "y [ 0.  1.  0. ...,  1.  0.  1.]\n",
        "weight_sum 0.477800957915\n",
        "[ 1.    0.41  1.   ...,  0.61  1.    0.59]\n",
        "sample_weight [  3.71304881e-07   2.17265283e-16   2.83589090e-12 ...,   3.24243769e-04\n",
        "   6.81968380e-06   9.50466144e-08]\n",
        "iteration"
       ]
      },
      {
       "output_type": "stream",
       "stream": "stdout",
       "text": [
        " 26\n",
        "beta 2.28721779597 eprime 0.0921871248211\n",
        "sample_weight [  1.39930667e-06   8.20999826e-16   5.72500042e-12 ...,   2.41504726e-05\n",
        "   7.79964709e-05   1.69898684e-07]\n",
        "y [ 0.  1.  0. ...,  1.  0.  1.]\n",
        "weight_sum 0.305103696618\n",
        "[ 0.    0.55  0.   ...,  0.36  0.    0.34]\n",
        "sample_weight [  1.39930667e-06   7.32279307e-16   5.72500042e-12 ...,   3.32652877e-05\n",
        "   7.79964709e-05   2.44975237e-07]\n",
        "iteration"
       ]
      },
      {
       "output_type": "stream",
       "stream": "stdout",
       "text": [
        " 27\n",
        "beta 2.44252283366 eprime 0.0799870622011\n",
        "sample_weight [  4.46911221e-06   1.43677959e-12   9.26986917e-11 ...,   1.03655127e-04\n",
        "   1.26291184e-03   9.64269582e-05]\n",
        "y [ 0.  1.  0. ...,  1.  0.  1.]\n",
        "weight_sum 0.287801547977\n",
        "[ 0.    0.45  0.   ...,  0.48  0.    0.47]\n",
        "sample_weight [  4.46911221e-06   1.62341240e-12   9.26986917e-11 ...,   1.08844446e-04\n",
        "   1.26291184e-03   1.03758024e-04]\n",
        "iteration"
       ]
      },
      {
       "output_type": "stream",
       "stream": "stdout",
       "text": [
        " 28\n",
        "beta 1.63668464353 eprime 0.162916688664\n",
        "sample_weight [  9.37118961e-09   4.66870257e-13   5.98949266e-10 ...,   4.61540717e-04\n",
        "   3.39551165e-03   4.39972407e-04]\n",
        "y [ 0.  1.  0. ...,  1.  0.  1.]\n",
        "weight_sum 0.581419228315\n",
        "[ 0.    0.56  0.   ...,  0.5   0.    0.49]\n",
        "sample_weight [  9.37118961e-09   4.23202301e-13   5.98949266e-10 ...,   4.61540717e-04\n",
        "   3.39551165e-03   4.47232619e-04]\n",
        "iteration"
       ]
      },
      {
       "output_type": "stream",
       "stream": "stdout",
       "text": [
        " 29\n",
        "beta 1.86613958095 eprime 0.133989037431\n",
        "sample_weight [  1.49237546e-08   7.80361211e-13   7.43861542e-10 ...,   6.02017541e-04\n",
        "   1.35168052e-03   8.37181278e-05]\n",
        "y [ 0.  1.  0. ...,  1.  0.  1.]\n",
        "weight_sum 0.483027349338\n",
        "[ 0.    0.48  0.   ...,  0.53  0.    0.54]\n",
        "sample_weight [  1.49237546e-08   8.10036813e-13   7.43861542e-10 ...,   5.69240147e-04\n",
        "   1.35168052e-03   7.76964798e-05]\n",
        "iteration"
       ]
      },
      {
       "output_type": "stream",
       "stream": "stdout",
       "text": [
        " 30\n",
        "beta 1.73054703286 eprime 0.150517621621\n",
        "sample_weight [  1.20043892e-08   4.59922510e-13   1.13311223e-09 ...,   5.09970869e-04\n",
        "   1.55256192e-03   1.10743555e-04]\n",
        "y [ 0.  1.  0. ...,  1.  0.  1.]\n",
        "weight_sum 0.545602814254\n",
        "[ 0.    0.47  0.   ...,  0.42  0.    0.45]\n",
        "sample_weight [  1.20043892e-08   4.84430721e-13   1.13311223e-09 ...,   5.85693941e-04\n",
        "   1.55256192e-03   1.20752689e-04]\n",
        "iteration"
       ]
      },
      {
       "output_type": "stream",
       "stream": "stdout",
       "text": [
        " 31\n",
        "beta 1.89098468332 eprime 0.131132237239\n",
        "sample_weight [  9.69254940e-09   9.43922078e-13   1.92372287e-09 ...,   1.98170737e-03\n",
        "   5.34992365e-04   1.05742909e-05]\n",
        "y [ 0.  1.  0. ...,  1.  0.  1.]\n",
        "weight_sum 0.420865871028\n",
        "[ 0.    0.23  0.   ...,  0.58  0.    0.55]\n",
        "sample_weight [  9.69254940e-09   1.57279486e-12   1.92372287e-09 ...,   1.70349156e-03\n",
        "   5.34992365e-04   9.62030948e-06]\n",
        "iteration"
       ]
      },
      {
       "output_type": "stream",
       "stream": "stdout",
       "text": [
        " 32\n",
        "beta 1.95588872676 eprime 0.123912670835\n",
        "sample_weight [  4.98096551e-07   5.03867414e-14   2.46842249e-09 ...,   7.27911038e-04\n",
        "   6.40418448e-05   7.61262548e-06]\n",
        "y [ 0.  1.  0. ...,  1.  0.  1.]\n",
        "weight_sum 0.416793569511\n",
        "[ 1.    0.71  1.   ...,  0.43  1.    0.45]\n",
        "sample_weight [  4.98096551e-07   3.34145502e-14   2.46842249e-09 ...,   8.34715585e-04\n",
        "   6.40418448e-05   8.39471677e-06]\n",
        "iteration"
       ]
      },
      {
       "output_type": "stream",
       "stream": "stdout",
       "text": [
        " 33\n",
        "beta 1.5246828087 eprime 0.178772986785\n",
        "sample_weight [  6.68518793e-07   8.16107701e-14   1.24134277e-09 ...,   9.72269238e-04\n",
        "   1.57665981e-04   4.02065596e-05]\n",
        "y [ 0.  1.  0. ...,  1.  0.  1.]\n",
        "weight_sum 0.647499578262\n",
        "[ 0.    0.46  0.   ...,  0.48  0.    0.47]\n",
        "sample_weight [  6.68518793e-07   8.67428984e-14   1.24134277e-09 ...,   1.00237395e-03\n",
        "   1.57665981e-04   4.20883357e-05]\n",
        "iteration"
       ]
      },
      {
       "output_type": "stream",
       "stream": "stdout",
       "text": [
        " 34\n",
        "beta 1.94934981009 eprime 0.124624272086\n",
        "sample_weight [  1.86839414e-06   4.96596363e-15   3.42772393e-11 ...,   1.25708377e-03\n",
        "   7.54401555e-07   2.72672313e-07]\n",
        "y [ 0.  1.  0. ...,  1.  0.  1.]\n",
        "weight_sum 0.443438624577\n",
        "[ 0.    0.38  0.   ...,  0.53  0.    0.53]\n",
        "sample_weight [  1.86839414e-06   6.27472300e-15   3.42772393e-11 ...,   1.18567718e-03\n",
        "   7.54401555e-07   2.57183609e-07]\n",
        "iteration"
       ]
      },
      {
       "output_type": "stream",
       "stream": "stdout",
       "text": [
        " 35\n",
        "beta 2.19631906889 eprime 0.100081525283\n",
        "sample_weight [  8.86760779e-07   1.25070194e-15   2.36447750e-13 ...,   2.21530257e-03\n",
        "   1.79845416e-06   2.21337079e-07]\n",
        "y [ 0.  1.  0. ...,  1.  0.  1.]\n",
        "weight_sum 0.343798624345\n",
        "[ 0.    0.37  0.   ...,  0.4   0.    0.41]\n",
        "sample_weight [  8.86760779e-07   1.66400347e-15   2.36447750e-13 ...,   2.75942107e-03\n",
        "   1.79845416e-06   2.69712210e-07]\n",
        "iteration"
       ]
      },
      {
       "output_type": "stream",
       "stream": "stdout",
       "text": [
        " 36\n",
        "beta 2.18942642843 eprime 0.100704025874\n",
        "sample_weight [  1.43194422e-08   1.24791013e-15   1.99235880e-15 ...,   2.42835399e-03\n",
        "   2.90975053e-05   1.34941031e-06]\n",
        "y [ 0.  1.  0. ...,  1.  0.  1.]\n",
        "weight_sum 0.353906771978\n",
        "[ 0.    0.52  0.   ...,  0.54  0.    0.55]\n",
        "sample_weight [  1.43194422e-08   1.19444510e-15   1.99235880e-15 ...,   2.22473231e-03\n",
        "   2.90975053e-05   1.20948708e-06]\n",
        "iteration"
       ]
      },
      {
       "output_type": "stream",
       "stream": "stdout",
       "text": [
        " 37\n",
        "beta 2.03966069567 eprime 0.11510128669\n",
        "sample_weight [  1.16510671e-10   1.06338396e-17   2.79138266e-15 ...,   1.34616888e-03\n",
        "   2.54449801e-04   5.25936190e-06]\n",
        "y [ 0.  1.  0. ...,  1.  0.  1.]\n",
        "weight_sum 0.42666290312\n",
        "[ 0.    0.51  0.   ...,  0.46  0.    0.46]\n",
        "sample_weight [  1.16510671e-10   1.04191423e-17   2.79138266e-15 ...,   1.46060264e-03\n",
        "   2.54449801e-04   5.70644441e-06]\n",
        "iteration"
       ]
      },
      {
       "output_type": "stream",
       "stream": "stdout",
       "text": [
        " 38\n",
        "beta 1.77434799174 eprime 0.145002446636\n",
        "sample_weight [  2.79527907e-09   1.57794532e-15   5.34083754e-15 ...,   1.48012252e-03\n",
        "   4.86846561e-04   4.70167374e-06]\n",
        "y [ 0.  1.  0. ...,  1.  0.  1.]\n",
        "weight_sum 0.434001350492\n",
        "[ 1.    0.65  1.   ...,  0.37  1.    0.37]\n",
        "sample_weight [  2.79527907e-09   1.20921498e-15   5.34083754e-15 ...,   1.86412189e-03\n",
        "   4.86846561e-04   5.92146450e-06]\n",
        "iteration"
       ]
      },
      {
       "output_type": "stream",
       "stream": "stdout",
       "text": [
        " 39\n",
        "beta 1.86378144584 eprime 0.134262902185\n",
        "sample_weight [  1.06338178e-08   4.62701022e-16   3.03681904e-15 ...,   2.01843799e-03\n",
        "   2.37076863e-04   1.38089122e-05]\n",
        "y [ 0.  1.  0. ...,  1.  0.  1.]\n",
        "weight_sum 0.462573936776\n",
        "[ 1.    0.47  1.   ...,  0.52  1.    0.52]\n",
        "sample_weight [  1.06338178e-08   4.89309175e-16   3.03681904e-15 ...,   1.94458447e-03\n",
        "   2.37076863e-04   1.33036518e-05]\n",
        "iteration"
       ]
      },
      {
       "output_type": "stream",
       "stream": "stdout",
       "text": [
        " 40\n",
        "beta 2.14151186213 eprime 0.105127075594\n",
        "sample_weight [  1.74036690e-08   3.32747766e-18   9.57566486e-16 ...,   1.86900669e-03\n",
        "   1.87668049e-04   5.09638275e-06]\n",
        "y [ 0.  1.  0. ...,  1.  0.  1.]\n",
        "weight_sum 0.363094510004\n",
        "[ 0.    0.58  0.   ...,  0.48  0.    0.45]\n",
        "sample_weight [  1.74036690e-08   2.80357001e-18   9.57566486e-16 ...,   1.95079570e-03\n",
        "   1.87668049e-04   5.67236771e-06]\n",
        "iteration"
       ]
      },
      {
       "output_type": "stream",
       "stream": "stdout",
       "text": [
        " 41\n",
        "beta 2.1337335567 eprime 0.105861073315\n",
        "sample_weight [  1.63952063e-07   1.73116385e-16   9.10243880e-16 ...,   3.84951511e-03\n",
        "   1.24409734e-03   6.00964643e-06]\n",
        "y [ 0.  1.  0. ...,  1.  0.  1.]\n",
        "weight_sum 0.389126740911\n",
        "[ 1.    0.61  1.   ...,  0.47  1.    0.5 ]\n",
        "sample_weight [  1.63952063e-07   1.36900368e-16   9.10243880e-16 ...,   4.10398808e-03\n",
        "   1.24409734e-03   6.00964643e-06]\n",
        "iteration"
       ]
      },
      {
       "output_type": "stream",
       "stream": "stdout",
       "text": [
        " 42\n",
        "beta 1.51635343601 eprime 0.179999122278\n",
        "sample_weight [  5.18398055e-06   2.83946041e-17   2.17427274e-15 ...,   7.61195694e-03\n",
        "   2.97173868e-03   1.64994835e-05]\n",
        "y [ 0.  1.  0. ...,  1.  0.  1.]\n",
        "weight_sum 0.664512446658\n",
        "[ 1.    0.51  1.   ...,  0.51  1.    0.49]\n",
        "sample_weight [  5.18398055e-06   2.79672895e-17   2.17427274e-15 ...,   7.49740348e-03\n",
        "   2.97173868e-03   1.67515805e-05]\n",
        "iteration"
       ]
      },
      {
       "output_type": "stream",
       "stream": "stdout",
       "text": [
        " 43\n",
        "beta 1.82357020471 eprime 0.139006027933\n",
        "sample_weight [  5.74533414e-07   2.73362722e-17   1.96470646e-15 ...,   1.90056768e-03\n",
        "   2.58371821e-03   2.29019889e-05]\n",
        "y [ 0.  1.  0. ...,  1.  0.  1.]\n",
        "weight_sum 0.478899969948\n",
        "[ 0.    0.56  0.   ...,  0.47  0.    0.48]\n",
        "sample_weight [  5.74533414e-07   2.45031152e-17   1.96470646e-15 ...,   2.00743889e-03\n",
        "   2.58371821e-03   2.37526752e-05]\n",
        "iteration"
       ]
      },
      {
       "output_type": "stream",
       "stream": "stdout",
       "text": [
        " 44\n",
        "beta 1.84695821893 eprime 0.136230432673\n",
        "sample_weight [  2.72620153e-06   8.39020173e-17   6.61585351e-13 ...,   4.81057361e-04\n",
        "   8.63768347e-04   1.46563890e-07]\n",
        "y [ 0.  1.  0. ...,  1.  0.  1.]\n",
        "weight_sum 0.44392014109\n",
        "[ 1.    0.35  1.   ...,  0.62  1.    0.62]\n",
        "sample_weight [  2.72620153e-06   1.10685560e-16   6.61585351e-13 ...,   3.85426892e-04\n",
        "   8.63768347e-04   1.17428126e-07]\n",
        "iteration"
       ]
      },
      {
       "output_type": "stream",
       "stream": "stdout",
       "text": [
        " 45\n",
        "beta 2.14123254108 eprime 0.105153355725\n",
        "sample_weight [  1.02895087e-04   7.65160450e-16   3.05523129e-13 ...,   3.75116604e-06\n",
        "   3.69052855e-04   2.70869574e-08]\n",
        "y [ 0.  1.  0. ...,  1.  0.  1.]\n",
        "weight_sum 0.378713704235\n",
        "[ 1.    0.39  1.   ...,  0.52  1.    0.52]\n",
        "sample_weight [  1.02895087e-04   9.68376666e-16   3.05523129e-13 ...,   3.59391481e-06\n",
        "   3.69052855e-04   2.59514552e-08]\n",
        "iteration"
       ]
      },
      {
       "output_type": "stream",
       "stream": "stdout",
       "text": [
        " 46\n",
        "beta 2.51356859347 eprime 0.0749124285078\n",
        "sample_weight [  2.13355305e-04   8.16661600e-18   1.08310883e-15 ...,   6.26322529e-05\n",
        "   2.35768675e-04   1.95915773e-07]\n",
        "y [ 0.  1.  0. ...,  1.  0.  1.]\n",
        "weight_sum 0.276641594855\n",
        "[ 0.    0.48  0.   ...,  0.48  0.    0.48]\n",
        "sample_weight [  2.13355305e-04   8.58765749e-18   1.08310883e-15 ...,   6.58613476e-05\n",
        "   2.35768675e-04   2.06016489e-07]\n",
        "iteration"
       ]
      },
      {
       "output_type": "stream",
       "stream": "stdout",
       "text": [
        " 47\n",
        "beta 2.10899356069 eprime 0.108225762893\n",
        "sample_weight [  1.67641152e-04   1.03722070e-17   9.05791973e-15 ...,   1.10008624e-04\n",
        "   2.28425477e-04   2.01530953e-07]\n",
        "y [ 0.  1.  0. ...,  1.  0.  1.]\n",
        "weight_sum 0.368933342292\n",
        "[ 0.    0.36  0.   ...,  0.51  0.    0.51]\n",
        "sample_weight [  1.67641152e-04   1.39347946e-17   9.05791973e-15 ...,   1.07712843e-04\n",
        "   2.28425477e-04   1.97325184e-07]\n",
        "iteration"
       ]
      },
      {
       "output_type": "stream",
       "stream": "stdout",
       "text": [
        " 48\n",
        "beta 1.82976375028 eprime 0.138266419642\n",
        "sample_weight [  3.72163072e-04   7.71125409e-17   2.67764003e-14 ...,   4.32381021e-05\n",
        "   1.59449076e-03   4.38331754e-07]\n",
        "y [ 0.  1.  0. ...,  1.  0.  1.]\n",
        "weight_sum 0.46501839762\n",
        "[ 0.    0.52  0.   ...,  0.41  0.    0.41]\n",
        "sample_weight [  3.72163072e-04   7.43415972e-17   2.67764003e-14 ...,   5.09783401e-05\n",
        "   1.59449076e-03   5.16799400e-07]\n",
        "iteration"
       ]
      },
      {
       "output_type": "stream",
       "stream": "stdout",
       "text": [
        " 49\n",
        "beta 2.5320440815 eprime 0.0736420799766\n",
        "sample_weight [  2.18962538e-05   2.26453656e-17   1.69507552e-16 ...,   3.09147602e-05\n",
        "   1.85319502e-04   7.18510192e-08]\n",
        "y [ 0.  1.  0. ...,  1.  0.  1.]\n",
        "weight_sum 0.26619784512\n",
        "[ 0.    0.41  0.   ...,  0.55  0.    0.56]\n",
        "sample_weight [  2.18962538e-05   2.84412111e-17   1.69507552e-16 ...,   2.72385035e-05\n",
        "   1.85319502e-04   6.17239580e-08]\n",
        "iteration"
       ]
      },
      {
       "output_type": "stream",
       "stream": "stdout",
       "text": [
        " 50\n",
        "beta 2.23711567689 eprime 0.0964666492773\n",
        "sample_weight [  2.04295216e-05   4.43276529e-16   7.64363833e-17 ...,   4.26046874e-05\n",
        "   8.54944420e-04   7.44322731e-10]\n",
        "y [ 0.  1.  0. ...,  1.  0.  1.]\n",
        "weight_sum 0.343529527883\n",
        "[ 0.    0.46  0.   ...,  0.53  0.    0.52]\n",
        "sample_weight [  2.04295216e-05   4.84771876e-16   7.64363833e-17 ...,   3.98391784e-05\n",
        "   8.54944420e-04   7.11754042e-10]\n",
        "iteration"
       ]
      },
      {
       "output_type": "stream",
       "stream": "stdout",
       "text": [
        " 51\n",
        "beta 1.99673315209 eprime 0.119546347014\n",
        "sample_weight [  1.23764321e-05   1.48918306e-16   2.37448676e-15 ...,   3.58993400e-04\n",
        "   1.31846345e-04   7.69040793e-09]\n",
        "y [ 0.  1.  0. ...,  1.  0.  1.]\n",
        "weight_sum 0.442345938633\n",
        "[ 0.    0.48  0.   ...,  0.47  0.    0.46]\n",
        "sample_weight [  1.23764321e-05   1.54985650e-16   2.37448676e-15 ...,   3.81154955e-04\n",
        "   1.31846345e-04   8.32983089e-09]\n",
        "iteration"
       ]
      },
      {
       "output_type": "stream",
       "stream": "stdout",
       "text": [
        " 52\n",
        "beta 2.39505048433 eprime 0.0835509013062\n",
        "sample_weight [  4.27335717e-05   6.82237199e-15   1.86048645e-14 ...,   6.79337195e-04\n",
        "   1.60249515e-04   3.56791214e-07]\n",
        "y [ 0.  1.  0. ...,  1.  0.  1.]\n",
        "weight_sum 0.291050804059\n",
        "[ 0.    0.48  0.   ...,  0.44  0.    0.44]\n",
        "sample_weight [  4.27335717e-05   7.15712397e-15   1.86048645e-14 ...,   7.84322775e-04\n",
        "   1.60249515e-04   4.11930153e-07]\n",
        "iteration"
       ]
      },
      {
       "output_type": "stream",
       "stream": "stdout",
       "text": [
        " 53\n",
        "beta 2.33537719076 eprime 0.0882351110992\n",
        "sample_weight [  4.32944318e-07   7.25105820e-17   7.32371245e-14 ...,   7.22076199e-06\n",
        "   1.79324331e-03   2.07482524e-06]\n",
        "y [ 0.  1.  0. ...,  1.  0.  1.]\n",
        "weight_sum 0.292675659282\n",
        "[ 0.    0.48  0.   ...,  0.42  0.    0.41]\n",
        "sample_weight [  4.32944318e-07   7.59777135e-17   7.32371245e-14 ...,   8.70406938e-06\n",
        "   1.79324331e-03   2.56013726e-06]\n",
        "iteration"
       ]
      },
      {
       "output_type": "stream",
       "stream": "stdout",
       "text": [
        " 54\n",
        "beta 2.04322857771 eprime 0.114738386016\n",
        "sample_weight [  4.19137417e-06   2.10865572e-16   6.96678232e-16 ...,   1.37580332e-04\n",
        "   8.49169638e-05   7.10530474e-06]\n",
        "y [ 0.  1.  0. ...,  1.  0.  1.]\n",
        "weight_sum 0.374732981494\n",
        "[ 1.    0.39  1.   ...,  0.51  1.    0.53]\n",
        "sample_weight [  4.19137417e-06   2.64007094e-16   6.96678232e-16 ...,   1.34797775e-04\n",
        "   8.49169638e-05   6.68285168e-06]\n",
        "iteration"
       ]
      },
      {
       "output_type": "stream",
       "stream": "stdout",
       "text": [
        " 55\n",
        "beta 1.8360533876 eprime 0.137518720407\n",
        "sample_weight [  2.67162204e-05   9.97516327e-17   5.49321238e-16 ...,   1.19483014e-04\n",
        "   6.07798751e-05   4.20578016e-05]\n",
        "y [ 0.  1.  0. ...,  1.  0.  1.]\n",
        "weight_sum 0.372906920165\n",
        "[ 0.    0.68  0.   ...,  0.26  0.    0.25]\n",
        "sample_weight [  2.67162204e-05   7.16787130e-17   5.49321238e-16 ...,   1.85643290e-04\n",
        "   6.07798751e-05   6.65569683e-05]\n",
        "iteration"
       ]
      },
      {
       "output_type": "stream",
       "stream": "stdout",
       "text": [
        " 56\n",
        "beta 2.04623233142 eprime 0.114433637167\n",
        "sample_weight [  2.65039115e-05   4.50267895e-17   3.28509409e-15 ...,   8.77439137e-04\n",
        "   2.54784588e-05   3.34509836e-05]\n",
        "y [ 0.  1.  0. ...,  1.  0.  1.]\n",
        "weight_sum 0.425520879734\n",
        "[ 0.    0.5   0.   ...,  0.48  0.    0.48]\n",
        "sample_weight [  2.65039115e-05   4.50267895e-17   3.28509409e-15 ...,   9.14092930e-04\n",
        "   2.54784588e-05   3.48483517e-05]\n",
        "iteration"
       ]
      },
      {
       "output_type": "stream",
       "stream": "stdout",
       "text": [
        " 57\n",
        "beta 2.09060957674 eprime 0.110012876487\n",
        "sample_weight [  1.29605388e-05   5.09624255e-17   3.46245049e-15 ...,   3.38467874e-04\n",
        "   1.28131336e-04   2.41519417e-04]\n",
        "y [ 0.  1.  0. ...,  1.  0.  1.]\n",
        "weight_sum 0.414692760204\n",
        "[ 0.    0.55  0.   ...,  0.48  0.    0.46]\n",
        "sample_weight [  1.29605388e-05   4.59042694e-17   3.46245049e-15 ...,   3.52919989e-04\n",
        "   1.28131336e-04   2.62584847e-04]\n",
        "iteration"
       ]
      },
      {
       "output_type": "stream",
       "stream": "stdout",
       "text": [
        " 58\n",
        "beta 2.25884968303 eprime 0.0945888382225\n",
        "sample_weight [  2.25856623e-06   1.52087108e-15   1.97776705e-20 ...,   1.38558651e-03\n",
        "   4.32264813e-04   1.73772725e-05]\n",
        "y [ 0.  1.  0. ...,  1.  0.  1.]\n",
        "weight_sum 0.322198385823\n",
        "[ 0.    0.54  0.   ...,  0.41  0.    0.39]\n",
        "sample_weight [  2.25856623e-06   1.38947956e-15   1.97776705e-20 ...,   1.69794720e-03\n",
        "   4.32264813e-04   2.22788242e-05]\n",
        "iteration"
       ]
      },
      {
       "output_type": "stream",
       "stream": "stdout",
       "text": [
        " 59\n",
        "beta 2.53176271553 eprime 0.0736612767634\n",
        "sample_weight [  3.13221601e-06   7.68150319e-15   1.03671841e-20 ...,   3.33675916e-04\n",
        "   1.87502116e-05   1.24259509e-06]\n",
        "y [ 0.  1.  0. ...,  1.  0.  1.]\n",
        "weight_sum 0.262044308949\n",
        "[ 0.    0.48  0.   ...,  0.47  0.    0.49]\n",
        "sample_weight [  3.13221601e-06   8.08047381e-15   1.03671841e-20 ...,   3.60006862e-04\n",
        "   1.87502116e-05   1.27445627e-06]\n",
        "iteration"
       ]
      },
      {
       "output_type": "stream",
       "stream": "stdout",
       "text": [
        " 60\n",
        "beta 1.9226387756 eprime 0.127567597418\n",
        "sample_weight [  1.38980963e-06   3.52422924e-14   6.45544817e-22 ...,   4.15589650e-04\n",
        "   4.68897845e-05   1.04330098e-06]\n",
        "y [ 0.  1.  0. ...,  1.  0.  1.]\n",
        "weight_sum 0.460696146616\n",
        "[ 0.    0.48  0.   ...,  0.56  0.    0.56]\n",
        "sample_weight [  1.38980963e-06   3.66238484e-14   6.45544817e-22 ...,   3.70309828e-04\n",
        "   4.68897845e-05   9.29630003e-07]\n",
        "iteration"
       ]
      },
      {
       "output_type": "stream",
       "stream": "stdout",
       "text": [
        " 61\n",
        "beta 2.04691567826 eprime 0.114364406012\n",
        "sample_weight [  7.31109410e-05   1.87744412e-14   2.16578305e-21 ...,   8.80423949e-05\n",
        "   6.48469476e-06   2.09212777e-06]\n",
        "y [ 0.  1.  0. ...,  1.  0.  1.]\n",
        "weight_sum 0.383570026712\n",
        "[ 1.    0.41  1.   ...,  0.37  1.    0.36]\n",
        "sample_weight [  7.31109410e-05   2.25721952e-14   2.16578305e-21 ...,   1.14883377e-04\n",
        "   6.48469476e-06   2.78639826e-06]\n",
        "iteration"
       ]
      },
      {
       "output_type": "stream",
       "stream": "stdout",
       "text": [
        " 62\n",
        "beta 2.02531421395 eprime 0.116570606912\n",
        "sample_weight [  6.02272653e-06   3.20554381e-15   5.13956626e-22 ...,   7.82332145e-05\n",
        "   2.83295835e-05   1.23201364e-05]\n",
        "y [ 0.  1.  0. ...,  1.  0.  1.]\n",
        "weight_sum 0.435368656888\n",
        "[ 0.    0.46  0.   ...,  0.44  0.    0.44]\n",
        "sample_weight [  6.02272653e-06   3.47604211e-15   5.13956626e-22 ...,   8.83417793e-05\n",
        "   2.83295835e-05   1.39120293e-05]\n",
        "iteration"
       ]
      },
      {
       "output_type": "stream",
       "stream": "stdout",
       "text": [
        " 63\n",
        "beta 2.35787900511 eprime 0.0864415413402\n",
        "sample_weight [  1.29303098e-04   2.48009154e-17   2.18141237e-22 ...,   3.60247925e-04\n",
        "   3.53955445e-04   3.06946816e-05]\n",
        "y [ 0.  1.  0. ...,  1.  0.  1.]\n",
        "weight_sum 0.306061223002\n",
        "[ 1.    0.55  1.   ...,  0.52  1.    0.53]\n",
        "sample_weight [  1.29303098e-04   2.20428131e-17   2.18141237e-22 ...,   3.43653848e-04\n",
        "   3.53955445e-04   2.85984646e-05]\n",
        "iteration"
       ]
      },
      {
       "output_type": "stream",
       "stream": "stdout",
       "text": [
        " 64\n",
        "beta 2.1160363144 eprime 0.107547919064\n",
        "sample_weight [  1.35392756e-04   1.17476703e-16   6.54559514e-22 ...,   6.35562021e-06\n",
        "   5.49901093e-04   4.40483204e-05]\n",
        "y [ 0.  1.  0. ...,  1.  0.  1.]\n",
        "weight_sum 0.386062570427\n",
        "[ 0.    0.46  0.   ...,  0.38  0.    0.4 ]\n",
        "sample_weight [  1.35392756e-04   1.27853042e-16   6.54559514e-22 ...,   8.19286662e-06\n",
        "   5.49901093e-04   5.44286600e-05]\n",
        "iteration"
       ]
      },
      {
       "output_type": "stream",
       "stream": "stdout",
       "text": [
        " 65\n",
        "beta 2.43018225986 eprime 0.0808999142267\n",
        "sample_weight [  1.42983813e-04   3.85036067e-22   9.65638603e-23 ...,   5.90991866e-06\n",
        "   4.44355922e-05   2.61111397e-06]\n",
        "y [ 0.  1.  0. ...,  1.  0.  1.]\n",
        "weight_sum 0.291016391607\n",
        "[ 0.    0.46  0.   ...,  0.51  0.    0.54]\n",
        "sample_weight [  1.42983813e-04   4.24343938e-22   9.65638603e-23 ...,   5.76802795e-06\n",
        "   4.44355922e-05   2.36924099e-06]\n",
        "iteration"
       ]
      },
      {
       "output_type": "stream",
       "stream": "stdout",
       "text": [
        " 66\n",
        "beta 1.54919256718 eprime 0.175202917143\n",
        "sample_weight [  1.22053538e-04   3.37619449e-21   2.06742289e-22 ...,   2.03600279e-05\n",
        "   5.94220142e-05   2.45430317e-05]\n",
        "y [ 0.  1.  0. ...,  1.  0.  1.]\n",
        "weight_sum 0.605799708572\n",
        "[ 0.    0.49  0.   ...,  0.36  0.    0.36]\n",
        "sample_weight [  1.22053538e-04   3.42890549e-21   2.06742289e-22 ...,   2.52913014e-05\n",
        "   5.94220142e-05   3.04874441e-05]\n",
        "iteration"
       ]
      },
      {
       "output_type": "stream",
       "stream": "stdout",
       "text": [
        " 67\n",
        "beta 1.95998196246 eprime 0.123468999653\n",
        "sample_weight [  7.00547808e-05   5.37513585e-22   1.52933638e-22 ...,   1.87434426e-05\n",
        "   6.60160852e-05   2.13336491e-05]\n",
        "y [ 0.  1.  0. ...,  1.  0.  1.]\n",
        "weight_sum 0.456925333685\n",
        "[ 0.    0.37  0.   ...,  0.6   0.    0.59]\n",
        "sample_weight [  7.00547808e-05   6.93500312e-22   1.52933638e-22 ...,   1.54073669e-05\n",
        "   6.60160852e-05   1.78836559e-05]\n",
        "iteration"
       ]
      },
      {
       "output_type": "stream",
       "stream": "stdout",
       "text": [
        " 68\n",
        "beta 2.10081429049 eprime 0.10901770166\n",
        "sample_weight [  8.69994621e-05   1.15279946e-25   6.33293838e-22 ...,   6.39778344e-05\n",
        "   2.96040197e-05   1.10231395e-05]\n",
        "y [ 0.  1.  0. ...,  1.  0.  1.]\n",
        "weight_sum 0.336304287434\n",
        "[ 0.    0.53  0.   ...,  0.33  0.    0.34]\n",
        "sample_weight [  8.69994621e-05   1.08238709e-25   6.33293838e-22 ...,   9.14392772e-05\n",
        "   2.96040197e-05   1.54271190e-05]\n",
        "iteration"
       ]
      },
      {
       "output_type": "stream",
       "stream": "stdout",
       "text": [
        " 69\n",
        "beta 2.33367943368 eprime 0.0883717906234\n",
        "sample_weight [  3.99321494e-05   1.64071545e-24   9.02493211e-21 ...,   4.64352034e-04\n",
        "   1.24211309e-04   5.14833846e-06]\n",
        "y [ 0.  1.  0. ...,  1.  0.  1.]\n",
        "weight_sum 0.314680905507\n",
        "[ 0.    0.4   0.   ...,  0.55  0.    0.54]\n",
        "sample_weight [  3.99321494e-05   2.07197102e-24   9.02493211e-21 ...,   4.13211259e-04\n",
        "   1.24211309e-04   4.68950417e-06]\n",
        "iteration"
       ]
      },
      {
       "output_type": "stream",
       "stream": "stdout",
       "text": [
        " 70\n",
        "beta 2.27217537853 eprime 0.093453750785\n",
        "sample_weight [  2.74479335e-06   1.88886690e-23   9.31927544e-23 ...,   5.89714468e-04\n",
        "   9.28042600e-04   3.56012463e-06]\n",
        "y [ 0.  1.  0. ...,  1.  0.  1.]\n",
        "weight_sum 0.332363643952\n",
        "[ 0.    0.45  0.   ...,  0.53  0.    0.53]\n",
        "sample_weight [  2.74479335e-06   2.11612354e-23   9.31927544e-23 ...,   5.50855876e-04\n",
        "   9.28042600e-04   3.32553409e-06]\n",
        "iteration"
       ]
      },
      {
       "output_type": "stream",
       "stream": "stdout",
       "text": [
        " 71\n",
        "beta 1.9478511625 eprime 0.124787856136\n",
        "sample_weight [  2.04347623e-05   4.04341261e-24   9.08704463e-23 ...,   1.53586557e-03\n",
        "   1.73564628e-04   9.27206830e-06]\n",
        "y [ 0.  1.  0. ...,  1.  0.  1.]\n",
        "weight_sum 0.446416437091\n",
        "[ 1.    0.36  1.   ...,  0.44  1.    0.46]\n",
        "sample_weight [  2.04347623e-05   5.31104281e-24   9.08704463e-23 ...,   1.72627374e-03\n",
        "   1.73564628e-04   1.00233815e-05]\n",
        "iteration"
       ]
      },
      {
       "output_type": "stream",
       "stream": "stdout",
       "text": [
        " 72\n",
        "beta 2.46955138927 eprime 0.0780204990718\n",
        "sample_weight [  1.25360983e-04   3.64023770e-26   4.46793500e-27 ...,   8.01332077e-04\n",
        "   1.36849474e-04   3.81510725e-05]\n",
        "y [ 0.  1.  0. ...,  1.  0.  1.]\n",
        "weight_sum 0.262412674049\n",
        "[ 0.    0.32  0.   ...,  0.36  0.    0.36]\n",
        "sample_weight [  1.25360983e-04   5.67782496e-26   4.46793500e-27 ...,   1.13230724e-03\n",
        "   1.36849474e-04   5.39086563e-05]\n",
        "iteration"
       ]
      },
      {
       "output_type": "stream",
       "stream": "stdout",
       "text": [
        " 73\n",
        "beta 2.64765103993 eprime 0.066133934057\n",
        "sample_weight [  1.76684367e-06   1.03197769e-23   4.74839748e-29 ...,   5.41225943e-04\n",
        "   1.45395177e-05   6.03142241e-06]\n",
        "y [ 0.  1.  0. ...,  1.  0.  1.]\n",
        "weight_sum 0.239090213828\n",
        "[ 0.    0.53  0.   ...,  0.5   0.    0.48]\n",
        "sample_weight [  1.76684367e-06   9.53179074e-24   4.74839748e-29 ...,   5.41225943e-04\n",
        "   1.45395177e-05   6.35941182e-06]\n",
        "iteration"
       ]
      },
      {
       "output_type": "stream",
       "stream": "stdout",
       "text": [
        " 74\n",
        "beta 1.76438911253 eprime 0.146241486218\n",
        "sample_weight [  1.10563457e-05   1.22857752e-25   1.08484192e-27 ...,   1.60448767e-03\n",
        "   3.92162545e-12   7.61857185e-11]\n",
        "y [ 0.  1.  0. ...,  1.  0.  1.]\n",
        "weight_sum 0.531046330874\n",
        "[ 0.    0.35  0.   ...,  0.56  0.    0.55]\n",
        "sample_weight [  1.10563457e-05   1.60081901e-25   1.08484192e-27 ...,   1.44331298e-03\n",
        "   3.92162545e-12   6.97525911e-11]\n",
        "iteration"
       ]
      },
      {
       "output_type": "stream",
       "stream": "stdout",
       "text": [
        " 75\n",
        "beta 2.57322438046 eprime 0.0708816605688\n",
        "sample_weight [  3.00527707e-04   1.09043737e-23   4.49105021e-26 ...,   5.35861875e-04\n",
        "   1.67325748e-13   1.14519627e-09]\n",
        "y [ 0.  1.  0. ...,  1.  0.  1.]\n",
        "weight_sum 0.25440961999\n",
        "[ 1.    0.45  1.   ...,  0.42  1.    0.42]\n",
        "sample_weight [  3.00527707e-04   1.24015961e-23   4.49105021e-26 ...,   6.58348471e-04\n",
        "   1.67325748e-13   1.40696371e-09]\n",
        "iteration"
       ]
      },
      {
       "output_type": "stream",
       "stream": "stdout",
       "text": [
        " 76\n",
        "beta 2.04406965394 eprime 0.114652982648\n",
        "sample_weight [  1.76229950e-03   2.89235017e-23   2.63355936e-25 ...,   1.82545378e-04\n",
        "   1.95239694e-13   3.89001030e-09]\n",
        "y [ 0.  1.  0. ...,  1.  0.  1.]\n",
        "weight_sum 0.412121103197\n",
        "[ 0.    0.43  0.   ...,  0.42  0.    0.43]\n",
        "sample_weight [  1.76229950e-03   3.33727383e-23   2.63355936e-25 ...,   2.14975562e-04\n",
        "   1.95239694e-13   4.48840175e-09]\n",
        "iteration"
       ]
      },
      {
       "output_type": "stream",
       "stream": "stdout",
       "text": [
        " 77\n",
        "beta 2.20179580779 eprime 0.0995893408617\n",
        "sample_weight [  1.08799209e-03   3.23606958e-23   7.84902818e-25 ...,   3.53952727e-04\n",
        "   1.18653489e-12   4.28434176e-08]\n",
        "y [ 0.  1.  0. ...,  1.  0.  1.]\n",
        "weight_sum 0.359074299171\n",
        "[ 0.    0.54  0.   ...,  0.48  0.    0.5 ]\n",
        "sample_weight [  1.08799209e-03   2.96325305e-23   7.84902818e-25 ...,   3.69887639e-04\n",
        "   1.18653489e-12   4.28434176e-08]\n",
        "iteration"
       ]
      },
      {
       "output_type": "stream",
       "stream": "stdout",
       "text": [
        " 78\n",
        "beta 2.13327604289 eprime 0.105904386869\n",
        "sample_weight [  1.58680367e-04   2.46361568e-23   2.52177369e-24 ...,   2.03633325e-04\n",
        "   4.15030174e-11   3.56195416e-08]\n",
        "y [ 0.  1.  0. ...,  1.  0.  1.]\n",
        "weight_sum 0.337582946429\n",
        "[ 0.    0.33  0.   ...,  0.31  0.    0.32]\n",
        "sample_weight [  1.58680367e-04   3.54056736e-23   2.52177369e-24 ...,   3.05406415e-04\n",
        "   4.15030174e-11   5.22941283e-08]\n",
        "iteration"
       ]
      },
      {
       "output_type": "stream",
       "stream": "stdout",
       "text": [
        " 79\n",
        "beta 2.75262221561 eprime 0.0599387280039\n",
        "sample_weight [  2.81842115e-05   1.69062475e-23   8.32233006e-27 ...,   1.00259744e-04\n",
        "   3.48031184e-10   3.19449258e-05]\n",
        "y [ 0.  1.  0. ...,  1.  0.  1.]\n",
        "weight_sum 0.217918377754\n",
        "[ 0.    0.48  0.   ...,  0.49  0.    0.49]\n",
        "sample_weight [  2.81842115e-05   1.78630739e-23   8.32233006e-27 ...,   1.03057850e-04\n",
        "   3.48031184e-10   3.28364629e-05]\n",
        "iteration"
       ]
      },
      {
       "output_type": "stream",
       "stream": "stdout",
       "text": [
        " 80\n",
        "beta 2.13657901233 eprime 0.10559204002\n",
        "sample_weight [  2.00516669e-04   1.98201612e-23   3.24196803e-28 ...,   1.04540341e-03\n",
        "   1.63318964e-07   8.89311147e-05]\n",
        "y [ 0.  1.  0. ...,  1.  0.  1.]\n",
        "weight_sum 0.367652485955\n",
        "[ 0.    0.39  0.   ...,  0.38  0.    0.37]\n",
        "sample_weight [  2.00516669e-04   2.50712896e-23   3.24196803e-28 ...,   1.35092876e-03\n",
        "   1.63318964e-07   1.17403574e-04]\n",
        "iteration"
       ]
      },
      {
       "output_type": "stream",
       "stream": "stdout",
       "text": [
        " 81\n",
        "beta 1.88223605371 eprime 0.13213224686\n",
        "sample_weight [  4.79260060e-05   2.24546159e-23   2.41827884e-27 ...,   1.20993323e-03\n",
        "   1.21824396e-06   9.91510590e-05]\n",
        "y [ 0.  1.  0. ...,  1.  0.  1.]\n",
        "weight_sum 0.42453477374\n",
        "[ 0.    0.36  0.   ...,  0.52  0.    0.52]\n",
        "sample_weight [  4.79260060e-05   2.92245541e-23   2.41827884e-27 ...,   1.16523229e-03\n",
        "   1.21824396e-06   9.54879264e-05]\n",
        "iteration"
       ]
      },
      {
       "output_type": "stream",
       "stream": "stdout",
       "text": [
        " 82\n",
        "beta 2.2140483221 eprime 0.0984960194782\n",
        "sample_weight [  7.13950876e-04   3.41787147e-23   9.06840142e-27 ...,   1.39215793e-03\n",
        "   8.91932627e-07   1.29871198e-04]\n",
        "y [ 0.  1.  0. ...,  1.  0.  1.]\n",
        "weight_sum 0.351119779025\n",
        "[ 1.    0.41  1.   ...,  0.51  1.    0.53]\n",
        "sample_weight [  7.13950876e-04   4.17152773e-23   9.06840142e-27 ...,   1.36167360e-03\n",
        "   8.91932627e-07   1.21525209e-04]\n",
        "iteration"
       ]
      },
      {
       "output_type": "stream",
       "stream": "stdout",
       "text": [
        " 83\n",
        "beta 1.9414021612 eprime 0.125493895263\n",
        "sample_weight [  1.02719410e-04   7.42100839e-26   1.81219945e-26 ...,   2.89287807e-03\n",
        "   1.78240876e-06   5.16199290e-04]\n",
        "y [ 0.  1.  0. ...,  1.  0.  1.]\n",
        "weight_sum 0.409088004946\n",
        "[ 0.    0.64  0.   ...,  0.41  0.    0.39]\n",
        "sample_weight [  1.02719410e-04   5.65487863e-26   1.81219945e-26 ...,   3.44518661e-03\n",
        "   1.78240876e-06   6.39091189e-04]\n",
        "iteration"
       ]
      },
      {
       "output_type": "stream",
       "stream": "stdout",
       "text": [
        " 84\n",
        "beta 2.35882203828 eprime 0.0863670996132\n",
        "sample_weight [  3.39502828e-04   3.83781730e-26   1.27876469e-28 ...,   4.42761704e-05\n",
        "   2.49182491e-06   1.08999226e-03]\n",
        "y [ 0.  1.  0. ...,  1.  0.  1.]\n",
        "weight_sum 0.294083499683\n",
        "[ 0.    0.36  0.   ...,  0.66  0.    0.66]\n",
        "sample_weight [  3.39502828e-04   5.33953664e-26   1.27876469e-28 ...,   3.03572416e-05\n",
        "   2.49182491e-06   7.47335599e-04]\n",
        "iteration"
       ]
      },
      {
       "output_type": "stream",
       "stream": "stdout",
       "text": [
        " 85\n",
        "beta 1.94239246523 eprime 0.125385254472\n",
        "sample_weight [  4.70592002e-04   1.32325089e-26   1.33143703e-30 ...,   2.27915671e-04\n",
        "   4.12485591e-07   6.89324525e-04]\n",
        "y [ 0.  1.  0. ...,  1.  0.  1.]\n",
        "weight_sum 0.436781146138\n",
        "[ 0.    0.43  0.   ...,  0.43  0.    0.42]\n",
        "sample_weight [  4.70592002e-04   1.51597527e-26   1.33143703e-30 ...,   2.61110364e-04\n",
        "   4.12485591e-07   8.05210365e-04]\n",
        "iteration"
       ]
      },
      {
       "output_type": "stream",
       "stream": "stdout",
       "text": [
        " 86\n",
        "beta 2.30583741052 eprime 0.0906406617167\n",
        "sample_weight [  5.07373276e-06   4.17208685e-27   4.90319551e-32 ...,   1.55504178e-04\n",
        "   4.47766561e-06   2.19722220e-04]\n",
        "y [ 0.  1.  0. ...,  1.  0.  1.]\n",
        "weight_sum 0.330948595758\n",
        "[ 0.    0.49  0.   ...,  0.56  0.    0.56]\n",
        "sample_weight [  5.07373276e-06   4.26940609e-27   4.90319551e-32 ...,   1.35412051e-04\n",
        "   4.47766561e-06   1.91332713e-04]\n",
        "iteration"
       ]
      },
      {
       "output_type": "stream",
       "stream": "stdout",
       "text": [
        " 87\n",
        "beta 2.74228307346 eprime 0.0605239555901\n",
        "sample_weight [  6.66191581e-06   4.20785993e-27   4.50398454e-34 ...,   1.59031595e-03\n",
        "   4.65620843e-07   4.09803168e-04]\n",
        "y [ 0.  1.  0. ...,  1.  0.  1.]\n",
        "weight_sum 0.217672128573\n",
        "[ 0.    0.54  0.   ...,  0.47  0.    0.46]\n",
        "sample_weight [  6.66191581e-06   3.77070831e-27   4.50398454e-34 ...,   1.72668122e-03\n",
        "   4.65620843e-07   4.57313106e-04]\n",
        "iteration"
       ]
      },
      {
       "output_type": "stream",
       "stream": "stdout",
       "text": [
        " 88\n",
        "beta 2.39662395886 eprime 0.0834304990496\n",
        "sample_weight [  2.55788388e-07   1.55508416e-26   2.95352990e-33 ...,   6.43961520e-04\n",
        "   9.03163060e-06   1.10785939e-08]\n",
        "y [ 0.  1.  0. ...,  1.  0.  1.]\n",
        "weight_sum 0.282875112291\n",
        "[ 0.    0.43  0.   ...,  0.51  0.    0.5 ]\n",
        "sample_weight [  2.55788388e-07   1.83913131e-26   2.95352990e-33 ...,   6.28711655e-04\n",
        "   9.03163060e-06   1.10785939e-08]\n",
        "iteration"
       ]
      },
      {
       "output_type": "stream",
       "stream": "stdout",
       "text": [
        " 89\n",
        "beta 2.32789202393 eprime 0.0888391492502\n",
        "sample_weight [  2.70117421e-05   5.99322709e-26   3.55935739e-33 ...,   1.32013956e-05\n",
        "   6.49103136e-06   8.39475946e-06]\n",
        "y [ 0.  1.  0. ...,  1.  0.  1.]\n",
        "weight_sum 0.326464778528\n",
        "[ 1.    0.52  1.   ...,  0.49  1.    0.51]\n",
        "sample_weight [  2.70117421e-05   5.72059130e-26   3.55935739e-33 ...,   1.35123147e-05\n",
        "   6.49103136e-06   8.20159557e-06]\n",
        "iteration"
       ]
      },
      {
       "output_type": "stream",
       "stream": "stdout",
       "text": [
        " 90\n",
        "beta 2.24111511528 eprime 0.0961186170443\n",
        "sample_weight [  2.53616934e-04   1.99404235e-26   7.04464424e-34 ...,   2.65495591e-05\n",
        "   1.76850308e-06   2.74621873e-04]\n",
        "y [ 0.  1.  0. ...,  1.  0.  1.]\n",
        "weight_sum 0.349073117\n",
        "[ 0.    0.49  0.   ...,  0.51  0.    0.51]\n",
        "sample_weight [  2.53616934e-04   2.03923566e-26   7.04464424e-34 ...,   2.59611708e-05\n",
        "   1.76850308e-06   2.68535734e-04]\n",
        "iteration"
       ]
      },
      {
       "output_type": "stream",
       "stream": "stdout",
       "text": [
        " 91\n",
        "beta 2.26300091905 eprime 0.0942339167663\n",
        "sample_weight [  1.59434675e-05   4.27332490e-25   3.11168991e-32 ...,   6.86351887e-05\n",
        "   1.47092010e-04   4.31885100e-06]\n",
        "y [ 0.  1.  0. ...,  1.  0.  1.]\n",
        "weight_sum 0.343580290691\n",
        "[ 0.    0.51  0.   ...,  0.58  0.    0.58]\n",
        "sample_weight [  1.59434675e-05   4.17770553e-25   3.11168991e-32 ...,   5.72693333e-05\n",
        "   1.47092010e-04   3.60365757e-06]\n",
        "iteration"
       ]
      },
      {
       "output_type": "stream",
       "stream": "stdout",
       "text": [
        " 92\n",
        "beta 1.81469951112 eprime 0.140071105957\n",
        "sample_weight [  7.28019038e-08   5.88299954e-24   4.06802327e-32 ...,   1.07022841e-04\n",
        "   2.76315522e-04   2.39297491e-05]\n",
        "y [ 0.  1.  0. ...,  1.  0.  1.]\n",
        "weight_sum 0.491622631531\n",
        "[ 0.    0.49  0.   ...,  0.66  0.    0.65]\n",
        "sample_weight [  7.28019038e-08   5.99073287e-24   4.06802327e-32 ...,   8.00531154e-05\n",
        "   2.76315522e-04   1.82272457e-05]\n",
        "iteration"
       ]
      },
      {
       "output_type": "stream",
       "stream": "stdout",
       "text": [
        " 93\n",
        "beta 2.63003536554 eprime 0.067230232769\n",
        "sample_weight [  1.89361223e-07   3.21431711e-24   1.36892984e-32 ...,   4.97687021e-04\n",
        "   1.03025281e-04   1.01009248e-04]\n",
        "y [ 0.  1.  0. ...,  1.  0.  1.]\n",
        "weight_sum 0.251667854637\n",
        "[ 0.    0.44  0.   ...,  0.52  0.    0.5 ]\n",
        "sample_weight [  1.89361223e-07   3.76375470e-24   1.36892984e-32 ...,   4.72184926e-04\n",
        "   1.03025281e-04   1.01009248e-04]\n",
        "iteration"
       ]
      },
      {
       "output_type": "stream",
       "stream": "stdout",
       "text": [
        " 94\n",
        "beta 2.24180238665 eprime 0.0960589235968\n",
        "sample_weight [  1.17346073e-07   1.61535891e-24   6.30160200e-31 ...,   5.59544346e-04\n",
        "   1.31539829e-04   4.33519722e-05]\n",
        "y [ 0.  1.  0. ...,  1.  0.  1.]\n",
        "weight_sum 0.317880701943\n",
        "[ 0.    0.41  0.   ...,  0.43  0.    0.4 ]\n",
        "sample_weight [  1.17346073e-07   1.97648375e-24   6.30160200e-31 ...,   6.54616096e-04\n",
        "   1.31539829e-04   5.42461724e-05]\n",
        "iteration"
       ]
      },
      {
       "output_type": "stream",
       "stream": "stdout",
       "text": [
        " 95\n",
        "beta 2.62691941987 eprime 0.0674258984403\n",
        "sample_weight [  3.05675398e-12   1.74629192e-26   7.62106741e-30 ...,   2.80827498e-04\n",
        "   1.16220000e-06   1.89343241e-05]\n",
        "y [ 0.  1.  0. ...,  1.  0.  1.]\n",
        "weight_sum 0.246582196534\n",
        "[ 0.    0.51  0.   ...,  0.48  0.    0.48]\n",
        "sample_weight [  3.05675398e-12   1.70101553e-26   7.62106741e-30 ...,   2.95976182e-04\n",
        "   1.16220000e-06   1.99556988e-05]\n",
        "iteration"
       ]
      },
      {
       "output_type": "stream",
       "stream": "stdout",
       "text": [
        " 96\n",
        "beta 2.38674404861 eprime 0.0841891304175\n",
        "sample_weight [  2.27511291e-11   7.56839810e-27   4.63950847e-32 ...,   1.20696056e-04\n",
        "   7.07517260e-09   2.56610107e-04]\n",
        "y [ 0.  1.  0. ...,  1.  0.  1.]\n",
        "weight_sum 0.289148770367\n",
        "[ 0.    0.55  0.   ...,  0.36  0.    0.35]\n",
        "sample_weight [  2.27511291e-11   6.71701750e-27   4.63950847e-32 ...,   1.68581551e-04\n",
        "   7.07517260e-09   3.67076197e-04]\n",
        "iteration"
       ]
      },
      {
       "output_type": "stream",
       "stream": "stdout",
       "text": [
        " 97\n",
        "beta 2.51124431009 eprime 0.0750736618696\n",
        "sample_weight [  5.01845418e-10   2.32922040e-28   5.99846346e-33 ...,   3.59715727e-04\n",
        "   3.31925555e-08   1.66587437e-04]\n",
        "y [ 0.  1.  0. ...,  1.  0.  1.]\n",
        "weight_sum 0.27758407261\n",
        "[ 1.    0.5   1.   ...,  0.51  1.    0.51]\n",
        "sample_weight [  5.01845418e-10   2.32922040e-28   5.99846346e-33 ...,   3.50794868e-04\n",
        "   3.31925555e-08   1.62456110e-04]\n",
        "iteration"
       ]
      },
      {
       "output_type": "stream",
       "stream": "stdout",
       "text": [
        " 98\n",
        "beta 2.37029782787 eprime 0.0854658579037\n",
        "sample_weight [  4.61581068e-10   1.10060630e-27   5.21262347e-32 ...,   5.56072189e-04\n",
        "   4.64334632e-07   8.95948127e-05]\n",
        "y [ 0.  1.  0. ...,  1.  0.  1.]\n",
        "weight_sum 0.309597468513\n",
        "[ 0.    0.39  0.   ...,  0.62  0.    0.63]\n",
        "sample_weight [  4.61581068e-10   1.42845576e-27   5.21262347e-32 ...,   4.18410238e-04\n",
        "   4.64334632e-07   6.58354671e-05]\n"
       ]
      }
     ],
     "prompt_number": 25
    },
    {
     "cell_type": "markdown",
     "metadata": {},
     "source": [
      "#Names\n",
      "\n",
      "ideal - this is LDA, distributions of signal and background are gaussian with same covariation matrix, \n",
      "thus LDA should give the best possible result (in terms of accuracy)\n",
      "\n",
      "uniformIdeal - is LDA, trained on all features, except the 'column0'. We want efficiency to be uniform in this variable.\n",
      "All the variables in test dataset are independent, so if we simply ignore 'column0' during fit and prediction, \n",
      "we will get uniform efficiency. This would be ideal (or very close to ideal) classification under restriction of uniformity.\n",
      "\n",
      "usualBDT - is Gradient boosting on trees included in sklearn.\n",
      "\n",
      "unifNew - is uniformerBDT (a-la one of uBoost BDTs) with target efficiency of 50%, modified version of usualBDT.\n",
      "\n",
      "unifOld - is binning-based metaclassifier that changes the output of base classifier.\n"
     ]
    },
    {
     "cell_type": "code",
     "collapsed": false,
     "input": [
      "BuildRocCurves(testY, probasDict)"
     ],
     "language": "python",
     "metadata": {},
     "outputs": [
      {
       "metadata": {},
       "output_type": "display_data",
       "png": "[encoded data removed]",
       "text": [
        "<matplotlib.figure.Figure at 0x1142a93d0>"
       ]
      }
     ],
     "prompt_number": 9
    },
    {
     "cell_type": "code",
     "collapsed": false,
     "input": [
      "for name, probas in probasDict.iteritems():\n",
      "    cuts = [ComputeBDTCut(targetEfficiency, testY, probas) for targetEfficiency in [0.3, 0.5, 0.7]]\n",
      "    ScoreVariableCorrelation(testY, probas, testX['column0'], name, scoreFunc = Efficiency, binsNumber = 10, \\\n",
      "                             thresholds=cuts, ylimits=(0,1))"
     ],
     "language": "python",
     "metadata": {},
     "outputs": [
      {
       "metadata": {},
       "output_type": "display_data",
       "png": "[encoded data removed]",
       "text": [
        "<matplotlib.figure.Figure at 0x11449d5d0>"
       ]
      },
      {
       "metadata": {},
       "output_type": "display_data",
       "png": "[encoded data removed]",
       "text": [
        "<matplotlib.figure.Figure at 0x113f63250>"
       ]
      },
      {
       "metadata": {},
       "output_type": "display_data",
       "png": "[encoded data removed]",
       "text": [
        "<matplotlib.figure.Figure at 0x1142e2c10>"
       ]
      },
      {
       "metadata": {},
       "output_type": "display_data",
       "png": "[encoded data removed]",
       "text": [
        "<matplotlib.figure.Figure at 0x1140e81d0>"
       ]
      }
     ],
     "prompt_number": 23
    },
    {
     "cell_type": "code",
     "collapsed": false,
     "input": [],
     "language": "python",
     "metadata": {},
     "outputs": [],
     "prompt_number": 7
    }
   ],
   "metadata": {}
  }
 ]
}