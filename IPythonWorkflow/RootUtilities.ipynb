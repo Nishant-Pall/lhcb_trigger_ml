{
 "metadata": {
  "name": ""
 },
 "nbformat": 3,
 "nbformat_minor": 0,
 "worksheets": [
  {
   "cells": [
    {
     "cell_type": "code",
     "collapsed": false,
     "input": [
      "# tools to work with root files\n",
      "# At this moment file contains only functions that read ROOT files into pandas\n",
      "\n",
      "import pandas\n",
      "import numpy\n",
      "\n",
      "# Essential to have ROOT, rootpy, root_numpy to use RootUtilities.ipynb (this file)\n",
      "import rootpy\n",
      "import rootpy.io\n",
      "import rootpy.tree"
     ],
     "language": "python",
     "metadata": {},
     "outputs": [],
     "prompt_number": 1
    },
    {
     "cell_type": "code",
     "collapsed": false,
     "input": [
      "def ReadROOTFileToPandas(fileName):\n",
      "    \"\"\"Reads some ROOT file to pandas\"\"\"\n",
      "    with rootpy.io.root_open(fileName, \"READ\") as tFile:\n",
      "        for path, dirs, objects in tFile.walk():\n",
      "            for objName in objects:\n",
      "                obj = tFile.Get(objName)\n",
      "                #print objects, obj\n",
      "                if(type(obj) is rootpy.tree.tree.Tree):\n",
      "                    print \"Adding a tree named \" + objName + \" from file \" + fileName\n",
      "                    tree = obj\n",
      "                    numpy_array = tree.to_array()\n",
      "                    dataFrame = pandas.DataFrame(numpy_array)\n",
      "                    print \"success, features:\", len(dataFrame.columns), \"events\" ,len(dataFrame)\n",
      "                    return dataFrame\n",
      "    return \"Nothing found in the file\", fileName"
     ],
     "language": "python",
     "metadata": {},
     "outputs": [],
     "prompt_number": 3
    },
    {
     "cell_type": "code",
     "collapsed": false,
     "input": [
      "def ReadDataToSingleDataframe(files):\n",
      "    \"\"\"\n",
      "    Concatenates the contents of files into single dataFrame, example:\n",
      "    files = [\"filename1.root\", \"filename2.root\"]\n",
      "    \"\"\"\n",
      "    if(len(files) <= 0):\n",
      "        throw(\"No files selected.\")\n",
      "    \n",
      "    dataFrames = []\n",
      "    for dataFile in files:\n",
      "        df = ReadROOTFileToPandas(dataFile)\n",
      "        dataFrames.append(df) \n",
      "    # todo throw an exception if dataFrames have different columns\n",
      "    return pandas.concat(dataFrames, join = 'inner', ignore_index= True)"
     ],
     "language": "python",
     "metadata": {},
     "outputs": [],
     "prompt_number": 4
    },
    {
     "cell_type": "code",
     "collapsed": false,
     "input": [],
     "language": "python",
     "metadata": {},
     "outputs": []
    }
   ],
   "metadata": {}
  }
 ]
}