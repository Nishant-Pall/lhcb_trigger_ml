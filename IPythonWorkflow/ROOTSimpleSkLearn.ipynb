{
 "metadata": {
  "name": ""
 },
 "nbformat": 3,
 "nbformat_minor": 0,
 "worksheets": [
  {
   "cells": [
    {
     "cell_type": "code",
     "collapsed": false,
     "input": [
      "# This enables us to import other notebooks\n",
      "from NotebookHelper import execute_notebook\n",
      "# import all functions and classes from other notebook\n",
      "execute_notebook(\"SklearnSimpleUtils.ipynb\")\n",
      "execute_notebook(\"JabberHelper.ipynb\")\n",
      "execute_notebook(\"UniformerClassifier.ipynb\")"
     ],
     "language": "python",
     "metadata": {},
     "outputs": [
      {
       "output_type": "stream",
       "stream": "stdout",
       "text": [
        "quantiles are ok\n",
        "Correction function is ok\n",
        "EfficiencyPlotData functions are ok"
       ]
      },
      {
       "output_type": "stream",
       "stream": "stderr",
       "text": [
        "/Library/Python/2.7/site-packages/sklearn/metrics/metrics.py:1809: UserWarning: The sum of true positives and false positives are equal to zero for some labels. Precision is ill defined for those labels [ True]. The precision and recall are equal to zero for some labels. fbeta_score is ill defined for those labels [ True]. \n",
        "  average=average)\n",
        "/Library/Python/2.7/site-packages/xmpppy-0.5.0rc1-py2.7.egg/xmpp/auth.py:24: DeprecationWarning: the sha module is deprecated; use the hashlib module instead\n"
       ]
      },
      {
       "output_type": "stream",
       "stream": "stdout",
       "text": [
        "\n",
        "binner is ok\n",
        "uniformer classifier is ok"
       ]
      },
      {
       "output_type": "stream",
       "stream": "stdout",
       "text": [
        "\n"
       ]
      },
      {
       "output_type": "stream",
       "stream": "stderr",
       "text": [
        "/Library/Python/2.7/site-packages/xmpppy-0.5.0rc1-py2.7.egg/xmpp/auth.py:26: DeprecationWarning: the md5 module is deprecated; use hashlib instead\n"
       ]
      }
     ],
     "prompt_number": 1
    },
    {
     "cell_type": "code",
     "collapsed": false,
     "input": [
      "# Where the data is kept \n",
      "#dataFolder = \"/media/d/yCERN/MarcinBlending1/\"\n",
      "dataFolder = \"/Users/axelr/Downloads/MarcinDatasets/\"\n",
      "\n",
      "# VLHC-generated files with signal\n",
      "signalFiles = []\n",
      "signalFiles.append(dataFolder + \"tau_from_D_0.root\")\n",
      "signalFiles.append(dataFolder + \"tau_from_D_1.root\")\n",
      "\n",
      "\n",
      "# VLHC-generated files with backgroung\n",
      "backgroundFiles = []\n",
      "backgroundFiles.append(dataFolder + \"bb_test.root\")\n",
      "backgroundFiles.append(dataFolder + \"cc_test.root\")\n",
      "\n",
      "# Note that VLHC-generated files should have the same features (branches)"
     ],
     "language": "python",
     "metadata": {},
     "outputs": [],
     "prompt_number": 2
    },
    {
     "cell_type": "code",
     "collapsed": false,
     "input": [
      "# should take a while. \n",
      "# DataFrame is structure from pandas library - just a table \n",
      "signalDataFrame = ReadDataToSingleDataframe(signalFiles)\n",
      "bgDataFrame = ReadDataToSingleDataframe(backgroundFiles)"
     ],
     "language": "python",
     "metadata": {},
     "outputs": [
      {
       "ename": "ImportError",
       "evalue": "dlopen(/Library/Python/2.7/site-packages/root_numpy/_librootnumpy.so, 2): Symbol not found: __ZN7TObject13SavePrimitiveERNSt3__113basic_ostreamIcNS0_11char_traitsIcEEEEPKc\n  Referenced from: /Library/Python/2.7/site-packages/root_numpy/_librootnumpy.so\n  Expected in: flat namespace\n in /Library/Python/2.7/site-packages/root_numpy/_librootnumpy.so",
       "output_type": "pyerr",
       "traceback": [
        "\u001b[0;31m---------------------------------------------------------------------------\u001b[0m\n\u001b[0;31mImportError\u001b[0m                               Traceback (most recent call last)",
        "\u001b[0;32m<ipython-input-7-ec198aaa6e8d>\u001b[0m in \u001b[0;36m<module>\u001b[0;34m()\u001b[0m\n\u001b[1;32m      1\u001b[0m \u001b[0;31m# should take a while.\u001b[0m\u001b[0;34m\u001b[0m\u001b[0;34m\u001b[0m\u001b[0m\n\u001b[1;32m      2\u001b[0m \u001b[0;31m# DataFrame is structure from pandas library - just a table\u001b[0m\u001b[0;34m\u001b[0m\u001b[0;34m\u001b[0m\u001b[0m\n\u001b[0;32m----> 3\u001b[0;31m \u001b[0msignalDataFrame\u001b[0m \u001b[0;34m=\u001b[0m \u001b[0mReadDataToSingleDataframe\u001b[0m\u001b[0;34m(\u001b[0m\u001b[0msignalFiles\u001b[0m\u001b[0;34m)\u001b[0m\u001b[0;34m\u001b[0m\u001b[0m\n\u001b[0m\u001b[1;32m      4\u001b[0m \u001b[0mbgDataFrame\u001b[0m \u001b[0;34m=\u001b[0m \u001b[0mReadDataToSingleDataframe\u001b[0m\u001b[0;34m(\u001b[0m\u001b[0mbackgroundFiles\u001b[0m\u001b[0;34m)\u001b[0m\u001b[0;34m\u001b[0m\u001b[0m\n",
        "\u001b[0;32m<ipython-input-1-dd3118ba9945>\u001b[0m in \u001b[0;36mReadDataToSingleDataframe\u001b[0;34m(files)\u001b[0m\n\u001b[1;32m     33\u001b[0m     \u001b[0mdataFrames\u001b[0m \u001b[0;34m=\u001b[0m \u001b[0;34m[\u001b[0m\u001b[0;34m]\u001b[0m\u001b[0;34m\u001b[0m\u001b[0m\n\u001b[1;32m     34\u001b[0m     \u001b[0;32mfor\u001b[0m \u001b[0mdataFile\u001b[0m \u001b[0;32min\u001b[0m \u001b[0mfiles\u001b[0m\u001b[0;34m:\u001b[0m\u001b[0;34m\u001b[0m\u001b[0m\n\u001b[0;32m---> 35\u001b[0;31m         \u001b[0mdf\u001b[0m \u001b[0;34m=\u001b[0m \u001b[0mReadROOTFileToPandas\u001b[0m\u001b[0;34m(\u001b[0m\u001b[0mdataFile\u001b[0m\u001b[0;34m)\u001b[0m\u001b[0;34m\u001b[0m\u001b[0m\n\u001b[0m\u001b[1;32m     36\u001b[0m         \u001b[0mdataFrames\u001b[0m\u001b[0;34m.\u001b[0m\u001b[0mappend\u001b[0m\u001b[0;34m(\u001b[0m\u001b[0mdf\u001b[0m\u001b[0;34m)\u001b[0m\u001b[0;34m\u001b[0m\u001b[0m\n\u001b[1;32m     37\u001b[0m     \u001b[0;31m# todo throw an exception if dataFrames have different columns\u001b[0m\u001b[0;34m\u001b[0m\u001b[0;34m\u001b[0m\u001b[0m\n",
        "\u001b[0;32m<ipython-input-1-dd3118ba9945>\u001b[0m in \u001b[0;36mReadROOTFileToPandas\u001b[0;34m(fileName)\u001b[0m\n\u001b[1;32m     11\u001b[0m                     \u001b[0;32mprint\u001b[0m \u001b[0;34m\"Adding a tree named \"\u001b[0m \u001b[0;34m+\u001b[0m \u001b[0mobjName\u001b[0m \u001b[0;34m+\u001b[0m \u001b[0;34m\" from file \"\u001b[0m \u001b[0;34m+\u001b[0m \u001b[0mfileName\u001b[0m\u001b[0;34m\u001b[0m\u001b[0m\n\u001b[1;32m     12\u001b[0m                     \u001b[0mtree\u001b[0m \u001b[0;34m=\u001b[0m \u001b[0mobj\u001b[0m\u001b[0;34m\u001b[0m\u001b[0m\n\u001b[0;32m---> 13\u001b[0;31m                     \u001b[0mnumpy_array\u001b[0m \u001b[0;34m=\u001b[0m \u001b[0mtree\u001b[0m\u001b[0;34m.\u001b[0m\u001b[0mto_array\u001b[0m\u001b[0;34m(\u001b[0m\u001b[0;34m)\u001b[0m\u001b[0;34m\u001b[0m\u001b[0m\n\u001b[0m\u001b[1;32m     14\u001b[0m                     \u001b[0mdataFrame\u001b[0m \u001b[0;34m=\u001b[0m \u001b[0mpandas\u001b[0m\u001b[0;34m.\u001b[0m\u001b[0mDataFrame\u001b[0m\u001b[0;34m(\u001b[0m\u001b[0mnumpy_array\u001b[0m\u001b[0;34m)\u001b[0m\u001b[0;34m\u001b[0m\u001b[0m\n\u001b[1;32m     15\u001b[0m                     \u001b[0;32mprint\u001b[0m \u001b[0;34m\"success, features:\"\u001b[0m\u001b[0;34m,\u001b[0m \u001b[0mlen\u001b[0m\u001b[0;34m(\u001b[0m\u001b[0mdataFrame\u001b[0m\u001b[0;34m.\u001b[0m\u001b[0mcolumns\u001b[0m\u001b[0;34m)\u001b[0m\u001b[0;34m,\u001b[0m \u001b[0;34m\"events\"\u001b[0m \u001b[0;34m,\u001b[0m\u001b[0mlen\u001b[0m\u001b[0;34m(\u001b[0m\u001b[0mdataFrame\u001b[0m\u001b[0;34m)\u001b[0m\u001b[0;34m\u001b[0m\u001b[0m\n",
        "\u001b[0;32m/Library/Python/2.7/site-packages/rootpy/tree/tree.pyc\u001b[0m in \u001b[0;36mto_array\u001b[0;34m(self, *args, **kwargs)\u001b[0m\n\u001b[1;32m    773\u001b[0m         \u001b[0mConvert\u001b[0m \u001b[0mthis\u001b[0m \u001b[0mtree\u001b[0m \u001b[0minto\u001b[0m \u001b[0ma\u001b[0m \u001b[0mNumPy\u001b[0m \u001b[0mstructured\u001b[0m \u001b[0marray\u001b[0m\u001b[0;34m\u001b[0m\u001b[0m\n\u001b[1;32m    774\u001b[0m         \"\"\"\n\u001b[0;32m--> 775\u001b[0;31m         \u001b[0;32mfrom\u001b[0m \u001b[0mroot_numpy\u001b[0m \u001b[0;32mimport\u001b[0m \u001b[0mtree2array\u001b[0m\u001b[0;34m\u001b[0m\u001b[0m\n\u001b[0m\u001b[1;32m    776\u001b[0m         \u001b[0;32mreturn\u001b[0m \u001b[0mtree2array\u001b[0m\u001b[0;34m(\u001b[0m\u001b[0mself\u001b[0m\u001b[0;34m,\u001b[0m \u001b[0;34m*\u001b[0m\u001b[0margs\u001b[0m\u001b[0;34m,\u001b[0m \u001b[0;34m**\u001b[0m\u001b[0mkwargs\u001b[0m\u001b[0;34m)\u001b[0m\u001b[0;34m\u001b[0m\u001b[0m\n",
        "\u001b[0;32m/Library/Python/2.7/site-packages/root_numpy/__init__.py\u001b[0m in \u001b[0;36m<module>\u001b[0;34m()\u001b[0m\n\u001b[0;32m----> 1\u001b[0;31m from _root_numpy import (\n\u001b[0m\u001b[1;32m      2\u001b[0m     \u001b[0mroot2array\u001b[0m\u001b[0;34m,\u001b[0m \u001b[0mroot2rec\u001b[0m\u001b[0;34m,\u001b[0m\u001b[0;34m\u001b[0m\u001b[0m\n\u001b[1;32m      3\u001b[0m     \u001b[0mtree2array\u001b[0m\u001b[0;34m,\u001b[0m \u001b[0mtree2rec\u001b[0m\u001b[0;34m,\u001b[0m\u001b[0;34m\u001b[0m\u001b[0m\n\u001b[1;32m      4\u001b[0m     \u001b[0marray2tree\u001b[0m\u001b[0;34m,\u001b[0m \u001b[0marray2root\u001b[0m\u001b[0;34m,\u001b[0m\u001b[0;34m\u001b[0m\u001b[0m\n\u001b[1;32m      5\u001b[0m     \u001b[0mlist_trees\u001b[0m\u001b[0;34m,\u001b[0m \u001b[0mlist_branches\u001b[0m\u001b[0;34m,\u001b[0m \u001b[0mlist_structures\u001b[0m\u001b[0;34m,\u001b[0m\u001b[0;34m\u001b[0m\u001b[0m\n",
        "\u001b[0;32m/Library/Python/2.7/site-packages/root_numpy/_root_numpy.py\u001b[0m in \u001b[0;36m<module>\u001b[0;34m()\u001b[0m\n\u001b[1;32m      4\u001b[0m \u001b[0;32mfrom\u001b[0m \u001b[0mnumpy\u001b[0m\u001b[0;34m.\u001b[0m\u001b[0mlib\u001b[0m \u001b[0;32mimport\u001b[0m \u001b[0mrecfunctions\u001b[0m\u001b[0;34m\u001b[0m\u001b[0m\n\u001b[1;32m      5\u001b[0m \u001b[0;34m\u001b[0m\u001b[0m\n\u001b[0;32m----> 6\u001b[0;31m \u001b[0;32mimport\u001b[0m \u001b[0m_librootnumpy\u001b[0m\u001b[0;34m\u001b[0m\u001b[0m\n\u001b[0m\u001b[1;32m      7\u001b[0m \u001b[0;34m\u001b[0m\u001b[0m\n\u001b[1;32m      8\u001b[0m \u001b[0;31m# re-enable display of DeprecationWarning messages\u001b[0m\u001b[0;34m\u001b[0m\u001b[0;34m\u001b[0m\u001b[0m\n",
        "\u001b[0;31mImportError\u001b[0m: dlopen(/Library/Python/2.7/site-packages/root_numpy/_librootnumpy.so, 2): Symbol not found: __ZN7TObject13SavePrimitiveERNSt3__113basic_ostreamIcNS0_11char_traitsIcEEEEPKc\n  Referenced from: /Library/Python/2.7/site-packages/root_numpy/_librootnumpy.so\n  Expected in: flat namespace\n in /Library/Python/2.7/site-packages/root_numpy/_librootnumpy.so"
       ]
      },
      {
       "output_type": "stream",
       "stream": "stdout",
       "text": [
        "Adding a tree named Tau23Mu from file /Users/axelr/Downloads/MarcinDatasets/tau_from_D_0.root\n"
       ]
      }
     ],
     "prompt_number": 7
    },
    {
     "cell_type": "code",
     "collapsed": false,
     "input": [
      "# Splitting into test and train\n",
      "# We select into train part 10% of signal and 10% of background\n",
      "train, trainAnswers, test, testAnswers = SplitOnTestAndTrain(signalDataFrame, \n",
      "                            bgDataFrame, signalTrainPart = 0.8, bgTrainPart = 0.8)"
     ],
     "language": "python",
     "metadata": {},
     "outputs": []
    },
    {
     "cell_type": "code",
     "collapsed": false,
     "input": [
      "# Computation of additional features (just an example)\n",
      "# We are writing the function to be sure that the _same_ changes \n",
      "# were done to test and train --\n",
      "def AddSomeFeatures(dataFrame):\n",
      "    dataFrame['px_pt_sum'] = dataFrame[\"p0_pt\"] + dataFrame[\"p1_pt\"] + dataFrame[\"p2_pt\"]\n",
      "    px_pt_min_12 = numpy.minimum(dataFrame[\"p0_pt\"], dataFrame[\"p1_pt\"])\n",
      "    dataFrame['px_pt_min'] = numpy.minimum(dataFrame[\"p2_pt\"], px_pt_min_12)\n",
      "\n",
      "# Applying the changes both to test and train\n",
      "AddSomeFeatures(test)\n",
      "AddSomeFeatures(train)"
     ],
     "language": "python",
     "metadata": {},
     "outputs": []
    },
    {
     "cell_type": "code",
     "collapsed": false,
     "input": [
      "\n",
      "# Features we are training on.\n",
      "\n",
      "# Example: selecting first ten features\n",
      "# features = train.columns[:10]\n",
      "\n",
      "# Example: selecting features by name\n",
      "features = [\"FlightDistance\", \"FlightDistanceError\", \"IP\", \"IPSig\", \"VertexChi2\", \"pt\", \n",
      "            \"DOCAone\", \"DOCAtwo\", \"DOCAthree\", \"isolationd\", \"isolatione\",  \"isolationf\", \n",
      "            \"p0_pt\", \"p1_pt\", \"p2_pt\", \"p0_IP\", \"p1_IP\", \"p2_IP\", \"Laura_SumBDT\",\n",
      "            \"px_pt_min\", \"px_pt_sum\"]\n",
      "\n",
      "# Some automatic procedure can be used to select features\n",
      "\n",
      "# Including some classes from sklearn library\n",
      "# from namespace import class\n",
      "from sklearn.ensemble import RandomForestClassifier\n",
      "from sklearn.lda import LDA\n",
      "from sklearn.qda import QDA\n",
      "from sklearn.naive_bayes import GaussianNB\n",
      "\n",
      "# Lets use some standart classifiers\n",
      "classifiers = {}\n",
      "classifiers['RandomForest'] = RandomForestClassifier()\n",
      "classifiers['RandomForest40'] = RandomForestClassifier(n_estimators = 40)\n",
      "classifiers['RandomForest80'] = RandomForestClassifier(n_estimators = 80)\n",
      "classifiers['LDA'] = LDA()\n",
      "classifiers['QDA'] = QDA()\n",
      "classifiers['GaussianNB'] = GaussianNB()\n",
      "\n",
      "# sklearn classifiers can be also combined,\n",
      "# the list of basic classifiers can be found here\n",
      "# http://scikit-learn.org/stable/auto_examples/plot_classifier_comparison.html\n",
      "\n",
      "\n",
      "testPredictions = {}\n",
      "# No weights are assigned up to this moment\n",
      "for classifierName in classifiers:\n",
      "    classifier = classifiers[classifierName]\n",
      "    classifier.fit(train[features], trainAnswers)\n",
      "    testPredictions[classifierName] = GetProbabilitiesOfSignal(classifier, test[features])"
     ],
     "language": "python",
     "metadata": {},
     "outputs": []
    },
    {
     "cell_type": "code",
     "collapsed": false,
     "input": [
      "#LDA is awesome as we can see, random forest is good too\n",
      "BuildRocCurves(testAnswers, testPredictions)"
     ],
     "language": "python",
     "metadata": {},
     "outputs": []
    },
    {
     "cell_type": "code",
     "collapsed": true,
     "input": [
      "# Building correlation with mass variable\n",
      "# We got a great correlation.\n",
      "for classifierName in testPredictions:\n",
      "    MassEfficiencyCorrelationPlot(testAnswers, testPredictions[classifierName], \n",
      "                        test['mass'], classifierName)"
     ],
     "language": "python",
     "metadata": {},
     "outputs": []
    },
    {
     "cell_type": "code",
     "collapsed": true,
     "input": [
      "ScoreVariableCorrelation(testAnswers, testPredictions['LDA'], \n",
      "                        test['mass'], 'LDA', scoreFunc = Recall)\n",
      "ScoreVariableCorrelation(testAnswers, testPredictions['LDA'], \n",
      "                        test['mass'], 'LDA', scoreFunc = Precision)\n",
      "#ScoreVariableCorrelation(testAnswers, testPredictions['LDA'], \n",
      "#                        test['mass'], 'LDA', scoreFunc = Efficiency)\n",
      "ScoreVariableCorrelation(testAnswers, testPredictions['LDA'], \n",
      "                        test['mass'], 'LDA', scoreFunc = PartOfAsSignal)\n",
      "# This one obviously doesn't depend on threshold\n",
      "ScoreVariableCorrelation(testAnswers, testPredictions['LDA'], \n",
      "                        test['mass'], 'LDA', scoreFunc = PartOfIsSignal)"
     ],
     "language": "python",
     "metadata": {},
     "outputs": []
    },
    {
     "cell_type": "code",
     "collapsed": false,
     "input": [
      "# SendJabber(\"iamfullofspam@yandex.ru\", \"computation complete\")"
     ],
     "language": "python",
     "metadata": {},
     "outputs": []
    },
    {
     "cell_type": "code",
     "collapsed": false,
     "input": [
      "for classifier in [LDA(), RandomForestClassifier(n_estimators=50)]:\n",
      "    print classifier\n",
      "    bins = 6\n",
      "    plotBins = 10 #number of bins for plot \n",
      "\n",
      "    unif = UniformerClassifier(classifier, bins, False)\n",
      "    unif.fit(train[features], trainAnswers, train['mass'])\n",
      "    \n",
      "    trainProba = unif.predict_proba(train[features], train['mass'])[:,1]\n",
      "    testProba = unif.predict_proba(test[features], test['mass'])[:,1]\n",
      "\n",
      "    BuildRocCurves(testAnswers, {\"unif\": testProba})\n",
      "\n",
      "#     ScoreVariableCorrelation(trainAnswers, trainProba, train['mass'], \n",
      "#                              'unif', scoreFunc = Recall, binsNumber = plotBins)\n",
      "    ScoreVariableCorrelation(testAnswers, testProba, test['mass'], \n",
      "                             'unif', scoreFunc = Recall, binsNumber = plotBins)\n",
      "    ScoreVariableCorrelation(testAnswers, testProba, \n",
      "          test['mass'], 'unif', scoreFunc = PartOfIsSignal,binsNumber = plotBins)\n",
      "#     ScoreVariableCorrelation(testAnswers, testPredictions['LDA'], \n",
      "#           test['mass'], classifier,  scoreFunc = Recall) \n"
     ],
     "language": "python",
     "metadata": {},
     "outputs": []
    },
    {
     "cell_type": "code",
     "collapsed": false,
     "input": [
      "unifRF = UniformerClassifier(RandomForestClassifier(n_estimators=50), bins, True\n",
      "    ).fit(train[features], trainAnswers, train['mass'], drawPlots=True)\n"
     ],
     "language": "python",
     "metadata": {},
     "outputs": []
    },
    {
     "cell_type": "code",
     "collapsed": false,
     "input": [
      "# execute_notebook(\"UniformerClassifier.ipynb\")\n",
      "# UniformerClassifier(RandomForestClassifier(n_estimators=80), bins, False) \\\n",
      "#    .fit(train[features], trainAnswers, train['mass'], drawPlots = True)\n"
     ],
     "language": "python",
     "metadata": {},
     "outputs": []
    },
    {
     "cell_type": "code",
     "collapsed": false,
     "input": [
      "# Q     = lambda phi: math.sqrt(1+sin(phi)**2) + sin(phi)\n",
      "# expr  = lambda x: Q(x)**2 + Q(x)**(-2)\n",
      "# expr2 = lambda x: 4 - 2 * cos(2*x)\n",
      "# plotFunction(expr, segment = [0,5])\n",
      "# plotFunction(expr2, segment = [0,5])\n",
      "\n"
     ],
     "language": "python",
     "metadata": {},
     "outputs": [],
     "prompt_number": 5
    },
    {
     "cell_type": "code",
     "collapsed": false,
     "input": [],
     "language": "python",
     "metadata": {},
     "outputs": []
    }
   ],
   "metadata": {}
  }
 ]
}