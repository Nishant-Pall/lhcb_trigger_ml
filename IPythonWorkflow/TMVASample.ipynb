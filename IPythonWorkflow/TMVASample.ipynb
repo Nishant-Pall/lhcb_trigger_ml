{
 "metadata": {
  "name": ""
 },
 "nbformat": 3,
 "nbformat_minor": 0,
 "worksheets": [
  {
   "cells": [
    {
     "cell_type": "markdown",
     "metadata": {},
     "source": [
      "This file is just a modification of common example\n",
      "http://aholzner.wordpress.com/2011/08/27/a-tmva-example-in-pyroot/\n",
      "\n",
      "One more copy is here: <br />\n",
      "http://nbviewer.ipython.org/github/demattia/usercode/blob/master/Tutorials/InteractiveAnalysis/Notebooks/HATS_2013/TMVA.ipynb"
     ]
    },
    {
     "cell_type": "code",
     "collapsed": false,
     "input": [
      "# \u043f\u0440\u043e\u0438\u043c\u043f\u043e\u0440\u0442\u0438\u043c \u0432\u0441\u0435 \u043d\u0430\u0448\u0435 \u0431\u0430\u0440\u0430\u0445\u043b\u043e\n",
      "# This is supplementary function, which connects other IPython notebook\n",
      "# with helpful functions. \n",
      "# Absolutely inimportant\n",
      "# import io\n",
      "# from IPython.nbformat import current\n",
      "\n",
      "# def execute_notebook(fileName):\n",
      "#     with io.open(fileName) as f:\n",
      "#         nb = current.read(f, 'json')\n",
      "    \n",
      "#     ip = get_ipython()\n",
      "#     for cell in nb.worksheets[0].cells:\n",
      "#         if cell.cell_type != 'code': continue\n",
      "#         ip.run_cell(cell.input)\n",
      "\n",
      "from NotebookHelper import execute_notebook\n",
      "# import all functions and classes from other notebook\n",
      "execute_notebook(\"SklearnSimpleUtils.ipynb\")\n",
      "execute_notebook(\"JabberHelper.ipynb\")\n",
      "execute_notebook(\"UniformerClassifier.ipynb\")\n",
      "ReadDataToSingleDataframe([\"testOutput.root\"])\n"
     ],
     "language": "python",
     "metadata": {},
     "outputs": [
      {
       "output_type": "stream",
       "stream": "stdout",
       "text": [
        "quantiles are ok\n",
        "Correction function is ok\n",
        "EfficiencyPlotData functions are ok"
       ]
      },
      {
       "output_type": "stream",
       "stream": "stderr",
       "text": [
        "/Library/Python/2.7/site-packages/sklearn/metrics/metrics.py:1809: UserWarning: The sum of true positives and false positives are equal to zero for some labels. Precision is ill defined for those labels [ True]. The precision and recall are equal to zero for some labels. fbeta_score is ill defined for those labels [ True]. \n",
        "  average=average)\n",
        "/Library/Python/2.7/site-packages/xmpppy-0.5.0rc1-py2.7.egg/xmpp/auth.py:24: DeprecationWarning: the sha module is deprecated; use the hashlib module instead\n"
       ]
      },
      {
       "output_type": "stream",
       "stream": "stdout",
       "text": [
        "\n",
        "binner is ok\n",
        "uniformer classifier is ok"
       ]
      },
      {
       "output_type": "stream",
       "stream": "stderr",
       "text": [
        "/Library/Python/2.7/site-packages/xmpppy-0.5.0rc1-py2.7.egg/xmpp/auth.py:26: DeprecationWarning: the md5 module is deprecated; use hashlib instead\n",
        "WARNING:ROOT.TFile.Init:file testOutput.root probably not closed, trying to recover\n"
       ]
      },
      {
       "output_type": "stream",
       "stream": "stderr",
       "text": [
        "WARNING:ROOT.TFile.Init:successfully recovered 9 keys\n"
       ]
      },
      {
       "output_type": "stream",
       "stream": "stdout",
       "text": [
        "\n",
        "Adding a tree named TrainTree from file testOutput.root"
       ]
      },
      {
       "ename": "ImportError",
       "evalue": "dlopen(/Library/Python/2.7/site-packages/root_numpy/_librootnumpy.so, 2): Symbol not found: __ZN7TObject13SavePrimitiveERNSt3__113basic_ostreamIcNS0_11char_traitsIcEEEEPKc\n  Referenced from: /Library/Python/2.7/site-packages/root_numpy/_librootnumpy.so\n  Expected in: flat namespace\n in /Library/Python/2.7/site-packages/root_numpy/_librootnumpy.so",
       "output_type": "pyerr",
       "traceback": [
        "\u001b[0;31m---------------------------------------------------------------------------\u001b[0m\n\u001b[0;31mImportError\u001b[0m                               Traceback (most recent call last)",
        "\u001b[0;32m<ipython-input-1-bbb77b32120e>\u001b[0m in \u001b[0;36m<module>\u001b[0;34m()\u001b[0m\n\u001b[1;32m     20\u001b[0m \u001b[0mexecute_notebook\u001b[0m\u001b[0;34m(\u001b[0m\u001b[0;34m\"JabberHelper.ipynb\"\u001b[0m\u001b[0;34m)\u001b[0m\u001b[0;34m\u001b[0m\u001b[0m\n\u001b[1;32m     21\u001b[0m \u001b[0mexecute_notebook\u001b[0m\u001b[0;34m(\u001b[0m\u001b[0;34m\"UniformerClassifier.ipynb\"\u001b[0m\u001b[0;34m)\u001b[0m\u001b[0;34m\u001b[0m\u001b[0m\n\u001b[0;32m---> 22\u001b[0;31m \u001b[0mReadDataToSingleDataframe\u001b[0m\u001b[0;34m(\u001b[0m\u001b[0;34m[\u001b[0m\u001b[0;34m\"testOutput.root\"\u001b[0m\u001b[0;34m]\u001b[0m\u001b[0;34m)\u001b[0m\u001b[0;34m\u001b[0m\u001b[0m\n\u001b[0m",
        "\u001b[0;32m<ipython-input-1-dd3118ba9945>\u001b[0m in \u001b[0;36mReadDataToSingleDataframe\u001b[0;34m(files)\u001b[0m\n\u001b[1;32m     33\u001b[0m     \u001b[0mdataFrames\u001b[0m \u001b[0;34m=\u001b[0m \u001b[0;34m[\u001b[0m\u001b[0;34m]\u001b[0m\u001b[0;34m\u001b[0m\u001b[0m\n\u001b[1;32m     34\u001b[0m     \u001b[0;32mfor\u001b[0m \u001b[0mdataFile\u001b[0m \u001b[0;32min\u001b[0m \u001b[0mfiles\u001b[0m\u001b[0;34m:\u001b[0m\u001b[0;34m\u001b[0m\u001b[0m\n\u001b[0;32m---> 35\u001b[0;31m         \u001b[0mdf\u001b[0m \u001b[0;34m=\u001b[0m \u001b[0mReadROOTFileToPandas\u001b[0m\u001b[0;34m(\u001b[0m\u001b[0mdataFile\u001b[0m\u001b[0;34m)\u001b[0m\u001b[0;34m\u001b[0m\u001b[0m\n\u001b[0m\u001b[1;32m     36\u001b[0m         \u001b[0mdataFrames\u001b[0m\u001b[0;34m.\u001b[0m\u001b[0mappend\u001b[0m\u001b[0;34m(\u001b[0m\u001b[0mdf\u001b[0m\u001b[0;34m)\u001b[0m\u001b[0;34m\u001b[0m\u001b[0m\n\u001b[1;32m     37\u001b[0m     \u001b[0;31m# todo throw an exception if dataFrames have different columns\u001b[0m\u001b[0;34m\u001b[0m\u001b[0;34m\u001b[0m\u001b[0m\n",
        "\u001b[0;32m<ipython-input-1-dd3118ba9945>\u001b[0m in \u001b[0;36mReadROOTFileToPandas\u001b[0;34m(fileName)\u001b[0m\n\u001b[1;32m     11\u001b[0m                     \u001b[0;32mprint\u001b[0m \u001b[0;34m\"Adding a tree named \"\u001b[0m \u001b[0;34m+\u001b[0m \u001b[0mobjName\u001b[0m \u001b[0;34m+\u001b[0m \u001b[0;34m\" from file \"\u001b[0m \u001b[0;34m+\u001b[0m \u001b[0mfileName\u001b[0m\u001b[0;34m\u001b[0m\u001b[0m\n\u001b[1;32m     12\u001b[0m                     \u001b[0mtree\u001b[0m \u001b[0;34m=\u001b[0m \u001b[0mobj\u001b[0m\u001b[0;34m\u001b[0m\u001b[0m\n\u001b[0;32m---> 13\u001b[0;31m                     \u001b[0mnumpy_array\u001b[0m \u001b[0;34m=\u001b[0m \u001b[0mtree\u001b[0m\u001b[0;34m.\u001b[0m\u001b[0mto_array\u001b[0m\u001b[0;34m(\u001b[0m\u001b[0;34m)\u001b[0m\u001b[0;34m\u001b[0m\u001b[0m\n\u001b[0m\u001b[1;32m     14\u001b[0m                     \u001b[0mdataFrame\u001b[0m \u001b[0;34m=\u001b[0m \u001b[0mpandas\u001b[0m\u001b[0;34m.\u001b[0m\u001b[0mDataFrame\u001b[0m\u001b[0;34m(\u001b[0m\u001b[0mnumpy_array\u001b[0m\u001b[0;34m)\u001b[0m\u001b[0;34m\u001b[0m\u001b[0m\n\u001b[1;32m     15\u001b[0m                     \u001b[0;32mprint\u001b[0m \u001b[0;34m\"success, features:\"\u001b[0m\u001b[0;34m,\u001b[0m \u001b[0mlen\u001b[0m\u001b[0;34m(\u001b[0m\u001b[0mdataFrame\u001b[0m\u001b[0;34m.\u001b[0m\u001b[0mcolumns\u001b[0m\u001b[0;34m)\u001b[0m\u001b[0;34m,\u001b[0m \u001b[0;34m\"events\"\u001b[0m \u001b[0;34m,\u001b[0m\u001b[0mlen\u001b[0m\u001b[0;34m(\u001b[0m\u001b[0mdataFrame\u001b[0m\u001b[0;34m)\u001b[0m\u001b[0;34m\u001b[0m\u001b[0m\n",
        "\u001b[0;32m/Library/Python/2.7/site-packages/rootpy/tree/tree.pyc\u001b[0m in \u001b[0;36mto_array\u001b[0;34m(self, *args, **kwargs)\u001b[0m\n\u001b[1;32m    773\u001b[0m         \u001b[0mConvert\u001b[0m \u001b[0mthis\u001b[0m \u001b[0mtree\u001b[0m \u001b[0minto\u001b[0m \u001b[0ma\u001b[0m \u001b[0mNumPy\u001b[0m \u001b[0mstructured\u001b[0m \u001b[0marray\u001b[0m\u001b[0;34m\u001b[0m\u001b[0m\n\u001b[1;32m    774\u001b[0m         \"\"\"\n\u001b[0;32m--> 775\u001b[0;31m         \u001b[0;32mfrom\u001b[0m \u001b[0mroot_numpy\u001b[0m \u001b[0;32mimport\u001b[0m \u001b[0mtree2array\u001b[0m\u001b[0;34m\u001b[0m\u001b[0m\n\u001b[0m\u001b[1;32m    776\u001b[0m         \u001b[0;32mreturn\u001b[0m \u001b[0mtree2array\u001b[0m\u001b[0;34m(\u001b[0m\u001b[0mself\u001b[0m\u001b[0;34m,\u001b[0m \u001b[0;34m*\u001b[0m\u001b[0margs\u001b[0m\u001b[0;34m,\u001b[0m \u001b[0;34m**\u001b[0m\u001b[0mkwargs\u001b[0m\u001b[0;34m)\u001b[0m\u001b[0;34m\u001b[0m\u001b[0m\n",
        "\u001b[0;32m/Library/Python/2.7/site-packages/root_numpy/__init__.py\u001b[0m in \u001b[0;36m<module>\u001b[0;34m()\u001b[0m\n\u001b[0;32m----> 1\u001b[0;31m from _root_numpy import (\n\u001b[0m\u001b[1;32m      2\u001b[0m     \u001b[0mroot2array\u001b[0m\u001b[0;34m,\u001b[0m \u001b[0mroot2rec\u001b[0m\u001b[0;34m,\u001b[0m\u001b[0;34m\u001b[0m\u001b[0m\n\u001b[1;32m      3\u001b[0m     \u001b[0mtree2array\u001b[0m\u001b[0;34m,\u001b[0m \u001b[0mtree2rec\u001b[0m\u001b[0;34m,\u001b[0m\u001b[0;34m\u001b[0m\u001b[0m\n\u001b[1;32m      4\u001b[0m     \u001b[0marray2tree\u001b[0m\u001b[0;34m,\u001b[0m \u001b[0marray2root\u001b[0m\u001b[0;34m,\u001b[0m\u001b[0;34m\u001b[0m\u001b[0m\n\u001b[1;32m      5\u001b[0m     \u001b[0mlist_trees\u001b[0m\u001b[0;34m,\u001b[0m \u001b[0mlist_branches\u001b[0m\u001b[0;34m,\u001b[0m \u001b[0mlist_structures\u001b[0m\u001b[0;34m,\u001b[0m\u001b[0;34m\u001b[0m\u001b[0m\n",
        "\u001b[0;32m/Library/Python/2.7/site-packages/root_numpy/_root_numpy.py\u001b[0m in \u001b[0;36m<module>\u001b[0;34m()\u001b[0m\n\u001b[1;32m      4\u001b[0m \u001b[0;32mfrom\u001b[0m \u001b[0mnumpy\u001b[0m\u001b[0;34m.\u001b[0m\u001b[0mlib\u001b[0m \u001b[0;32mimport\u001b[0m \u001b[0mrecfunctions\u001b[0m\u001b[0;34m\u001b[0m\u001b[0m\n\u001b[1;32m      5\u001b[0m \u001b[0;34m\u001b[0m\u001b[0m\n\u001b[0;32m----> 6\u001b[0;31m \u001b[0;32mimport\u001b[0m \u001b[0m_librootnumpy\u001b[0m\u001b[0;34m\u001b[0m\u001b[0m\n\u001b[0m\u001b[1;32m      7\u001b[0m \u001b[0;34m\u001b[0m\u001b[0m\n\u001b[1;32m      8\u001b[0m \u001b[0;31m# re-enable display of DeprecationWarning messages\u001b[0m\u001b[0;34m\u001b[0m\u001b[0;34m\u001b[0m\u001b[0m\n",
        "\u001b[0;31mImportError\u001b[0m: dlopen(/Library/Python/2.7/site-packages/root_numpy/_librootnumpy.so, 2): Symbol not found: __ZN7TObject13SavePrimitiveERNSt3__113basic_ostreamIcNS0_11char_traitsIcEEEEPKc\n  Referenced from: /Library/Python/2.7/site-packages/root_numpy/_librootnumpy.so\n  Expected in: flat namespace\n in /Library/Python/2.7/site-packages/root_numpy/_librootnumpy.so"
       ]
      },
      {
       "output_type": "stream",
       "stream": "stdout",
       "text": [
        "\n"
       ]
      }
     ],
     "prompt_number": 1
    },
    {
     "cell_type": "code",
     "collapsed": false,
     "input": [
      "\"__ZN7TObject13SavePrimitiveERNSt3__113basic_ostreamIcNS0_11char_traitsIcEEEEPKc\" == \\\n",
      "   \"__ZN7TObject13SavePrimitiveERNSt3__113basic_ostreamIcNS0_11char_traitsIcEEEEPKc\""
     ],
     "language": "python",
     "metadata": {},
     "outputs": [
      {
       "metadata": {},
       "output_type": "pyout",
       "prompt_number": 2,
       "text": [
        "True"
       ]
      }
     ],
     "prompt_number": 2
    },
    {
     "cell_type": "code",
     "collapsed": false,
     "input": [
      "\n",
      "import ROOT\n",
      " \n",
      "# create a TNtuple\n",
      "ntuple = ROOT.TNtuple(\"ntuple\",\"ntuple\",\"x:y:signal\")\n",
      " \n",
      "# generate 'signal' and 'background' distributions\n",
      "for i in range(10000):\n",
      "    # throw a signal event centered at (1,1)\n",
      "    ntuple.Fill(ROOT.gRandom.Gaus(1,1), # x\n",
      "                ROOT.gRandom.Gaus(1,1), # y\n",
      "                1)                      # signal\n",
      "     \n",
      "    # throw a background event centered at (-1,-1)\n",
      "    ntuple.Fill(ROOT.gRandom.Gaus(-1,1), # x\n",
      "                ROOT.gRandom.Gaus(-1,1), # y\n",
      "                0)                       # background"
     ],
     "language": "python",
     "metadata": {},
     "outputs": [],
     "prompt_number": 2
    },
    {
     "cell_type": "code",
     "collapsed": false,
     "input": [
      "# keeps objects otherwise removed by garbage collected in a list\n",
      "gcSaver = []\n",
      "# create a new TCanvas\n",
      "canvas = ROOT.TCanvas()\n",
      "gcSaver.append(canvas)\n",
      "\n",
      "# draw an empty 2D histogram for the axes\n",
      "histo = ROOT.TH2F(\"histo\",\"\",10,-5,5,10,-5,5)\n",
      "histo.Draw()\n",
      "\n",
      "# draw the signal events in red\n",
      "ntuple.SetMarkerColor(ROOT.kRed)\n",
      "ntuple.Draw(\"y:x\",\"signal > 0.5\",\"same\")\n",
      "# draw the background events in blue\n",
      "ntuple.SetMarkerColor(ROOT.kBlue)\n",
      "ntuple.Draw(\"y:x\",\"signal <= 0.5\",\"same\")\n",
      "# \u041c\u0443\u0436\u0438\u043a \u0432\u043e\u0442 \u044d\u0442\u043e \u0437\u0430\u0431\u044b\u043b\n",
      "canvas.Update()"
     ],
     "language": "python",
     "metadata": {},
     "outputs": [],
     "prompt_number": 3
    },
    {
     "cell_type": "markdown",
     "metadata": {},
     "source": [
      "The following code is inspired by the standard TMVA classification example ($ROOTSYS/tmva/test/TMVAClassification.C). \n",
      "\n",
      "First, we\u2019ll initialize TMVA and create a factory object:\n"
     ]
    },
    {
     "cell_type": "code",
     "collapsed": false,
     "input": [
      "ROOT.TMVA.Tools.Instance()\n",
      " \n",
      "# note that it seems to be mandatory to have an\n",
      "# output file, just passing None to TMVA::Factory(..)\n",
      "# does not work. Make sure you don't overwrite an\n",
      "# existing file.\n",
      "fout = ROOT.TFile(\"test.root\",\"RECREATE\")\n",
      "factory = ROOT.TMVA.Factory(\"TMVAClassification\", fout,\n",
      "                            \":\".join([\n",
      "                                \"!V\",\n",
      "                                \"!Silent\",\n",
      "                                \"Color\",\n",
      "#                                 \"DrawProgressBar\",\n",
      "                                \"Transformations=I;D;P;G,D\",\n",
      "                                \"AnalysisType=Classification\"]\n",
      "                                     ))"
     ],
     "language": "python",
     "metadata": {},
     "outputs": [],
     "prompt_number": 4
    },
    {
     "cell_type": "markdown",
     "metadata": {},
     "source": [
      "The parameters given to the constructor of ROOT.TMVA.Factory are described in section 3.1 of the current TMVA user\u2019s guide. Verbosity is disabled with the !V (\u2018not verbose\u2019) option while !Silent (\u2018not silent\u2019) still allows for some level of reporting. Color enables the use of color and DrawProgressBar enables displaying the progress of training. Currently, some of these options actually correspond to the default setting so need not necessarily be specified. <br /> The values given to the Transformations parameter only affect testing and visualization, not the training (according to the manual).\n",
      "\n",
      "Now we declare which variables should be used for classification (the \u2018independent\u2019 variables) and add the tree for signal and background events (which are stored in the same tree in this example, a cut on the variable signal is used to distinguish between signal and background events):"
     ]
    },
    {
     "cell_type": "code",
     "collapsed": false,
     "input": [
      "factory.AddVariable(\"x\",\"F\")\n",
      "factory.AddVariable(\"y\",\"F\") \n",
      "\n",
      "factory.AddSignalTree(ntuple)\n",
      "factory.AddBackgroundTree(ntuple)\n",
      "\n",
      "# cuts defining the signal and background sample\n",
      "sigCut = ROOT.TCut(\"signal > 0.5\")\n",
      "bgCut  = ROOT.TCut(\"signal <= 0.5\")\n",
      " \n",
      "factory.PrepareTrainingAndTestTree(sigCut,   # signal events\n",
      "                                   bgCut,    # background events\n",
      "                                   \":\".join([\n",
      "                                        \"nTrain_Signal=0\",\n",
      "                                        \"nTrain_Background=0\",\n",
      "                                        \"SplitMode=Random\",\n",
      "                                        \"NormMode=NumEvents\",\n",
      "                                        \"!V\"\n",
      "                                       ]))"
     ],
     "language": "python",
     "metadata": {},
     "outputs": [],
     "prompt_number": 5
    },
    {
     "cell_type": "code",
     "collapsed": false,
     "input": [
      "method = factory.BookMethod(ROOT.TMVA.Types.kBDT, \"BDT\",\n",
      "                   \":\".join([\n",
      "                       \"!H\",\n",
      "                       \"!V\",\n",
      "                       \"NTrees=850\",\n",
      "                       \"nEventsMin=150\",\n",
      "                       \"MaxDepth=3\",\n",
      "                       \"BoostType=AdaBoost\",\n",
      "                       \"AdaBoostBeta=0.5\",\n",
      "                       \"SeparationType=GiniIndex\",\n",
      "                       \"nCuts=20\",\n",
      "                       \"PruneMethod=NoPruning\",\n",
      "                       ]))\n",
      "method2 = factory.BookMethod(ROOT.TMVA.Types.kBDT, \"BDT2\",\n",
      "                   \":\".join([\n",
      "                       \"!H\",\n",
      "                       \"!V\",\n",
      "                       \"NTrees=850\",\n",
      "                       \"nEventsMin=150\",\n",
      "                       \"MaxDepth=3\",\n",
      "                       \"BoostType=AdaBoost\",\n",
      "                       \"AdaBoostBeta=0.5\",\n",
      "                       \"SeparationType=GiniIndex\",\n",
      "                       \"nCuts=20\",\n",
      "                       \"PruneMethod=NoPruning\",\n",
      "                       ])) \n",
      "factory.TrainAllMethods()\n",
      "factory.TestAllMethods()\n",
      "factory.EvaluateAllMethods()"
     ],
     "language": "python",
     "metadata": {},
     "outputs": [],
     "prompt_number": 6
    },
    {
     "cell_type": "markdown",
     "metadata": {},
     "source": [
      "The options (described in section 8.12.2 of the current TMVA user\u2019s guide) can be summarized as follows:\n",
      "\n",
      "* the help text should not be printed\n",
      "* verbosity is disabled\n",
      "* 850 trees should be used\n",
      "* leaf nodes must contain at least 150 events\n",
      "* the depth of the trees is limited to 3\n",
      "* adaptive boosting should be used\n",
      "* the Gini index should be used to select the best variable to be used in each tree node\n",
      "* 20 steps should be used when scanning cuts on a variable and\n",
      "* no pruning of trees after they have been constructed should be applied."
     ]
    },
    {
     "cell_type": "markdown",
     "metadata": {},
     "source": [
      "After running this, TMVA should have created a file weights/TMVAClassification_BDT.weights.xml \n",
      "which contains the structure of trained classifier. \n",
      "In order to evaluate the classification function at arbitrary coordinates, we create an instance of ROOT.TMVA.Reader:\n"
     ]
    },
    {
     "cell_type": "code",
     "collapsed": false,
     "input": [
      "reader = ROOT.TMVA.Reader()\n",
      "import array\n",
      "varx = array.array('f',[0]) ; reader.AddVariable(\"x\",varx)\n",
      "vary = array.array('f',[0]) ; reader.AddVariable(\"y\",vary)\n",
      "# Now that we have given the reader the variables x and y, we can read the weights file:\n",
      "reader.BookMVA(\"BDT\",\"weights/TMVAClassification_BDT.weights.xml\")\n",
      "# In order to plot the BDT output as function of x and y, we can use the following code snippet:\n",
      "# create a new 2D histogram with fine binning\n",
      "histo2 = ROOT.TH2F(\"histo2\",\"\",200,-5,5,200,-5,5)\n",
      "\n",
      "# loop over the bins of a 2D histogram\n",
      "for i in range(1, histo2.GetNbinsX() + 1):\n",
      "    for j in range(1, histo2.GetNbinsY() + 1):\n",
      "        # find the bin center coordinates\n",
      "        varx[0] = histo2.GetXaxis().GetBinCenter(i)\n",
      "        vary[0] = histo2.GetYaxis().GetBinCenter(j)\n",
      "        # calculate the value of the classifier\n",
      "        # function at the given coordinate\n",
      "        bdtOutput = reader.EvaluateMVA(\"BDT\")\n",
      "        # set the bin content equal to the classifier output\n",
      "        histo2.SetBinContent(i,j,bdtOutput)\n",
      "gcSaver.append(ROOT.TCanvas())\n",
      "histo2.Draw(\"colz\")\n",
      "\n",
      "## draw sigma contours around means\n",
      "# for mean, color in [((1,1), ROOT.kRed), ((-1,-1), ROOT.kBlue)]:\n",
      "    ## draw contours at 1 and 2 sigmas\n",
      "#     for numSigmas in [1,2]:\n",
      "#         circle = ROOT.TEllipse(mean[0], mean[1], numSigmas)\n",
      "#         circle.SetFillStyle(0)\n",
      "#         circle.SetLineColor(color)\n",
      "#         circle.SetLineWidth(2)\n",
      "#         circle.Draw()\n",
      "#         gcSaver.append(circle)\n",
      "# \u041d\u0435 \u043f\u043e\u043d\u044f\u043b, \u0437\u0430\u0447\u0435\u043c \u043e\u043d\u043e \u043d\u0430\u0434\u043e\n",
      "# ROOT.gPad.Modified()"
     ],
     "language": "python",
     "metadata": {},
     "outputs": [],
     "prompt_number": 7
    },
    {
     "cell_type": "code",
     "collapsed": false,
     "input": [
      "# varx[0] = 0.0\n",
      "# vary[0] = 0.0\n",
      "# calculate the value of the classifier\n",
      "# function at the given coordinate\n",
      "# bdtOutput = reader.EvaluateMVA(\"BDT\")\n",
      "# print bdtOutput"
     ],
     "language": "python",
     "metadata": {},
     "outputs": [
      {
       "output_type": "stream",
       "stream": "stdout",
       "text": [
        "-0.0107418705276\n"
       ]
      }
     ],
     "prompt_number": 15
    },
    {
     "cell_type": "markdown",
     "metadata": {},
     "source": [
      "The overlaid ellipses are the one and two sigma contours around the mean signal and background. Note that these are ellipses because the x and y axes have a different scale. One can nicely see how the classifier approximates the Gaussian distributions with a set of trees representing rectangular regions.\n",
      "\n",
      "Typically, one also wants to look at the distribution of the classifier output for signal and background, e.g. to get an idea how well the two samples can be separated (although the ROC curve is more suitable for comparing the performance of different classifiers). TMVA fills a tree for the events in the test sample which we can use for this purpose:"
     ]
    },
    {
     "cell_type": "code",
     "collapsed": false,
     "input": [
      "# fill histograms for signal and background from the test sample tree\n",
      "ROOT.TestTree.Draw(\"BDT>>hSig(22,-1.1,1.1)\",\"classID == 0\",\"goff\")  # signal\n",
      "ROOT.TestTree.Draw(\"BDT>>hBg(22,-1.1,1.1)\",\"classID == 1\", \"goff\")  # background\n",
      " \n",
      "ROOT.hSig.SetLineColor(ROOT.kRed); ROOT.hSig.SetLineWidth(2)  # signal histogram\n",
      "ROOT.hBg.SetLineColor(ROOT.kBlue); ROOT.hBg.SetLineWidth(2)   # background histogram\n",
      " \n",
      "# use a THStack to show both histograms\n",
      "hs = ROOT.THStack(\"hs\",\"\")\n",
      "hs.Add(ROOT.hSig)\n",
      "hs.Add(ROOT.hBg)\n",
      " \n",
      "# show the histograms\n",
      "gcSaver.append(ROOT.TCanvas())\n",
      "hs.Draw()"
     ],
     "language": "python",
     "metadata": {},
     "outputs": [],
     "prompt_number": 9
    },
    {
     "cell_type": "code",
     "collapsed": false,
     "input": [
      "import ROOT\n",
      "\n",
      "# create a TNtuple\n",
      "ntuple = ROOT.TNtuple(\"testTree\",\"testTree title\",\"x:y:signal\")\n",
      " \n",
      "# generate 'signal' and 'background' distributions\n",
      "for i in range(10000):\n",
      "    # throw a signal event centered at (1,1)\n",
      "    ntuple.Fill(ROOT.gRandom.Gaus(1,1), # x\n",
      "                ROOT.gRandom.Gaus(1,1), # y\n",
      "                1)                      # signal\n",
      "     \n",
      "    # throw a background event centered at (-1,-1)\n",
      "    ntuple.Fill(ROOT.gRandom.Gaus(-1,1), # x\n",
      "                ROOT.gRandom.Gaus(-1,1), # y\n",
      "                0)                       # background\n",
      "ntuple.SaveAs(\"testInput.root\")\n"
     ],
     "language": "python",
     "metadata": {},
     "outputs": [],
     "prompt_number": 10
    },
    {
     "cell_type": "code",
     "collapsed": false,
     "input": [
      "import ROOT\n",
      "# \u041e\u0442\u043a\u0440\u044b\u0432\u0430\u0435\u043c \u043d\u0435\u043a\u0438\u0439 \u0444\u0430\u0439\u043b\n",
      "rootFile = ROOT.TFile.Open(\"testInput.root\")\n",
      "# \u0414\u0435\u043b\u0438\u043c \u043d\u0430 test \u0438 train\n",
      "\n",
      "# wtf? What is this for?\n",
      "ROOT.TMVA.Tools.Instance()\n",
      "\n",
      "outFile = ROOT.TFile(\"testOutput.root\",\"RECREATE\")\n",
      "factory = ROOT.TMVA.Factory(\"TMVAClassification\", outFile,\n",
      "                            \":\".join([\n",
      "                                \"!V\",\n",
      "                                \"!Silent\",\n",
      "                                \"Color\",\n",
      "#                                 \"DrawProgressBar\",\n",
      "                                \"Transformations=I;D;P;G,D\",\n",
      "                                \"AnalysisType=Classification\"]\n",
      "                                     ))\n",
      "\n",
      "factory.AddVariable(\"x\",\"F\")\n",
      "factory.AddVariable(\"y\",\"F\") "
     ],
     "language": "python",
     "metadata": {},
     "outputs": [],
     "prompt_number": 4
    },
    {
     "cell_type": "code",
     "collapsed": false,
     "input": [
      "rootFile."
     ],
     "language": "python",
     "metadata": {},
     "outputs": []
    },
    {
     "cell_type": "code",
     "collapsed": false,
     "input": [
      "# factory.AddSignalTree(ntuple)\n",
      "factory.AddSignalTree(rootFile.testTree)\n",
      "# factory.AddBackgroundTree(ntuple)\n",
      "factory.AddBackgroundTree(rootFile.testTree)\n",
      "\n",
      "# cuts defining the signal and background sample\n",
      "sigCut = ROOT.TCut(\"signal >  0.5\")\n",
      "bgCut  = ROOT.TCut(\"signal <= 0.5\")\n",
      "\n",
      "\n",
      "factory.PrepareTrainingAndTestTree(sigCut,   # signal events\n",
      "                                   bgCut,    # background events\n",
      "                                   \":\".join([\n",
      "                                        \"nTrain_Signal=0\",\n",
      "                                        \"nTrain_Background=0\",\n",
      "                                        \"SplitMode=Random\",\n",
      "                                        \"NormMode=NumEvents\",\n",
      "                                        \"!V\"\n",
      "                                       ]))"
     ],
     "language": "python",
     "metadata": {},
     "outputs": [],
     "prompt_number": 5
    },
    {
     "cell_type": "code",
     "collapsed": false,
     "input": [
      "# \u0417\u0430\u043f\u0443\u0441\u043a\u0430\u0435\u043c BDT \u043d\u0430 \u043f\u0430\u0440\u0435 \u043f\u0440\u0438\u0437\u043d\u0430\u043a\u043e\u0432\n",
      "method2 = factory.BookMethod(ROOT.TMVA.Types.kBDT, \"BDT3\",\n",
      "                   \":\".join([\n",
      "                       \"!H\",\n",
      "                       \"!V\",\n",
      "                       \"NTrees=150\", # 850 was before\n",
      "                       \"nEventsMin=150\",\n",
      "                       \"MaxDepth=3\",\n",
      "                       \"BoostType=AdaBoost\",\n",
      "                       \"AdaBoostBeta=0.5\",\n",
      "                       \"SeparationType=GiniIndex\",\n",
      "                       \"nCuts=20\",\n",
      "                       \"PruneMethod=NoPruning\",\n",
      "                       ])) "
     ],
     "language": "python",
     "metadata": {},
     "outputs": [],
     "prompt_number": 6
    },
    {
     "cell_type": "code",
     "collapsed": false,
     "input": [
      "factory.TrainAllMethods()\n",
      "factory.TestAllMethods()\n",
      "factory.EvaluateAllMethods()\n",
      "factory.CheckForUnusedOptions()"
     ],
     "language": "python",
     "metadata": {},
     "outputs": [],
     "prompt_number": 7
    },
    {
     "cell_type": "code",
     "collapsed": false,
     "input": [
      "# \u0427\u0438\u0442\u0430\u0435\u043c \u0434\u0432\u0435 \u043a\u043e\u043b\u043e\u043d\u043a\u0438 (\u0432\u043e\u043e\u0431\u0449\u0435 \u0433\u043e\u0432\u043e\u0440\u044f, \u043d\u0443 \u043d\u0430\u0444\u0438\u0433, \u0447\u0438\u0442\u0430\u0435\u043c \u0432\u0441\u0435, \u043f\u043e\u0442\u043e\u043c \u0440\u0430\u0437\u0431\u0438\u0440\u0430\u0435\u043c\u0441\u044f)\n",
      "\n",
      "df = ReadDataToSingleDataframe([\"testOutput.root\"])\n",
      "\n"
     ],
     "language": "python",
     "metadata": {},
     "outputs": [
      {
       "output_type": "stream",
       "stream": "stderr",
       "text": [
        "WARNING:ROOT.TFile.Init:file testOutput.root probably not closed, trying to recover\n"
       ]
      },
      {
       "output_type": "stream",
       "stream": "stderr",
       "text": [
        "WARNING:ROOT.TFile.Init:successfully recovered 9 keys\n"
       ]
      },
      {
       "ename": "ImportError",
       "evalue": "dlopen(/Users/axelr/Library/Python/2.7/lib/python/site-packages/root_numpy/_librootnumpy.so, 2): Symbol not found: __ZN7TObject13SavePrimitiveERNSt3__113basic_ostreamIcNS0_11char_traitsIcEEEEPKc\n  Referenced from: /Users/axelr/Library/Python/2.7/lib/python/site-packages/root_numpy/_librootnumpy.so\n  Expected in: flat namespace\n in /Users/axelr/Library/Python/2.7/lib/python/site-packages/root_numpy/_librootnumpy.so",
       "output_type": "pyerr",
       "traceback": [
        "\u001b[0;31m---------------------------------------------------------------------------\u001b[0m\n\u001b[0;31mImportError\u001b[0m                               Traceback (most recent call last)",
        "\u001b[0;32m<ipython-input-2-de7b350fb4f4>\u001b[0m in \u001b[0;36m<module>\u001b[0;34m()\u001b[0m\n\u001b[1;32m      1\u001b[0m \u001b[0;31m# \u0427\u0438\u0442\u0430\u0435\u043c \u0434\u0432\u0435 \u043a\u043e\u043b\u043e\u043d\u043a\u0438 (\u0432\u043e\u043e\u0431\u0449\u0435 \u0433\u043e\u0432\u043e\u0440\u044f, \u043d\u0443 \u043d\u0430\u0444\u0438\u0433, \u0447\u0438\u0442\u0430\u0435\u043c \u0432\u0441\u0435, \u043f\u043e\u0442\u043e\u043c \u0440\u0430\u0437\u0431\u0438\u0440\u0430\u0435\u043c\u0441\u044f)\u001b[0m\u001b[0;34m\u001b[0m\u001b[0;34m\u001b[0m\u001b[0m\n\u001b[1;32m      2\u001b[0m \u001b[0;34m\u001b[0m\u001b[0m\n\u001b[0;32m----> 3\u001b[0;31m \u001b[0mdf\u001b[0m \u001b[0;34m=\u001b[0m \u001b[0mReadDataToSingleDataframe\u001b[0m\u001b[0;34m(\u001b[0m\u001b[0;34m[\u001b[0m\u001b[0;34m\"testOutput.root\"\u001b[0m\u001b[0;34m]\u001b[0m\u001b[0;34m)\u001b[0m\u001b[0;34m\u001b[0m\u001b[0m\n\u001b[0m\u001b[1;32m      4\u001b[0m \u001b[0;34m\u001b[0m\u001b[0m\n",
        "\u001b[0;32m<ipython-input-1-dd3118ba9945>\u001b[0m in \u001b[0;36mReadDataToSingleDataframe\u001b[0;34m(files)\u001b[0m\n\u001b[1;32m     33\u001b[0m     \u001b[0mdataFrames\u001b[0m \u001b[0;34m=\u001b[0m \u001b[0;34m[\u001b[0m\u001b[0;34m]\u001b[0m\u001b[0;34m\u001b[0m\u001b[0m\n\u001b[1;32m     34\u001b[0m     \u001b[0;32mfor\u001b[0m \u001b[0mdataFile\u001b[0m \u001b[0;32min\u001b[0m \u001b[0mfiles\u001b[0m\u001b[0;34m:\u001b[0m\u001b[0;34m\u001b[0m\u001b[0m\n\u001b[0;32m---> 35\u001b[0;31m         \u001b[0mdf\u001b[0m \u001b[0;34m=\u001b[0m \u001b[0mReadROOTFileToPandas\u001b[0m\u001b[0;34m(\u001b[0m\u001b[0mdataFile\u001b[0m\u001b[0;34m)\u001b[0m\u001b[0;34m\u001b[0m\u001b[0m\n\u001b[0m\u001b[1;32m     36\u001b[0m         \u001b[0mdataFrames\u001b[0m\u001b[0;34m.\u001b[0m\u001b[0mappend\u001b[0m\u001b[0;34m(\u001b[0m\u001b[0mdf\u001b[0m\u001b[0;34m)\u001b[0m\u001b[0;34m\u001b[0m\u001b[0m\n\u001b[1;32m     37\u001b[0m     \u001b[0;31m# todo throw an exception if dataFrames have different columns\u001b[0m\u001b[0;34m\u001b[0m\u001b[0;34m\u001b[0m\u001b[0m\n",
        "\u001b[0;32m<ipython-input-1-dd3118ba9945>\u001b[0m in \u001b[0;36mReadROOTFileToPandas\u001b[0;34m(fileName)\u001b[0m\n\u001b[1;32m     11\u001b[0m                     \u001b[0;32mprint\u001b[0m \u001b[0;34m\"Adding a tree named \"\u001b[0m \u001b[0;34m+\u001b[0m \u001b[0mobjName\u001b[0m \u001b[0;34m+\u001b[0m \u001b[0;34m\" from file \"\u001b[0m \u001b[0;34m+\u001b[0m \u001b[0mfileName\u001b[0m\u001b[0;34m\u001b[0m\u001b[0m\n\u001b[1;32m     12\u001b[0m                     \u001b[0mtree\u001b[0m \u001b[0;34m=\u001b[0m \u001b[0mobj\u001b[0m\u001b[0;34m\u001b[0m\u001b[0m\n\u001b[0;32m---> 13\u001b[0;31m                     \u001b[0mnumpy_array\u001b[0m \u001b[0;34m=\u001b[0m \u001b[0mtree\u001b[0m\u001b[0;34m.\u001b[0m\u001b[0mto_array\u001b[0m\u001b[0;34m(\u001b[0m\u001b[0;34m)\u001b[0m\u001b[0;34m\u001b[0m\u001b[0m\n\u001b[0m\u001b[1;32m     14\u001b[0m                     \u001b[0mdataFrame\u001b[0m \u001b[0;34m=\u001b[0m \u001b[0mpandas\u001b[0m\u001b[0;34m.\u001b[0m\u001b[0mDataFrame\u001b[0m\u001b[0;34m(\u001b[0m\u001b[0mnumpy_array\u001b[0m\u001b[0;34m)\u001b[0m\u001b[0;34m\u001b[0m\u001b[0m\n\u001b[1;32m     15\u001b[0m                     \u001b[0;32mprint\u001b[0m \u001b[0;34m\"success, features:\"\u001b[0m\u001b[0;34m,\u001b[0m \u001b[0mlen\u001b[0m\u001b[0;34m(\u001b[0m\u001b[0mdataFrame\u001b[0m\u001b[0;34m.\u001b[0m\u001b[0mcolumns\u001b[0m\u001b[0;34m)\u001b[0m\u001b[0;34m,\u001b[0m \u001b[0;34m\"events\"\u001b[0m \u001b[0;34m,\u001b[0m\u001b[0mlen\u001b[0m\u001b[0;34m(\u001b[0m\u001b[0mdataFrame\u001b[0m\u001b[0;34m)\u001b[0m\u001b[0;34m\u001b[0m\u001b[0m\n",
        "\u001b[0;32m/Library/Python/2.7/site-packages/rootpy/tree/tree.pyc\u001b[0m in \u001b[0;36mto_array\u001b[0;34m(self, *args, **kwargs)\u001b[0m\n\u001b[1;32m    773\u001b[0m         \u001b[0mConvert\u001b[0m \u001b[0mthis\u001b[0m \u001b[0mtree\u001b[0m \u001b[0minto\u001b[0m \u001b[0ma\u001b[0m \u001b[0mNumPy\u001b[0m \u001b[0mstructured\u001b[0m \u001b[0marray\u001b[0m\u001b[0;34m\u001b[0m\u001b[0m\n\u001b[1;32m    774\u001b[0m         \"\"\"\n\u001b[0;32m--> 775\u001b[0;31m         \u001b[0;32mfrom\u001b[0m \u001b[0mroot_numpy\u001b[0m \u001b[0;32mimport\u001b[0m \u001b[0mtree2array\u001b[0m\u001b[0;34m\u001b[0m\u001b[0m\n\u001b[0m\u001b[1;32m    776\u001b[0m         \u001b[0;32mreturn\u001b[0m \u001b[0mtree2array\u001b[0m\u001b[0;34m(\u001b[0m\u001b[0mself\u001b[0m\u001b[0;34m,\u001b[0m \u001b[0;34m*\u001b[0m\u001b[0margs\u001b[0m\u001b[0;34m,\u001b[0m \u001b[0;34m**\u001b[0m\u001b[0mkwargs\u001b[0m\u001b[0;34m)\u001b[0m\u001b[0;34m\u001b[0m\u001b[0m\n",
        "\u001b[0;32m/Users/axelr/Library/Python/2.7/lib/python/site-packages/root_numpy/__init__.py\u001b[0m in \u001b[0;36m<module>\u001b[0;34m()\u001b[0m\n\u001b[0;32m----> 1\u001b[0;31m from _root_numpy import (\n\u001b[0m\u001b[1;32m      2\u001b[0m     \u001b[0mroot2array\u001b[0m\u001b[0;34m,\u001b[0m \u001b[0mroot2rec\u001b[0m\u001b[0;34m,\u001b[0m\u001b[0;34m\u001b[0m\u001b[0m\n\u001b[1;32m      3\u001b[0m     \u001b[0mtree2array\u001b[0m\u001b[0;34m,\u001b[0m \u001b[0mtree2rec\u001b[0m\u001b[0;34m,\u001b[0m\u001b[0;34m\u001b[0m\u001b[0m\n\u001b[1;32m      4\u001b[0m     \u001b[0marray2tree\u001b[0m\u001b[0;34m,\u001b[0m \u001b[0marray2root\u001b[0m\u001b[0;34m,\u001b[0m\u001b[0;34m\u001b[0m\u001b[0m\n\u001b[1;32m      5\u001b[0m     \u001b[0mlist_trees\u001b[0m\u001b[0;34m,\u001b[0m \u001b[0mlist_branches\u001b[0m\u001b[0;34m,\u001b[0m \u001b[0mlist_structures\u001b[0m\u001b[0;34m,\u001b[0m\u001b[0;34m\u001b[0m\u001b[0m\n",
        "\u001b[0;32m/Users/axelr/Library/Python/2.7/lib/python/site-packages/root_numpy/_root_numpy.py\u001b[0m in \u001b[0;36m<module>\u001b[0;34m()\u001b[0m\n\u001b[1;32m      4\u001b[0m \u001b[0;32mfrom\u001b[0m \u001b[0mnumpy\u001b[0m\u001b[0;34m.\u001b[0m\u001b[0mlib\u001b[0m \u001b[0;32mimport\u001b[0m \u001b[0mrecfunctions\u001b[0m\u001b[0;34m\u001b[0m\u001b[0m\n\u001b[1;32m      5\u001b[0m \u001b[0;34m\u001b[0m\u001b[0m\n\u001b[0;32m----> 6\u001b[0;31m \u001b[0;32mimport\u001b[0m \u001b[0m_librootnumpy\u001b[0m\u001b[0;34m\u001b[0m\u001b[0m\n\u001b[0m\u001b[1;32m      7\u001b[0m \u001b[0;34m\u001b[0m\u001b[0m\n\u001b[1;32m      8\u001b[0m \u001b[0;31m# re-enable display of DeprecationWarning messages\u001b[0m\u001b[0;34m\u001b[0m\u001b[0;34m\u001b[0m\u001b[0m\n",
        "\u001b[0;31mImportError\u001b[0m: dlopen(/Users/axelr/Library/Python/2.7/lib/python/site-packages/root_numpy/_librootnumpy.so, 2): Symbol not found: __ZN7TObject13SavePrimitiveERNSt3__113basic_ostreamIcNS0_11char_traitsIcEEEEPKc\n  Referenced from: /Users/axelr/Library/Python/2.7/lib/python/site-packages/root_numpy/_librootnumpy.so\n  Expected in: flat namespace\n in /Users/axelr/Library/Python/2.7/lib/python/site-packages/root_numpy/_librootnumpy.so"
       ]
      },
      {
       "output_type": "stream",
       "stream": "stdout",
       "text": [
        "Adding a tree named TrainTree from file testOutput.root\n"
       ]
      }
     ],
     "prompt_number": 2
    },
    {
     "cell_type": "code",
     "collapsed": false,
     "input": [
      "hist( df[df.classID == 1].BDT3 )\n",
      "hist( df[df.classID == 0].BDT3 )"
     ],
     "language": "python",
     "metadata": {},
     "outputs": [
      {
       "ename": "NameError",
       "evalue": "name 'hist' is not defined",
       "output_type": "pyerr",
       "traceback": [
        "\u001b[0;31m---------------------------------------------------------------------------\u001b[0m\n\u001b[0;31mNameError\u001b[0m                                 Traceback (most recent call last)",
        "\u001b[0;32m<ipython-input-6-b934e79da7a4>\u001b[0m in \u001b[0;36m<module>\u001b[0;34m()\u001b[0m\n\u001b[1;32m      1\u001b[0m \u001b[0;34m\u001b[0m\u001b[0m\n\u001b[0;32m----> 2\u001b[0;31m \u001b[0mhist\u001b[0m\u001b[0;34m(\u001b[0m \u001b[0mdf\u001b[0m\u001b[0;34m[\u001b[0m\u001b[0mdf\u001b[0m\u001b[0;34m.\u001b[0m\u001b[0mclassID\u001b[0m \u001b[0;34m==\u001b[0m \u001b[0;36m1\u001b[0m\u001b[0;34m]\u001b[0m\u001b[0;34m.\u001b[0m\u001b[0mBDT3\u001b[0m \u001b[0;34m)\u001b[0m\u001b[0;34m\u001b[0m\u001b[0m\n\u001b[0m\u001b[1;32m      3\u001b[0m \u001b[0mhist\u001b[0m\u001b[0;34m(\u001b[0m \u001b[0mdf\u001b[0m\u001b[0;34m[\u001b[0m\u001b[0mdf\u001b[0m\u001b[0;34m.\u001b[0m\u001b[0mclassID\u001b[0m \u001b[0;34m==\u001b[0m \u001b[0;36m0\u001b[0m\u001b[0;34m]\u001b[0m\u001b[0;34m.\u001b[0m\u001b[0mBDT3\u001b[0m \u001b[0;34m)\u001b[0m\u001b[0;34m\u001b[0m\u001b[0m\n",
        "\u001b[0;31mNameError\u001b[0m: name 'hist' is not defined"
       ]
      }
     ],
     "prompt_number": 6
    },
    {
     "cell_type": "code",
     "collapsed": false,
     "input": [
      "browser = ROOT.TBrowser()\n",
      "# factory.Browse(browser)"
     ],
     "language": "python",
     "metadata": {},
     "outputs": [],
     "prompt_number": 3
    },
    {
     "cell_type": "code",
     "collapsed": false,
     "input": [
      "class TMVAFactory:\n",
      "    def __init__(self, signalFilenames, bgFilenames, trainFeatures, \n",
      "                 outputFile = None, options = None):\n",
      "        self._classifiers = None\n",
      "        self._signalFilenmes = signalFilenames\n",
      "        self._bgFilenames = bgFilenames\n",
      "        self._signalCut = \"\"\n",
      "        self._bgCut = \"\"\n",
      "        self._trainFeatures = trainFeatures\n",
      "        # this will keep \n",
      "        self._trainTestFile = None\n",
      "        if os.path.exists(outputFile):\n",
      "            raise (\"The file %s already exists\" % outputFile)\n",
      "        self._outputFilename = # generate\n",
      "        self._outFile =  ROOT.TFile(self._outputFilename,\"RECREATE\")\n",
      "        if options is None:\n",
      "            options = []\n",
      "        options += [\"!V\", \"!Silent\", \"Color\", \n",
      "                    \"Transformations=I;D;P;G,D\",\n",
      "                    \"AnalysisType=Classification\"]\n",
      "        self._factory = ROOT.TMVA.Factory(\"TMVAClassification\", outFile, \":\".join(options))\n",
      "\n",
      "    def SetCuts(signalCut = \"\", bgCut = \"\"):    \n",
      "        self._signalCut = signalCut\n",
      "        self._bgCut = bgCut\n",
      "        # TODO parse cuts and make sure all the variables \n",
      "        # do exist in the files\n",
      "    def AddTMVAClassifier(classifier, name, options):\n",
      "        pass\n",
      "    def PlotRocCurves(classifiers = None):\n",
      "        pass\n",
      "    def GetClassifier():\n",
      "        pass\n",
      "    def PlotCorrelations(classifiers = None, correlationVariableName = \"\", \n",
      "                         scoreFunction = Efficiency ):\n",
      "        pass\n",
      "    def PlotSignal(classifiers = None):\n",
      "        pass\n",
      "    def GetPredictionProbas():\n",
      "        pass"
     ],
     "language": "python",
     "metadata": {},
     "outputs": [
      {
       "ename": "NameError",
       "evalue": "name 'rootFile' is not defined",
       "output_type": "pyerr",
       "traceback": [
        "\u001b[1;31m---------------------------------------------------------------------------\u001b[0m\n\u001b[1;31mNameError\u001b[0m                                 Traceback (most recent call last)",
        "\u001b[1;32m<ipython-input-1-cf0b36f6fbdf>\u001b[0m in \u001b[0;36m<module>\u001b[1;34m()\u001b[0m\n\u001b[1;32m----> 1\u001b[1;33m \u001b[0mrootFile\u001b[0m\u001b[1;33m.\u001b[0m\u001b[0mTrainTree\u001b[0m\u001b[1;33m.\u001b[0m\u001b[0mcolumns\u001b[0m\u001b[1;33m\u001b[0m\u001b[0m\n\u001b[0m",
        "\u001b[1;31mNameError\u001b[0m: name 'rootFile' is not defined"
       ]
      }
     ],
     "prompt_number": 1
    },
    {
     "cell_type": "code",
     "collapsed": false,
     "input": [],
     "language": "python",
     "metadata": {},
     "outputs": [],
     "prompt_number": 13
    }
   ],
   "metadata": {}
  }
 ]
}