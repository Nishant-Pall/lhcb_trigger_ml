{
 "metadata": {
  "name": ""
 },
 "nbformat": 3,
 "nbformat_minor": 0,
 "worksheets": [
  {
   "cells": [
    {
     "cell_type": "code",
     "collapsed": false,
     "input": [
      "# TODELETE THIS FILE\n",
      "import pandas"
     ],
     "language": "python",
     "metadata": {},
     "outputs": [],
     "prompt_number": 5
    },
    {
     "cell_type": "code",
     "collapsed": false,
     "input": [
      "def GetRandom(candidates, allWeights):\n",
      "    \"\"\"\n",
      "    weights - probabilities of all elements \n",
      "    candidates - (numpy.array), we choose among them according to their weights,\n",
      "       canidates are indices of weights array\n",
      "    very simple (but in this case quite efficient) implementation\n",
      "    \"\"\"\n",
      "    weights = allWeights[candidates]\n",
      "    p = random.random() * sum(weights)\n",
      "    for i in range(len(candidates)):\n",
      "        p -= weights[i]\n",
      "        if p < 0:\n",
      "            return candidates[i]\n",
      "    return candidates[-1]\n",
      "    \n",
      "def TestGetRandom():\n",
      "    res = []\n",
      "    candidates = [2*i+1 for i in range(10)]\n",
      "    weights = numpy.array(range(30))**2\n",
      "    \n",
      "    for _ in range(1000):\n",
      "        res.append(GetRandom(candidates, weights))\n",
      "        \n",
      "    for x in res:\n",
      "        assert x in candidates, \"GetRandom gives unexpected result\"\n",
      "    res = numpy.array(res)\n",
      "    probs = [numpy.sum(res == x) for x in candidates]\n",
      "    probs = numpy.array(probs) * 1.0 / len(res) \n",
      "    w = weights[candidates] * 1.0 / sum(weights[candidates])\n",
      "    mse =  numpy.sum((probs - w) **2)\n",
      "    assert mse < 0.004, \"MSE of getRandom is too big\"\n",
      "    print \"GetRandom is ok\"\n",
      "    \n",
      "TestGetRandom()"
     ],
     "language": "python",
     "metadata": {},
     "outputs": [
      {
       "output_type": "stream",
       "stream": "stdout",
       "text": [
        "GetRandom is ok\n"
       ]
      }
     ],
     "prompt_number": 1
    },
    {
     "cell_type": "code",
     "collapsed": false,
     "input": [
      "def CountProbabilities(weights, knn):\n",
      "    \"\"\"\n",
      "    Computes probabilities of all point to be choosen as the second point in pair\n",
      "    * knn is array or dictinary which contains indices of neaest neighbors\n",
      "    * weights is an array of weights used \n",
      "    \"\"\"\n",
      "    size = len(knn)\n",
      "    sumWeights = numpy.zeros(size)\n",
      "    for i in range(size):\n",
      "        sumWeights[i] = numpy.sum(weights[knn[i]])\n",
      "    inverseWeights = sumWeights ** -1\n",
      "    probabilities = weights + 0.0\n",
      "    for i in range(size):\n",
      "        probabilities[i] *= numpy.sum(inverseWeights[knn[i]])\n",
      "    return probabilities\n",
      "    "
     ],
     "language": "python",
     "metadata": {},
     "outputs": [],
     "prompt_number": 2
    },
    {
     "cell_type": "code",
     "collapsed": false,
     "input": [
      "def GenerateToyMonteCarlo(inputDF, size, knn = 4, symmetrize = True, power = 2.0, reweightIterations = 6):\n",
      "    \"\"\"\n",
      "    Generates set of events with the same distribution as in inputDF\n",
      "    Referred as SMOTE in the ML papers\n",
      "    inputDF - numpy.ndarray or pandas.Dataframe\n",
      "    size - how many new events to generate\n",
      "    symmetrize - if symmetrize, knn will be computed in symmetric way: if a in knn of b, \n",
      "        then b in knn of a, this helps to fight covariance shrinking\n",
      "    power - instead of uniform distribution, makes the point to need to one of initial points \n",
      "        (the greater, the closer to first point)\n",
      "    reweightIterations - an iterative algorithm, which changes the probabilities so that all the points have \n",
      "        equal probability to be chosen as neighbour\n",
      "    \"\"\"\n",
      "    inputDF = pandas.DataFrame(inputDF)\n",
      "    if len(inputDF) <= 2:\n",
      "        # print \"unable to generate new events with only one-two given\"\n",
      "        return inputDF\n",
      "\n",
      "    if knn is None:\n",
      "        knn = int(math.pow(len(inputDF), 0.33)) / 2 \n",
      "        knn = max(knn, 2)\n",
      "        knn = min(knn, 25)\n",
      "        knn = min(knn, len(inputDF))\n",
      "\n",
      "    assert knn > 0, \"knn should be positive\"\n",
      "\n",
      "    neighboursHelper = NearestNeighbors(n_neighbors = knn, algorithm = 'ball_tree')\n",
      "    neighboursHelper.fit(inputDF)\n",
      "    neighbours = neighboursHelper.kneighbors(inputDF, return_distance = False)\n",
      "    probabilities = numpy.zeros(len(neighbours)) + 0.01\n",
      "    twoSideNeighbours = {}\n",
      "    for i in range(len(neighbours)):\n",
      "        twoSideNeighbours[i] = list(neighbours[i][1:])\n",
      "    if symmetrize:\n",
      "        for i in range(len(neighbours)):\n",
      "            for n in neighbours[i]:\n",
      "                twoSideNeighbours[n].append(i)\n",
      "    \n",
      "    weights = numpy.zeros(len(neighbours)) + 1\n",
      "    for _ in range(reweightIterations):\n",
      "        probs = CountProbabilities(weights, twoSideNeighbours)\n",
      "        weights *= (probs ** -0.5)\n",
      "        \n",
      "    newEvents = []\n",
      "    inputLength = len(inputDF)\n",
      "    for i in range(size):\n",
      "        k = random.randint(0, inputLength - 1)\n",
      "        # neighs = neighboursHelper.kneighbors(inputDF.irow(k), return_distance = False)[0]\n",
      "        neighs = twoSideNeighbours[k]\n",
      "        selectedNeigh = GetRandom(neighs, weights)\n",
      "        # from 0 to 1/2\n",
      "        t = 0.5 * random.random() ** power\n",
      "\n",
      "        newEvent = (1.0 - t) * inputDF.irow(k) + t * inputDF.irow(selectedNeigh)\n",
      "        newEvents.append(newEvent)\n",
      "    result = pandas.DataFrame(newEvents)\n",
      "    result.set_index([range(len(result))], inplace = True)\n",
      "    \n",
      "    return result"
     ],
     "language": "python",
     "metadata": {},
     "outputs": [],
     "prompt_number": 3
    },
    {
     "cell_type": "code",
     "collapsed": false,
     "input": [
      "def GenerateToyMonteCarloWithSpectialFeatures(inputDF, size, clusterizationFeatures = None, integerFeatures = None):\n",
      "    \"\"\"\n",
      "    Excluded features - features we absolutely don't take into account\n",
      "    ClusterizationFeatures - very close to integer ones, usually have some bool or integer values,\n",
      "        but events with different values in these columns should not be mixed together\n",
      "        example: 'isSignal', number of muons\n",
      "    IntegerFeatures - (rarely used) features that have some discrete values, but events can be mixed together\n",
      "        if they have different values in these columns, the result will be integer\n",
      "        example: some weight of event, which should be integer due to technical restrictions\n",
      "    \"\"\"\n",
      "    stayedFeatures = [col for col in inputDF.columns if col not in clusterizationFeatures] \n",
      "    sizeCoeff = size / 1.0 / len(inputDF)\n",
      "    if integerFeatures is None:\n",
      "        integerFeatures = []\n",
      "    if clusterizationFeatures is None:\n",
      "        clusterizationFeatures = []\n",
      "    if(len(clusterizationFeatures) == 0):\n",
      "        result = GenerateToyMonteCarlo(inputDF,  int(len(inputDF) * sizeCoeff), knn = None )\n",
      "    else:\n",
      "        grouped = inputDF.groupby(clusterizationFeatures)\n",
      "        toyMCparts = []\n",
      "        print \"Groups: \", len(grouped)\n",
      "        for groupVals, df in grouped:\n",
      "            # print groupVals, len(df)\n",
      "            toyMCPart = GenerateToyMonteCarlo(df[stayedFeatures],  int(len(df) * sizeCoeff), knn = None )\n",
      "            i = 0\n",
      "            for col in clusterizationFeatures:\n",
      "                toyMCPart[col] = groupVals[i]\n",
      "                i+=1\n",
      "            toyMCparts.append(toyMCPart)\n",
      "        result = pandas.concat(toyMCparts)\n",
      "    for col in integerFeatures:\n",
      "        result[col] = result[col].astype(np.int)\n",
      "    return result"
     ],
     "language": "python",
     "metadata": {},
     "outputs": [],
     "prompt_number": 4
    },
    {
     "cell_type": "code",
     "collapsed": false,
     "input": [
      "df = pandas.read_csv(\"/Users/axelr/Downloads/A_folds_0_nfolds_2.csv\", sep='\\t')"
     ],
     "language": "python",
     "metadata": {},
     "outputs": [],
     "prompt_number": 6
    },
    {
     "cell_type": "code",
     "collapsed": false,
     "input": [
      "excludedFeatures=[\"MN_weight\"], \n",
      "clusterizationFeatures=[\"isolationd\", \"isolatione\", \"isolationf\", \"is_signal\"]"
     ],
     "language": "python",
     "metadata": {},
     "outputs": []
    },
    {
     "cell_type": "code",
     "collapsed": false,
     "input": [
      "def SigmoidFunction(X):\n",
      "    return 1.0 / (1 + numpy.exp(-X * 100000))\n",
      "\n",
      "X = numpy.arange(1000) / 100.0 - 5.0\n",
      "Y = SigmoidFunction(X)\n",
      "Y = numpy.exp(X*10000)\n",
      "plot(X, Y)\n",
      "print sum(Y==0)\n",
      "print Y[:10]"
     ],
     "language": "python",
     "metadata": {},
     "outputs": [
      {
       "output_type": "stream",
       "stream": "stdout",
       "text": [
        "493\n",
        "[ 0.  0.  0.  0.  0.  0.  0.  0.  0.  0.]\n"
       ]
      },
      {
       "metadata": {},
       "output_type": "display_data",
       "png": "[encoded data removed]",
       "text": [
        "<matplotlib.figure.Figure at 0x1123f6b10>"
       ]
      }
     ],
     "prompt_number": 18
    },
    {
     "cell_type": "code",
     "collapsed": false,
     "input": [],
     "language": "python",
     "metadata": {},
     "outputs": [],
     "prompt_number": 21
    },
    {
     "cell_type": "code",
     "collapsed": false,
     "input": [
      "numpy.array(numpy.floor(numpy.arange(-10, 10, 0.1)), dtype=numpy.int)\n"
     ],
     "language": "python",
     "metadata": {},
     "outputs": [
      {
       "metadata": {},
       "output_type": "pyout",
       "prompt_number": 25,
       "text": [
        "array([-10, -10, -10, -10, -10, -10, -10, -10, -10, -10, -10,  -9,  -9,\n",
        "        -9,  -9,  -9,  -9,  -9,  -9,  -9,  -9,  -8,  -8,  -8,  -8,  -8,\n",
        "        -8,  -8,  -8,  -8,  -8,  -7,  -7,  -7,  -7,  -7,  -7,  -7,  -7,\n",
        "        -7,  -7,  -6,  -6,  -6,  -6,  -6,  -6,  -6,  -6,  -6,  -6,  -5,\n",
        "        -5,  -5,  -5,  -5,  -5,  -5,  -5,  -5,  -5,  -4,  -4,  -4,  -4,\n",
        "        -4,  -4,  -4,  -4,  -4,  -4,  -3,  -3,  -3,  -3,  -3,  -3,  -3,\n",
        "        -3,  -3,  -3,  -2,  -2,  -2,  -2,  -2,  -2,  -2,  -2,  -2,  -2,\n",
        "        -1,  -1,  -1,  -1,  -1,  -1,  -1,  -1,  -1,  -1,   0,   0,   0,\n",
        "         0,   0,   0,   0,   0,   0,   0,   1,   1,   1,   1,   1,   1,\n",
        "         1,   1,   1,   1,   2,   2,   2,   2,   2,   2,   2,   2,   2,\n",
        "         2,   3,   3,   3,   3,   3,   3,   3,   3,   3,   3,   4,   4,\n",
        "         4,   4,   4,   4,   4,   4,   4,   4,   5,   5,   5,   5,   5,\n",
        "         5,   5,   5,   5,   5,   6,   6,   6,   6,   6,   6,   6,   6,\n",
        "         6,   6,   7,   7,   7,   7,   7,   7,   7,   7,   7,   7,   8,\n",
        "         8,   8,   8,   8,   8,   8,   8,   8,   8,   9,   9,   9,   9,\n",
        "         9,   9,   9,   9,   9])"
       ]
      }
     ],
     "prompt_number": 25
    },
    {
     "cell_type": "code",
     "collapsed": false,
     "input": [],
     "language": "python",
     "metadata": {},
     "outputs": []
    }
   ],
   "metadata": {}
  }
 ]
}