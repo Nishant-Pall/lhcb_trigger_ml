{
 "metadata": {
  "name": ""
 },
 "nbformat": 3,
 "nbformat_minor": 0,
 "worksheets": [
  {
   "cells": [
    {
     "cell_type": "code",
     "collapsed": false,
     "input": [
      "dbg = classifiers['unif'].debugdict\n",
      "step = 20\n",
      "print dbg.keys()\n",
      "for i, probas, weights, multipliers, predicts, residual, predicts2 in \\\n",
      "        list( zip(range(len(dbg['probas'])), dbg['probas'], dbg['weight'], dbg['multipliers'], dbg['predicts'], \\\n",
      "                  dbg['residual'], dbg['predictsAfter'] ) )[10::step]:\n",
      "    print 'iteration ', i\n",
      "    isSignal = trainY > 0.5\n",
      "    mass = trainX['column0']\n",
      "    cut = ComputeBDTCut(0.5, isSignal, probas)\n",
      "#     plotVsMass(mass, probas[:,1], isSignal)\n",
      "#     pylab.show()\n",
      "#     plotVsMass(mass, residual, isSignal)\n",
      "#     plotVsMass(mass, predicts, isSignal)\n",
      "#     pylab.show()\n",
      "#     plotVsMass(mass, predicts2, isSignal)\n",
      "#     pylab.show()\n",
      "#     proba_diff = dbg['probas'][i] - dbg['probas'][i-5]\n",
      "#     plotVsMass(mass, proba_diff[:,1], isSignal)\n",
      "    ScoreVariableCorrelation(isSignal, probas[:,1], mass, thresholds=[cut]) \n",
      "    pylab.show()\n",
      "# dbg.keys() \n"
     ],
     "language": "python",
     "metadata": {},
     "outputs": []
    }
   ],
   "metadata": {}
  }
 ]
}